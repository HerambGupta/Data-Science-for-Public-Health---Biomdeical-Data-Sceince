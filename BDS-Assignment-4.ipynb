{
  "nbformat": 4,
  "nbformat_minor": 0,
  "metadata": {
    "colab": {
      "name": "project4.ipynb",
      "provenance": [],
      "collapsed_sections": [],
      "include_colab_link": true
    },
    "kernelspec": {
      "name": "python3",
      "display_name": "Python 3"
    },
    "language_info": {
      "name": "python"
    }
  },
  "cells": [
    {
      "cell_type": "markdown",
      "metadata": {
        "id": "view-in-github",
        "colab_type": "text"
      },
      "source": [
        "<a href=\"https://colab.research.google.com/github/ds4ph-bme/project-4-HerambGupta/blob/main/project4.ipynb\" target=\"_parent\"><img src=\"https://colab.research.google.com/assets/colab-badge.svg\" alt=\"Open In Colab\"/></a>"
      ]
    },
    {
      "cell_type": "markdown",
      "metadata": {
        "id": "D0IKNQMcv7aV"
      },
      "source": [
        "# Project 4\n",
        "1.  Consider the logistic curve \n",
        "$$\n",
        "f(x) = \\frac{e^{\\beta_0 + \\beta_1x}}{1 + e^{\\beta_0 + \\beta_1 x}}.\n",
        "$$\n",
        "Plot the curve for various values of $\\beta_0$ and $\\beta_1$ to see how changing $\\beta_0$ and $\\beta_1$ impact the curve. \n",
        "2.Consider the diamond dataset from [here](https://raw.githubusercontent.com/tidyverse/ggplot2/master/data-raw/diamonds.csv). The documentation for the dataset can be found [here](https://lbelzile.github.io/lineaRmodels/example-price-of-diamonds.html). Fit a linear model with price as the outcome, carat, cut, color and clarity as predictors. For the variables that are not numeric (cut for example), [one hot encode them](https://machinelearningmastery.com/why-one-hot-encode-data-in-machine-learning/). Break your data into (around 25%) testing and (around 75%) training data and evaluate the square root of the mean squared error on your testing data. Use any python function library that you'd like.   \n",
        "3. Consider the covid data analyzed previously. Consider a country. Let $Z_i$ be the case count for day $i$ from the first infection. Let $Y_i$ be an indicator of whether a country's case count went strictly up or down on day $i$. That is, $Y_i = 1$ if $Z_i > Z_{i-1}$ and $Y_i = 0$ if $Z_i \\leq Z_{i-1}$. Consider the logit model\n",
        "$$\n",
        "\\mathrm{logit}\\{P(Y_i = 1)\\} = \\beta_0 + \\beta_1 Z_{i-1} + \\beta_2 Z_{i-2} + \\beta_3 Z_{i-3} + \\beta_4 Z_{i-4}\n",
        "$$\n",
        "In other words, does the previous four days case values predict whether or not the number of cases will go up or down tomorrow? Perform a validation in two ways. Train on the first 75% of days for a country and then consider the accuracy on the last 25%. Call this the within country forecasting accuracy. Secondly, train on 100% of the days for one country and consider the accuracy when applied to a second country. Call this the between country forecasting accuracy. In both cases, calculate the accuracy for a 0.50 threshold.\n"
      ]
    },
    {
      "cell_type": "markdown",
      "metadata": {
        "id": "2pml5M6IjZ8v"
      },
      "source": [
        "#Question 1"
      ]
    },
    {
      "cell_type": "code",
      "metadata": {
        "id": "lyCZC-16jgVN",
        "colab": {
          "base_uri": "https://localhost:8080/",
          "height": 313
        },
        "outputId": "ba8e4435-df83-4189-97c5-424eb0bb49b6"
      },
      "source": [
        "import numpy as np\n",
        "import matplotlib.pyplot as plt\n",
        "\n",
        "\n",
        "def fx(b0,b1):\n",
        "  x=np.arange(50)\n",
        "  return np.exp(b0+b1*x)/(1+np.exp(b0+b1*x))\n",
        "\n",
        "\n",
        "plt.plot(fx(1,1))\n",
        "plt.plot(fx(0,0))\n",
        "plt.plot(fx(-1,-1))\n",
        "plt.legend(['B0= 1,B1=1 ','B0=0,B1=0','B0=-1,B1=-1'])\n",
        "plt.xlabel('X Vector')\n",
        "plt.ylabel(' F(X)')\n",
        "plt.title(' Question 1')"
      ],
      "execution_count": 2,
      "outputs": [
        {
          "output_type": "execute_result",
          "data": {
            "text/plain": [
              "Text(0.5, 1.0, ' Question 1')"
            ]
          },
          "metadata": {},
          "execution_count": 2
        },
        {
          "output_type": "display_data",
          "data": {
            "image/png": "[encoded data removed]",
            "text/plain": [
              "<Figure size 432x288 with 1 Axes>"
            ]
          },
          "metadata": {
            "needs_background": "light"
          }
        }
      ]
    },
    {
      "cell_type": "markdown",
      "metadata": {
        "id": "BLX67k9iukFF"
      },
      "source": [
        "#Question 2"
      ]
    },
    {
      "cell_type": "code",
      "metadata": {
        "id": "vydKzDFZhRo6",
        "colab": {
          "base_uri": "https://localhost:8080/"
        },
        "outputId": "79e61f6f-3d4d-4ef6-f05c-c603d11614a0"
      },
      "source": [
        "import pandas as pd\n",
        "import statsmodels.formula.api as smf\n",
        "from sklearn.linear_model import LinearRegression,LogisticRegression\n",
        "from sklearn.metrics import mean_squared_error\n",
        "import math\n",
        "\n",
        "df=pd.read_csv(\"https://raw.githubusercontent.com/tidyverse/ggplot2/master/data-raw/diamonds.csv\")"
      ],
      "execution_count": 3,
      "outputs": [
        {
          "output_type": "stream",
          "name": "stderr",
          "text": [
            "/usr/local/lib/python3.7/dist-packages/statsmodels/tools/_testing.py:19: FutureWarning: pandas.util.testing is deprecated. Use the functions in the public API at pandas.testing instead.\n",
            "  import pandas.util.testing as tm\n"
          ]
        }
      ]
    },
    {
      "cell_type": "code",
      "metadata": {
        "colab": {
          "base_uri": "https://localhost:8080/"
        },
        "id": "zo7FLsqAuokb",
        "outputId": "4b0d0c6c-ba74-4d71-d442-95fea27d9366"
      },
      "source": [
        "cut_oh=pd.get_dummies(df.iloc[:,1])\n",
        "color_oh=pd.get_dummies(df.iloc[:,2])\n",
        "clarity_oh=pd.get_dummies(df.iloc[:,3])\n",
        "\n",
        "n_df=pd.concat([df,cut_oh,color_oh,clarity_oh],axis=1)\n",
        "n_df=n_df.rename(columns={'Very Good':'VG'})\n",
        "\n",
        "trainFraction = .75\n",
        "sample = np.random.uniform(size = 53940) < trainFraction\n",
        "train = n_df[sample]\n",
        "test = n_df[~sample]\n",
        "\n",
        "X_train=train.drop(['cut','table','color','clarity','depth','price','x','y','z'],axis=1)\n",
        "X_test=test.drop(['cut','table','color','clarity','depth','price','x','y','z'],axis=1)\n",
        "reg = LinearRegression().fit(X_train,train.iloc[:,6])\n",
        "\n",
        "yhat=reg.predict(X_test)\n",
        "s=mean_squared_error(test.iloc[:,6],yhat)\n",
        "s=math.sqrt(s)\n",
        "print(\"The root mean squared error is\",s)"
      ],
      "execution_count": 22,
      "outputs": [
        {
          "output_type": "stream",
          "name": "stdout",
          "text": [
            "The root mean squared error is 1161.4585261430625\n"
          ]
        }
      ]
    },
    {
      "cell_type": "markdown",
      "metadata": {
        "id": "GgyytIJ20Yzc"
      },
      "source": [
        "#Question 3"
      ]
    },
    {
      "cell_type": "code",
      "metadata": {
        "id": "1pXVoNL835ID"
      },
      "source": [
        "import statsmodels as sm\n",
        "\n",
        "dat=pd.read_csv('https://raw.githubusercontent.com/CSSEGISandData/COVID-19/master/csse_covid_19_data/csse_covid_19_time_series/time_series_covid19_confirmed_global.csv')\n"
      ],
      "execution_count": 4,
      "outputs": []
    },
    {
      "cell_type": "code",
      "metadata": {
        "id": "kv27XGTF0bMQ"
      },
      "source": [
        "x=dat[dat['Country/Region'] == 'Italy'].drop([\"Province/State\", \"Country/Region\", \"Lat\", \"Long\"], axis=1).unstack()\n",
        "## convert from tuple to array\n",
        "x = np.asarray(x)  \n",
        "## get case counts instead of cumulative counts\n",
        "x = x[1 : x.size] - x[0 : (x.size - 1)]\n",
        "## get the first non zero entry\n",
        "x =  x[np.min(np.where(x !=  0)) : x.size]\n",
        "n=len(x)\n",
        "y=np.zeros(n)\n",
        "for i in range(n-1):\n",
        "  if(x[i+1]>x[i]):\n",
        "    y[i]=1\n",
        "\n",
        "\n",
        "#Within country forecasting\n",
        "trainFraction = .75\n",
        "sample = np.random.uniform(size = n) < trainFraction\n",
        "x_train = x[sample]\n",
        "x_test = x[~sample]\n",
        "y_train=y[sample]\n",
        "y_test=y[~sample]\n",
        "\n",
        "x_f=[]\n",
        "flag=[0 ,0 ,0 ,0]\n",
        "x_f.append(flag)\n",
        "x_f.append(flag)\n",
        "x_f.append(flag)\n",
        "x_f.append(flag)\n",
        "\n",
        "for i in range(4,len(x_train)):\n",
        "  t=[]\n",
        "  t.append(x_train[i-4])\n",
        "  t.append(x_train[i-3])\n",
        "  t.append(x_train[i-2])\n",
        "  t.append(x_train[i-1])\n",
        "  x_f.append(t)\n",
        "  \n",
        "\n",
        "log_reg=LogisticRegression().fit(x_f,y_train)\n",
        "\n",
        "x_f_test=[]\n",
        "flag=[0 ,0 ,0 ,0]\n",
        "x_f_test.append(flag)\n",
        "x_f_test.append(flag)\n",
        "x_f_test.append(flag)\n",
        "x_f_test.append(flag)\n",
        "\n",
        "for i in range(4,len(x_test)):\n",
        "  t=[]\n",
        "  t.append(x_test[i-4])\n",
        "  t.append(x_test[i-3])\n",
        "  t.append(x_test[i-2])\n",
        "  t.append(x_test[i-1])\n",
        "  x_f_test.append(t)\n",
        "  \n",
        "\n",
        "y_hat=log_reg.predict(x_f_test)\n",
        "\n",
        "country_acc_1=np.mean(y_hat == y_test)"
      ],
      "execution_count": 5,
      "outputs": []
    },
    {
      "cell_type": "code",
      "metadata": {
        "colab": {
          "base_uri": "https://localhost:8080/"
        },
        "id": "jGMa3niNFCQM",
        "outputId": "a95e637c-cb92-491e-f6ae-a3059563612c"
      },
      "source": [
        "#Cross Country Accuracy\n",
        "\n",
        "\n",
        "#Creating Testing Data\n",
        "xx=dat[dat['Country/Region'] == 'Zambia'].drop([\"Province/State\", \"Country/Region\", \"Lat\", \"Long\"], axis=1).unstack()\n",
        "## convert from tuple to array\n",
        "xx = np.asarray(xx)  \n",
        "## get case counts instead of cumulative counts\n",
        "xx = xx[1 : xx.size] - xx[0 : (xx.size - 1)]\n",
        "## get the first non zero entry\n",
        "xx =  xx[np.min(np.where(xx !=  0)) : xx.size]\n",
        "n=len(xx)\n",
        "yx=np.zeros(n)\n",
        "for i in range(n-1):\n",
        "  if(xx[i+1]>xx[i]):\n",
        "    yx[i]=1\n",
        "\n",
        "xx_f=[]\n",
        "flag=[0 ,0 ,0 ,0]\n",
        "xx_f.append(flag)\n",
        "xx_f.append(flag)\n",
        "xx_f.append(flag)\n",
        "xx_f.append(flag)\n",
        "\n",
        "for i in range(4,len(xx)):\n",
        "  t=[]\n",
        "  t.append(xx[i-4])\n",
        "  t.append(xx[i-3])\n",
        "  t.append(xx[i-2])\n",
        "  t.append(xx[i-1])\n",
        "  xx_f.append(t)\n",
        "\n",
        "#Creating Training Data\n",
        "x_f=[]\n",
        "flag=[0 ,0 ,0 ,0]\n",
        "x_f.append(flag)\n",
        "x_f.append(flag)\n",
        "x_f.append(flag)\n",
        "x_f.append(flag)\n",
        "\n",
        "for i in range(4,len(x)):\n",
        "  t=[]\n",
        "  t.append(x[i-4])\n",
        "  t.append(x[i-3])\n",
        "  t.append(x[i-2])\n",
        "  t.append(x[i-1])\n",
        "  x_f.append(t)\n",
        "\n",
        "log_reg=LogisticRegression().fit(x_f,y)\n",
        "y_hat=log_reg.predict(xx_f)\n",
        "\n",
        "between_acc_1=np.mean(y_hat == yx)\n",
        "print('The within country forecasting accuracy is {0}'.format(country_acc_1))\n",
        "print('The between country forecasting accuracy is {0}'.format(between_acc_1))"
      ],
      "execution_count": 8,
      "outputs": [
        {
          "output_type": "stream",
          "name": "stdout",
          "text": [
            "The within country forecasting accuracy is 0.42441860465116277\n",
            "The between country forecasting accuracy is 0.5224416517055656\n"
          ]
        }
      ]
    }
  ]
}