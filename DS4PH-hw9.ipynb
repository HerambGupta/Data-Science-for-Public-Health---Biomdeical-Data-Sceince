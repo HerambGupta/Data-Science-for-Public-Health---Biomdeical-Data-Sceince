{
  "nbformat": 4,
  "nbformat_minor": 0,
  "metadata": {
    "colab": {
      "name": "Homework 9 DS4PH.ipynb",
      "provenance": [],
      "collapsed_sections": []
    },
    "kernelspec": {
      "name": "python3",
      "display_name": "Python 3"
    },
    "language_info": {
      "name": "python"
    }
  },
  "cells": [
    {
      "cell_type": "code",
      "execution_count": 68,
      "metadata": {
        "id": "MS-z2E718sxP"
      },
      "outputs": [],
      "source": [
        "import pandas as pd\n",
        "import numpy as np\n",
        "import statsmodels.formula.api as smf\n",
        "from sklearn.linear_model import LinearRegression\n",
        "import sklearn.linear_model as lm\n",
        "import matplotlib.pyplot as plt\n",
        "from datetime import datetime as dt\n",
        "import torch"
      ]
    },
    {
      "cell_type": "code",
      "source": [
        "data=pd.read_csv(\"https://raw.githubusercontent.com/CSSEGISandData/COVID-19/master/csse_covid_19_data/csse_covid_19_time_series/time_series_covid19_confirmed_global.csv\")"
      ],
      "metadata": {
        "id": "Jh-OSgHQ9DOF"
      },
      "execution_count": 69,
      "outputs": []
    },
    {
      "cell_type": "code",
      "source": [
        "#Extracting cases for India\n",
        "\n",
        "india=data.loc[data['Country/Region']=='Nepal']\n",
        "india=india.drop(['Province/State','Country/Region','Lat','Long'],axis=1)\n",
        "india=india.transpose()\n",
        "india.reset_index(level=0, inplace=True)\n",
        "india.columns=['Date','Cases']\n",
        "india=india.loc[india.Cases>0]\n",
        "\n",
        "#Converting Cumulative Counts to Daily Cases\n",
        "\n",
        "arr=np.zeros(india.shape[0])\n",
        "arr[0]=india.iloc[0,1]\n",
        "for i in range(1,india.shape[0]):\n",
        "  arr[i]=int(india.iloc[i,1]-india.iloc[i-1,1])\n",
        "\n",
        "india['Cases']=arr\n",
        "\n",
        "#Converting Dates to Date time variable for ease of plotting\n",
        "for i in range(india.shape[0]):\n",
        "  india.Date.iloc[i]=dt.strptime(india.Date.iloc[i],\"%m/%d/%y\")"
      ],
      "metadata": {
        "colab": {
          "base_uri": "https://localhost:8080/"
        },
        "id": "x4d0IGlP9Qby",
        "outputId": "3956254e-a286-45f4-fd0f-bcf759ac9b28"
      },
      "execution_count": 84,
      "outputs": [
        {
          "output_type": "stream",
          "name": "stderr",
          "text": [
            "/usr/local/lib/python3.7/dist-packages/pandas/core/indexing.py:1732: SettingWithCopyWarning: \n",
            "A value is trying to be set on a copy of a slice from a DataFrame\n",
            "\n",
            "See the caveats in the documentation: https://pandas.pydata.org/pandas-docs/stable/user_guide/indexing.html#returning-a-view-versus-a-copy\n",
            "  self._setitem_single_block(indexer, value, name)\n"
          ]
        }
      ]
    },
    {
      "cell_type": "code",
      "source": [
        "india.iloc[:,1]=india.iloc[:,1]/10000\n",
        "india"
      ],
      "metadata": {
        "colab": {
          "base_uri": "https://localhost:8080/",
          "height": 423
        },
        "id": "68SWl5MLNUam",
        "outputId": "8cdbe1b9-8f5c-4db6-f4e3-046446dd9d70"
      },
      "execution_count": 85,
      "outputs": [
        {
          "output_type": "execute_result",
          "data": {
            "text/plain": [
              "                    Date   Cases\n",
              "3    2020-01-25 00:00:00  0.0001\n",
              "4    2020-01-26 00:00:00  0.0000\n",
              "5    2020-01-27 00:00:00  0.0000\n",
              "6    2020-01-28 00:00:00  0.0000\n",
              "7    2020-01-29 00:00:00  0.0000\n",
              "..                   ...     ...\n",
              "815  2022-04-16 00:00:00  0.0006\n",
              "816  2022-04-17 00:00:00  0.0011\n",
              "817  2022-04-18 00:00:00  0.0009\n",
              "818  2022-04-19 00:00:00  0.0010\n",
              "819  2022-04-20 00:00:00  0.0009\n",
              "\n",
              "[817 rows x 2 columns]"
            ],
            "text/html": [
              "\n",
              "  <div id=\"df-0bfa803f-48b6-4d4a-baca-a6e8d1c160d3\">\n",
              "    <div class=\"colab-df-container\">\n",
              "      <div>\n",
              "<style scoped>\n",
              "    .dataframe tbody tr th:only-of-type {\n",
              "        vertical-align: middle;\n",
              "    }\n",
              "\n",
              "    .dataframe tbody tr th {\n",
              "        vertical-align: top;\n",
              "    }\n",
              "\n",
              "    .dataframe thead th {\n",
              "        text-align: right;\n",
              "    }\n",
              "</style>\n",
              "<table border=\"1\" class=\"dataframe\">\n",
              "  <thead>\n",
              "    <tr style=\"text-align: right;\">\n",
              "      <th></th>\n",
              "      <th>Date</th>\n",
              "      <th>Cases</th>\n",
              "    </tr>\n",
              "  </thead>\n",
              "  <tbody>\n",
              "    <tr>\n",
              "      <th>3</th>\n",
              "      <td>2020-01-25 00:00:00</td>\n",
              "      <td>0.0001</td>\n",
              "    </tr>\n",
              "    <tr>\n",
              "      <th>4</th>\n",
              "      <td>2020-01-26 00:00:00</td>\n",
              "      <td>0.0000</td>\n",
              "    </tr>\n",
              "    <tr>\n",
              "      <th>5</th>\n",
              "      <td>2020-01-27 00:00:00</td>\n",
              "      <td>0.0000</td>\n",
              "    </tr>\n",
              "    <tr>\n",
              "      <th>6</th>\n",
              "      <td>2020-01-28 00:00:00</td>\n",
              "      <td>0.0000</td>\n",
              "    </tr>\n",
              "    <tr>\n",
              "      <th>7</th>\n",
              "      <td>2020-01-29 00:00:00</td>\n",
              "      <td>0.0000</td>\n",
              "    </tr>\n",
              "    <tr>\n",
              "      <th>...</th>\n",
              "      <td>...</td>\n",
              "      <td>...</td>\n",
              "    </tr>\n",
              "    <tr>\n",
              "      <th>815</th>\n",
              "      <td>2022-04-16 00:00:00</td>\n",
              "      <td>0.0006</td>\n",
              "    </tr>\n",
              "    <tr>\n",
              "      <th>816</th>\n",
              "      <td>2022-04-17 00:00:00</td>\n",
              "      <td>0.0011</td>\n",
              "    </tr>\n",
              "    <tr>\n",
              "      <th>817</th>\n",
              "      <td>2022-04-18 00:00:00</td>\n",
              "      <td>0.0009</td>\n",
              "    </tr>\n",
              "    <tr>\n",
              "      <th>818</th>\n",
              "      <td>2022-04-19 00:00:00</td>\n",
              "      <td>0.0010</td>\n",
              "    </tr>\n",
              "    <tr>\n",
              "      <th>819</th>\n",
              "      <td>2022-04-20 00:00:00</td>\n",
              "      <td>0.0009</td>\n",
              "    </tr>\n",
              "  </tbody>\n",
              "</table>\n",
              "<p>817 rows × 2 columns</p>\n",
              "</div>\n",
              "      <button class=\"colab-df-convert\" onclick=\"convertToInteractive('df-0bfa803f-48b6-4d4a-baca-a6e8d1c160d3')\"\n",
              "              title=\"Convert this dataframe to an interactive table.\"\n",
              "              style=\"display:none;\">\n",
              "        \n",
              "  <svg xmlns=\"http://www.w3.org/2000/svg\" height=\"24px\"viewBox=\"0 0 24 24\"\n",
              "       width=\"24px\">\n",
              "    <path d=\"M0 0h24v24H0V0z\" fill=\"none\"/>\n",
              "    <path d=\"M18.56 5.44l.94 2.06.94-2.06 2.06-.94-2.06-.94-.94-2.06-.94 2.06-2.06.94zm-11 1L8.5 8.5l.94-2.06 2.06-.94-2.06-.94L8.5 2.5l-.94 2.06-2.06.94zm10 10l.94 2.06.94-2.06 2.06-.94-2.06-.94-.94-2.06-.94 2.06-2.06.94z\"/><path d=\"M17.41 7.96l-1.37-1.37c-.4-.4-.92-.59-1.43-.59-.52 0-1.04.2-1.43.59L10.3 9.45l-7.72 7.72c-.78.78-.78 2.05 0 2.83L4 21.41c.39.39.9.59 1.41.59.51 0 1.02-.2 1.41-.59l7.78-7.78 2.81-2.81c.8-.78.8-2.07 0-2.86zM5.41 20L4 18.59l7.72-7.72 1.47 1.35L5.41 20z\"/>\n",
              "  </svg>\n",
              "      </button>\n",
              "      \n",
              "  <style>\n",
              "    .colab-df-container {\n",
              "      display:flex;\n",
              "      flex-wrap:wrap;\n",
              "      gap: 12px;\n",
              "    }\n",
              "\n",
              "    .colab-df-convert {\n",
              "      background-color: #E8F0FE;\n",
              "      border: none;\n",
              "      border-radius: 50%;\n",
              "      cursor: pointer;\n",
              "      display: none;\n",
              "      fill: #1967D2;\n",
              "      height: 32px;\n",
              "      padding: 0 0 0 0;\n",
              "      width: 32px;\n",
              "    }\n",
              "\n",
              "    .colab-df-convert:hover {\n",
              "      background-color: #E2EBFA;\n",
              "      box-shadow: 0px 1px 2px rgba(60, 64, 67, 0.3), 0px 1px 3px 1px rgba(60, 64, 67, 0.15);\n",
              "      fill: #174EA6;\n",
              "    }\n",
              "\n",
              "    [theme=dark] .colab-df-convert {\n",
              "      background-color: #3B4455;\n",
              "      fill: #D2E3FC;\n",
              "    }\n",
              "\n",
              "    [theme=dark] .colab-df-convert:hover {\n",
              "      background-color: #434B5C;\n",
              "      box-shadow: 0px 1px 3px 1px rgba(0, 0, 0, 0.15);\n",
              "      filter: drop-shadow(0px 1px 2px rgba(0, 0, 0, 0.3));\n",
              "      fill: #FFFFFF;\n",
              "    }\n",
              "  </style>\n",
              "\n",
              "      <script>\n",
              "        const buttonEl =\n",
              "          document.querySelector('#df-0bfa803f-48b6-4d4a-baca-a6e8d1c160d3 button.colab-df-convert');\n",
              "        buttonEl.style.display =\n",
              "          google.colab.kernel.accessAllowed ? 'block' : 'none';\n",
              "\n",
              "        async function convertToInteractive(key) {\n",
              "          const element = document.querySelector('#df-0bfa803f-48b6-4d4a-baca-a6e8d1c160d3');\n",
              "          const dataTable =\n",
              "            await google.colab.kernel.invokeFunction('convertToInteractive',\n",
              "                                                     [key], {});\n",
              "          if (!dataTable) return;\n",
              "\n",
              "          const docLinkHtml = 'Like what you see? Visit the ' +\n",
              "            '<a target=\"_blank\" href=https://colab.research.google.com/notebooks/data_table.ipynb>data table notebook</a>'\n",
              "            + ' to learn more about interactive tables.';\n",
              "          element.innerHTML = '';\n",
              "          dataTable['output_type'] = 'display_data';\n",
              "          await google.colab.output.renderOutput(dataTable, element);\n",
              "          const docLink = document.createElement('div');\n",
              "          docLink.innerHTML = docLinkHtml;\n",
              "          element.appendChild(docLink);\n",
              "        }\n",
              "      </script>\n",
              "    </div>\n",
              "  </div>\n",
              "  "
            ]
          },
          "metadata": {},
          "execution_count": 85
        }
      ]
    },
    {
      "cell_type": "code",
      "source": [
        "#Function to create lag\n",
        "\n",
        "def lag(arr,n):\n",
        "    s=len(arr)\n",
        "    for i in range(1,s-n+1):\n",
        "        arr[s-i]=arr[s-i-n]\n",
        "        \n",
        "    for i in range(n):\n",
        "        arr[i]=0\n",
        "    \n",
        "    return arr"
      ],
      "metadata": {
        "id": "ZAuSQDjS9Yv5"
      },
      "execution_count": 86,
      "outputs": []
    },
    {
      "cell_type": "code",
      "source": [
        "#Adding Last 5 days cases.\n",
        "\n",
        "c=india.Cases.to_numpy().copy()\n",
        "l=lag(c,1)\n",
        "india['Cases_1']=l\n",
        "\n",
        "c=india.Cases.to_numpy().copy()\n",
        "l=lag(c,2)\n",
        "india['Cases_2']=l\n",
        "\n",
        "c=india.Cases.to_numpy().copy()\n",
        "l=lag(c,3)\n",
        "india['Cases_3']=l\n",
        "\n",
        "c=india.Cases.to_numpy().copy()\n",
        "l=lag(c,4)\n",
        "india['Cases_4']=l\n",
        "\n",
        "c=india.Cases.to_numpy().copy()\n",
        "l=lag(c,5)\n",
        "india['Cases_5']=l"
      ],
      "metadata": {
        "id": "qfmFe2ID9cJ3"
      },
      "execution_count": 87,
      "outputs": []
    },
    {
      "cell_type": "code",
      "source": [
        "india"
      ],
      "metadata": {
        "colab": {
          "base_uri": "https://localhost:8080/",
          "height": 423
        },
        "id": "is8rk1o99epP",
        "outputId": "587e86d8-e273-4234-9959-771a9c9889ae"
      },
      "execution_count": 88,
      "outputs": [
        {
          "output_type": "execute_result",
          "data": {
            "text/plain": [
              "                    Date   Cases  Cases_1  Cases_2  Cases_3  Cases_4  Cases_5\n",
              "3    2020-01-25 00:00:00  0.0001   0.0000   0.0000   0.0000   0.0000   0.0000\n",
              "4    2020-01-26 00:00:00  0.0000   0.0001   0.0000   0.0000   0.0000   0.0000\n",
              "5    2020-01-27 00:00:00  0.0000   0.0000   0.0001   0.0000   0.0000   0.0000\n",
              "6    2020-01-28 00:00:00  0.0000   0.0000   0.0000   0.0001   0.0000   0.0000\n",
              "7    2020-01-29 00:00:00  0.0000   0.0000   0.0000   0.0000   0.0001   0.0000\n",
              "..                   ...     ...      ...      ...      ...      ...      ...\n",
              "815  2022-04-16 00:00:00  0.0006   0.0014   0.0003   0.0015   0.0023   0.0022\n",
              "816  2022-04-17 00:00:00  0.0011   0.0006   0.0014   0.0003   0.0015   0.0023\n",
              "817  2022-04-18 00:00:00  0.0009   0.0011   0.0006   0.0014   0.0003   0.0015\n",
              "818  2022-04-19 00:00:00  0.0010   0.0009   0.0011   0.0006   0.0014   0.0003\n",
              "819  2022-04-20 00:00:00  0.0009   0.0010   0.0009   0.0011   0.0006   0.0014\n",
              "\n",
              "[817 rows x 7 columns]"
            ],
            "text/html": [
              "\n",
              "  <div id=\"df-f9a8127c-76be-49f6-9e63-3a2ca23d156f\">\n",
              "    <div class=\"colab-df-container\">\n",
              "      <div>\n",
              "<style scoped>\n",
              "    .dataframe tbody tr th:only-of-type {\n",
              "        vertical-align: middle;\n",
              "    }\n",
              "\n",
              "    .dataframe tbody tr th {\n",
              "        vertical-align: top;\n",
              "    }\n",
              "\n",
              "    .dataframe thead th {\n",
              "        text-align: right;\n",
              "    }\n",
              "</style>\n",
              "<table border=\"1\" class=\"dataframe\">\n",
              "  <thead>\n",
              "    <tr style=\"text-align: right;\">\n",
              "      <th></th>\n",
              "      <th>Date</th>\n",
              "      <th>Cases</th>\n",
              "      <th>Cases_1</th>\n",
              "      <th>Cases_2</th>\n",
              "      <th>Cases_3</th>\n",
              "      <th>Cases_4</th>\n",
              "      <th>Cases_5</th>\n",
              "    </tr>\n",
              "  </thead>\n",
              "  <tbody>\n",
              "    <tr>\n",
              "      <th>3</th>\n",
              "      <td>2020-01-25 00:00:00</td>\n",
              "      <td>0.0001</td>\n",
              "      <td>0.0000</td>\n",
              "      <td>0.0000</td>\n",
              "      <td>0.0000</td>\n",
              "      <td>0.0000</td>\n",
              "      <td>0.0000</td>\n",
              "    </tr>\n",
              "    <tr>\n",
              "      <th>4</th>\n",
              "      <td>2020-01-26 00:00:00</td>\n",
              "      <td>0.0000</td>\n",
              "      <td>0.0001</td>\n",
              "      <td>0.0000</td>\n",
              "      <td>0.0000</td>\n",
              "      <td>0.0000</td>\n",
              "      <td>0.0000</td>\n",
              "    </tr>\n",
              "    <tr>\n",
              "      <th>5</th>\n",
              "      <td>2020-01-27 00:00:00</td>\n",
              "      <td>0.0000</td>\n",
              "      <td>0.0000</td>\n",
              "      <td>0.0001</td>\n",
              "      <td>0.0000</td>\n",
              "      <td>0.0000</td>\n",
              "      <td>0.0000</td>\n",
              "    </tr>\n",
              "    <tr>\n",
              "      <th>6</th>\n",
              "      <td>2020-01-28 00:00:00</td>\n",
              "      <td>0.0000</td>\n",
              "      <td>0.0000</td>\n",
              "      <td>0.0000</td>\n",
              "      <td>0.0001</td>\n",
              "      <td>0.0000</td>\n",
              "      <td>0.0000</td>\n",
              "    </tr>\n",
              "    <tr>\n",
              "      <th>7</th>\n",
              "      <td>2020-01-29 00:00:00</td>\n",
              "      <td>0.0000</td>\n",
              "      <td>0.0000</td>\n",
              "      <td>0.0000</td>\n",
              "      <td>0.0000</td>\n",
              "      <td>0.0001</td>\n",
              "      <td>0.0000</td>\n",
              "    </tr>\n",
              "    <tr>\n",
              "      <th>...</th>\n",
              "      <td>...</td>\n",
              "      <td>...</td>\n",
              "      <td>...</td>\n",
              "      <td>...</td>\n",
              "      <td>...</td>\n",
              "      <td>...</td>\n",
              "      <td>...</td>\n",
              "    </tr>\n",
              "    <tr>\n",
              "      <th>815</th>\n",
              "      <td>2022-04-16 00:00:00</td>\n",
              "      <td>0.0006</td>\n",
              "      <td>0.0014</td>\n",
              "      <td>0.0003</td>\n",
              "      <td>0.0015</td>\n",
              "      <td>0.0023</td>\n",
              "      <td>0.0022</td>\n",
              "    </tr>\n",
              "    <tr>\n",
              "      <th>816</th>\n",
              "      <td>2022-04-17 00:00:00</td>\n",
              "      <td>0.0011</td>\n",
              "      <td>0.0006</td>\n",
              "      <td>0.0014</td>\n",
              "      <td>0.0003</td>\n",
              "      <td>0.0015</td>\n",
              "      <td>0.0023</td>\n",
              "    </tr>\n",
              "    <tr>\n",
              "      <th>817</th>\n",
              "      <td>2022-04-18 00:00:00</td>\n",
              "      <td>0.0009</td>\n",
              "      <td>0.0011</td>\n",
              "      <td>0.0006</td>\n",
              "      <td>0.0014</td>\n",
              "      <td>0.0003</td>\n",
              "      <td>0.0015</td>\n",
              "    </tr>\n",
              "    <tr>\n",
              "      <th>818</th>\n",
              "      <td>2022-04-19 00:00:00</td>\n",
              "      <td>0.0010</td>\n",
              "      <td>0.0009</td>\n",
              "      <td>0.0011</td>\n",
              "      <td>0.0006</td>\n",
              "      <td>0.0014</td>\n",
              "      <td>0.0003</td>\n",
              "    </tr>\n",
              "    <tr>\n",
              "      <th>819</th>\n",
              "      <td>2022-04-20 00:00:00</td>\n",
              "      <td>0.0009</td>\n",
              "      <td>0.0010</td>\n",
              "      <td>0.0009</td>\n",
              "      <td>0.0011</td>\n",
              "      <td>0.0006</td>\n",
              "      <td>0.0014</td>\n",
              "    </tr>\n",
              "  </tbody>\n",
              "</table>\n",
              "<p>817 rows × 7 columns</p>\n",
              "</div>\n",
              "      <button class=\"colab-df-convert\" onclick=\"convertToInteractive('df-f9a8127c-76be-49f6-9e63-3a2ca23d156f')\"\n",
              "              title=\"Convert this dataframe to an interactive table.\"\n",
              "              style=\"display:none;\">\n",
              "        \n",
              "  <svg xmlns=\"http://www.w3.org/2000/svg\" height=\"24px\"viewBox=\"0 0 24 24\"\n",
              "       width=\"24px\">\n",
              "    <path d=\"M0 0h24v24H0V0z\" fill=\"none\"/>\n",
              "    <path d=\"M18.56 5.44l.94 2.06.94-2.06 2.06-.94-2.06-.94-.94-2.06-.94 2.06-2.06.94zm-11 1L8.5 8.5l.94-2.06 2.06-.94-2.06-.94L8.5 2.5l-.94 2.06-2.06.94zm10 10l.94 2.06.94-2.06 2.06-.94-2.06-.94-.94-2.06-.94 2.06-2.06.94z\"/><path d=\"M17.41 7.96l-1.37-1.37c-.4-.4-.92-.59-1.43-.59-.52 0-1.04.2-1.43.59L10.3 9.45l-7.72 7.72c-.78.78-.78 2.05 0 2.83L4 21.41c.39.39.9.59 1.41.59.51 0 1.02-.2 1.41-.59l7.78-7.78 2.81-2.81c.8-.78.8-2.07 0-2.86zM5.41 20L4 18.59l7.72-7.72 1.47 1.35L5.41 20z\"/>\n",
              "  </svg>\n",
              "      </button>\n",
              "      \n",
              "  <style>\n",
              "    .colab-df-container {\n",
              "      display:flex;\n",
              "      flex-wrap:wrap;\n",
              "      gap: 12px;\n",
              "    }\n",
              "\n",
              "    .colab-df-convert {\n",
              "      background-color: #E8F0FE;\n",
              "      border: none;\n",
              "      border-radius: 50%;\n",
              "      cursor: pointer;\n",
              "      display: none;\n",
              "      fill: #1967D2;\n",
              "      height: 32px;\n",
              "      padding: 0 0 0 0;\n",
              "      width: 32px;\n",
              "    }\n",
              "\n",
              "    .colab-df-convert:hover {\n",
              "      background-color: #E2EBFA;\n",
              "      box-shadow: 0px 1px 2px rgba(60, 64, 67, 0.3), 0px 1px 3px 1px rgba(60, 64, 67, 0.15);\n",
              "      fill: #174EA6;\n",
              "    }\n",
              "\n",
              "    [theme=dark] .colab-df-convert {\n",
              "      background-color: #3B4455;\n",
              "      fill: #D2E3FC;\n",
              "    }\n",
              "\n",
              "    [theme=dark] .colab-df-convert:hover {\n",
              "      background-color: #434B5C;\n",
              "      box-shadow: 0px 1px 3px 1px rgba(0, 0, 0, 0.15);\n",
              "      filter: drop-shadow(0px 1px 2px rgba(0, 0, 0, 0.3));\n",
              "      fill: #FFFFFF;\n",
              "    }\n",
              "  </style>\n",
              "\n",
              "      <script>\n",
              "        const buttonEl =\n",
              "          document.querySelector('#df-f9a8127c-76be-49f6-9e63-3a2ca23d156f button.colab-df-convert');\n",
              "        buttonEl.style.display =\n",
              "          google.colab.kernel.accessAllowed ? 'block' : 'none';\n",
              "\n",
              "        async function convertToInteractive(key) {\n",
              "          const element = document.querySelector('#df-f9a8127c-76be-49f6-9e63-3a2ca23d156f');\n",
              "          const dataTable =\n",
              "            await google.colab.kernel.invokeFunction('convertToInteractive',\n",
              "                                                     [key], {});\n",
              "          if (!dataTable) return;\n",
              "\n",
              "          const docLinkHtml = 'Like what you see? Visit the ' +\n",
              "            '<a target=\"_blank\" href=https://colab.research.google.com/notebooks/data_table.ipynb>data table notebook</a>'\n",
              "            + ' to learn more about interactive tables.';\n",
              "          element.innerHTML = '';\n",
              "          dataTable['output_type'] = 'display_data';\n",
              "          await google.colab.output.renderOutput(dataTable, element);\n",
              "          const docLink = document.createElement('div');\n",
              "          docLink.innerHTML = docLinkHtml;\n",
              "          element.appendChild(docLink);\n",
              "        }\n",
              "      </script>\n",
              "    </div>\n",
              "  </div>\n",
              "  "
            ]
          },
          "metadata": {},
          "execution_count": 88
        }
      ]
    },
    {
      "cell_type": "code",
      "source": [
        "#Defining the structure of the neural network. \n",
        "H=2 #Number of nodes in the hidden layer\n",
        "D_in = 5 #Number of input nodes i.e. 5 input features\n",
        "D_out = 1 #Number of Output\n",
        "\n",
        "model = torch.nn.Sequential(\n",
        "    torch.nn.Linear(D_in, H),\n",
        "    torch.nn.ReLU(),  \n",
        "    torch.nn.Linear(H, D_out)\n",
        ")"
      ],
      "metadata": {
        "id": "m254KbvTFBTA"
      },
      "execution_count": 89,
      "outputs": []
    },
    {
      "cell_type": "markdown",
      "source": [
        "# In Sample Error"
      ],
      "metadata": {
        "id": "7Ud4OAojuozl"
      }
    },
    {
      "cell_type": "code",
      "source": [
        "x = torch.from_numpy(india[['Cases_1','Cases_2', 'Cases_3', 'Cases_4', 'Cases_5', ]].values)\n",
        "y = torch.from_numpy(india[['Cases']].values)\n",
        "x = x.float()\n",
        "y = y.float()\n",
        "#x=torch.nn.functional.normalize(x)\n",
        "#y=torch.nn.functional.normalize(y)"
      ],
      "metadata": {
        "id": "pLkPjfXG9fhd"
      },
      "execution_count": 90,
      "outputs": []
    },
    {
      "cell_type": "code",
      "source": [
        "#Training on whole of the data\n",
        "#Using Mean Absolute Error Loss Function\n",
        "\n",
        "loss_fn = torch.nn.MSELoss(reduction='sum') \n",
        "\n",
        "learning_rate = 1e-4\n",
        "for t in range(100000):\n",
        "    y_pred = model(x)\n",
        "    loss = loss_fn(y_pred, y)\n",
        "    if t % 10000 == 0:\n",
        "      print(t, loss.item())\n",
        "    model.zero_grad()\n",
        "    loss.backward()\n",
        "    with torch.no_grad():\n",
        "        for param in model.parameters():\n",
        "            param -= learning_rate * param.grad"
      ],
      "metadata": {
        "id": "osw4Gz4PFkvS",
        "colab": {
          "base_uri": "https://localhost:8080/"
        },
        "outputId": "c1e705f0-f6df-42f9-91b2-7e903303ae82"
      },
      "execution_count": 98,
      "outputs": [
        {
          "output_type": "stream",
          "name": "stdout",
          "text": [
            "0 2.1075844764709473\n",
            "10000 1.6756527423858643\n",
            "20000 1.671614170074463\n",
            "30000 1.671035885810852\n",
            "40000 1.6705636978149414\n",
            "50000 1.6701252460479736\n",
            "60000 1.6697275638580322\n",
            "70000 1.6693589687347412\n",
            "80000 1.669026255607605\n",
            "90000 1.6687122583389282\n"
          ]
        }
      ]
    },
    {
      "cell_type": "code",
      "source": [
        "#Calculating the predicted value\n",
        "y_pred=model(x)\n",
        "\n",
        "a = y_pred.detach().numpy()\n",
        "\n",
        "plt.scatter(a[:,0], y[:,0])"
      ],
      "metadata": {
        "id": "Xrsz44CQFur_",
        "colab": {
          "base_uri": "https://localhost:8080/",
          "height": 283
        },
        "outputId": "01861901-f8ab-42e4-834a-bac62409c1b1"
      },
      "execution_count": 99,
      "outputs": [
        {
          "output_type": "execute_result",
          "data": {
            "text/plain": [
              "<matplotlib.collections.PathCollection at 0x7fcd7973c090>"
            ]
          },
          "metadata": {},
          "execution_count": 99
        },
        {
          "output_type": "display_data",
          "data": {
            "text/plain": [
              "<Figure size 432x288 with 1 Axes>"
            ],
            "image/png": "[encoded data removed]"
          },
          "metadata": {
            "needs_background": "light"
          }
        }
      ]
    },
    {
      "cell_type": "code",
      "source": [
        "fig=plt.figure(figsize=(30,10))\n",
        "plt.bar(india.Date,(y-y_pred).detach().numpy().reshape(-1))\n",
        "plt.title(\"In Sample Error\")\n",
        "plt.xlabel(\"Error\")\n",
        "plt.ylabel(\"Date\")\n",
        "err=np.mean((y-y_pred).detach().numpy().reshape(-1))\n",
        "print(\"Error is \"+str(err*100))"
      ],
      "metadata": {
        "colab": {
          "base_uri": "https://localhost:8080/",
          "height": 587
        },
        "id": "fcqm5jlgGhHn",
        "outputId": "cdf687a7-24d4-4048-e21e-fcb795e225d4"
      },
      "execution_count": 100,
      "outputs": [
        {
          "output_type": "stream",
          "name": "stdout",
          "text": [
            "Error is -0.002314039011253044\n"
          ]
        },
        {
          "output_type": "display_data",
          "data": {
            "text/plain": [
              "<Figure size 2160x720 with 1 Axes>"
            ],
            "image/png": "[encoded data removed]"
          },
          "metadata": {
            "needs_background": "light"
          }
        }
      ]
    },
    {
      "cell_type": "code",
      "source": [
        "y_train=india[['Cases']].iloc[0:int(len(y)/2)]\n",
        "x_train=india.drop(['Date', 'Cases'], axis=1).iloc[0:int(len(y)/2),:]\n",
        "y_test=india[['Cases']].iloc[int(len(y)/2):]\n",
        "x_test=india.drop(['Date', 'Cases'], axis=1).iloc[int(len(y)/2):,:]\n",
        "\n",
        "y_train=torch.from_numpy(y_train.values)\n",
        "x_train=torch.from_numpy(x_train.values)\n",
        "y_test=torch.from_numpy(y_test.values)\n",
        "x_test=torch.from_numpy(x_test.values)\n",
        "\n",
        "x_test=x_test.float()\n",
        "x_train=x_train.float()\n",
        "y_train=y_train.float()\n",
        "y_test=y_test.float()\n",
        "#y_train=torch.nn.functional.normalize(y_train)\n",
        "#y_test=torch.nn.functional.normalize(y_test)\n",
        "#x_test=torch.nn.functional.normalize(x_test)\n",
        "#x_train=torch.nn.functional.normalize(x_train)"
      ],
      "metadata": {
        "id": "FuybwMiCEr6B"
      },
      "execution_count": 94,
      "outputs": []
    },
    {
      "cell_type": "code",
      "source": [
        "#Training on first half of the data\n",
        "#Using Mean Absolute Error Loss Function\n",
        "\n",
        "loss_fn = torch.nn.MSELoss(reduction='sum') \n",
        "\n",
        "learning_rate = 1e-4\n",
        "for t in range(100000):\n",
        "    y_pred = model(x_train)\n",
        "    loss = loss_fn(y_pred, y_train)\n",
        "    if t % 10000 == 0:\n",
        "      print(t, loss.item())\n",
        "    model.zero_grad()\n",
        "    loss.backward()\n",
        "    with torch.no_grad():\n",
        "        for param in model.parameters():\n",
        "            param -= learning_rate * param.grad"
      ],
      "metadata": {
        "colab": {
          "base_uri": "https://localhost:8080/"
        },
        "id": "6LkCmmsoz-IV",
        "outputId": "9d651714-202f-4ae2-8e6f-da4dab2be2dd"
      },
      "execution_count": 95,
      "outputs": [
        {
          "output_type": "stream",
          "name": "stdout",
          "text": [
            "0 0.6088950634002686\n",
            "10000 0.5071234703063965\n",
            "20000 0.4956214129924774\n",
            "30000 0.49326807260513306\n",
            "40000 0.4926978051662445\n",
            "50000 0.4925464987754822\n",
            "60000 0.4925033152103424\n",
            "70000 0.49249032139778137\n",
            "80000 0.4924861788749695\n",
            "90000 0.4924847483634949\n"
          ]
        }
      ]
    },
    {
      "cell_type": "code",
      "source": [
        "#Calculating the predicted value\n",
        "y_pred=model(x_test)\n",
        "\n",
        "a = y_pred.detach().numpy()\n",
        "\n",
        "plt.scatter(a[:,0], y_test[:,0])"
      ],
      "metadata": {
        "id": "AfBeuwjV0PLb",
        "colab": {
          "base_uri": "https://localhost:8080/",
          "height": 283
        },
        "outputId": "aa3b8191-c1e3-4717-eae4-17410765e83a"
      },
      "execution_count": 96,
      "outputs": [
        {
          "output_type": "execute_result",
          "data": {
            "text/plain": [
              "<matplotlib.collections.PathCollection at 0x7fcd7c5969d0>"
            ]
          },
          "metadata": {},
          "execution_count": 96
        },
        {
          "output_type": "display_data",
          "data": {
            "text/plain": [
              "<Figure size 432x288 with 1 Axes>"
            ],
            "image/png": "[encoded data removed]"
          },
          "metadata": {
            "needs_background": "light"
          }
        }
      ]
    },
    {
      "cell_type": "code",
      "source": [
        "fig=plt.figure(figsize=(30,10))\n",
        "plt.bar(india.Date.iloc[int(len(y)/2):],(y_test-y_pred).detach().numpy().reshape(-1))\n",
        "plt.title(\"Forecasting Error\")\n",
        "plt.xlabel(\"Error\")\n",
        "plt.ylabel(\"Date\")\n",
        "acc=np.mean((y_test-y_pred).detach().numpy().reshape(-1))\n",
        "print(\"Error is \"+str(acc*100))"
      ],
      "metadata": {
        "colab": {
          "base_uri": "https://localhost:8080/",
          "height": 587
        },
        "id": "V8cJFYmV3X-i",
        "outputId": "1b7f2ca9-f13f-4f04-c467-ed58b5fb3bad"
      },
      "execution_count": 97,
      "outputs": [
        {
          "output_type": "stream",
          "name": "stdout",
          "text": [
            "Error is 0.6250513251870871\n"
          ]
        },
        {
          "output_type": "display_data",
          "data": {
            "text/plain": [
              "<Figure size 2160x720 with 1 Axes>"
            ],
            "image/png": "[encoded data removed]"
          },
          "metadata": {
            "needs_background": "light"
          }
        }
      ]
    },
    {
      "cell_type": "code",
      "source": [
        ""
      ],
      "metadata": {
        "id": "0olZEof65W73"
      },
      "execution_count": 15,
      "outputs": []
    }
  ]
}