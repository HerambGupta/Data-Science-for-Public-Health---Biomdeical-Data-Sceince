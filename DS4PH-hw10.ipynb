{
  "nbformat": 4,
  "nbformat_minor": 0,
  "metadata": {
    "colab": {
      "name": "DS4PH HW 10",
      "provenance": [],
      "collapsed_sections": []
    },
    "kernelspec": {
      "name": "python3",
      "display_name": "Python 3"
    },
    "language_info": {
      "name": "python"
    }
  },
  "cells": [
    {
      "cell_type": "markdown",
      "metadata": {
        "id": "ZXWm-EgV67Pg"
      },
      "source": [
        "# OH NO\n",
        "\n",
        "A virus is coming where 50% of the cryptopunks will have contracted a disease where they get a white spot. The code below generates the disease. Your job is as follows\n",
        "\n",
        "1. Generate the data as below\n",
        "2. Train a convolutional neural network to classify punks as diseased or not\n",
        "   1. Create training and validation sets. Contrast in the sensitivity, specificity and accuracy in both sets.\n",
        "   2. Visualize some of your algorithm's mistakes (in both directions) and describe what is happening. In other words, consider punks declared very likely to have a cancer that did not and ones that did not have a cancer that it declared very likely that they did. Plot those. Is there a reason why it seems like it's so wrong for these cases?\n",
        "   3. Create a python function that takes in an np image array just like the cancerpunks one below and gives probabilities that that punk has this disease."
      ]
    },
    {
      "cell_type": "code",
      "metadata": {
        "id": "cv9HM_C4COJ-"
      },
      "source": [
        "\n",
        "import urllib.request\n",
        "import PIL\n",
        "import matplotlib.pyplot as plt\n",
        "import numpy as np\n",
        "import tensorflow as tf\n",
        "from tensorflow.keras import layers, models, losses\n",
        "\n",
        "## Open the image\n",
        "imgURL = \"https://raw.githubusercontent.com/larvalabs/cryptopunks/master/punks.png\"\n",
        "urllib.request.urlretrieve(imgURL, \"cryptoPunksAll.jpg\")\n",
        "img = PIL.Image.open(\"cryptoPunksAll.jpg\").convert(\"RGB\")\n",
        "imgArray = np.asarray(img)\n",
        "\n",
        "n = 10000\n",
        "\n",
        "finalArray = np.empty((n, 24, 24, 3))\n",
        "for i in range(100):\n",
        "  for j in range(100):\n",
        "    a, b = 24 * i, 24 * (i + 1)  \n",
        "    c, d = 24 * j, 24 * (j + 1) \n",
        "    idx = j + i * (100)\n",
        "    finalArray[idx,:,:,:] = imgArray[a:b,c:d,:]\n"
      ],
      "execution_count": 1,
      "outputs": []
    },
    {
      "cell_type": "markdown",
      "metadata": {
        "id": "fenTsDeSEImT"
      },
      "source": [
        "Our doctors have determined this is the region where the lesion occurs."
      ]
    },
    {
      "cell_type": "code",
      "metadata": {
        "colab": {
          "base_uri": "https://localhost:8080/",
          "height": 283
        },
        "id": "6p1oknq57G6y",
        "outputId": "33f2f913-cd91-4ecc-e2c5-7f137598f18b"
      },
      "source": [
        "\n",
        "temp  =  finalArray[0,:,:,:].copy()\n",
        "\n",
        "d2min, d2max = 9,14 \n",
        "d1min, d1max = 11,17\n",
        "\n",
        "temp[d1min : (d1max + 1), d2min : (d2max + 1)] = 255\n",
        "\n",
        "plt.imshow(temp.astype('uint8'))\n",
        "\n"
      ],
      "execution_count": 2,
      "outputs": [
        {
          "output_type": "execute_result",
          "data": {
            "text/plain": [
              "<matplotlib.image.AxesImage at 0x7f9fe5f395d0>"
            ]
          },
          "metadata": {},
          "execution_count": 2
        },
        {
          "output_type": "display_data",
          "data": {
            "text/plain": [
              "<Figure size 432x288 with 1 Axes>"
            ],
            "image/png": "[encoded data removed]"
          },
          "metadata": {
            "needs_background": "light"
          }
        }
      ]
    },
    {
      "cell_type": "markdown",
      "source": [
        "# Generating Data for Punks having cancer"
      ],
      "metadata": {
        "id": "WTUkRNqScjzk"
      }
    },
    {
      "cell_type": "code",
      "metadata": {
        "id": "pmJXYveG_gbY"
      },
      "source": [
        "cancerpunks = finalArray.copy()\n",
        "label = np.zeros(n)\n",
        "\n",
        "## Loop over the cryptopunks\n",
        "for i in range(10000):\n",
        "  flip = np.random.randint(0, 2)\n",
        "  if flip is 1:\n",
        "    label[i] = 1\n",
        "    d1loc = np.random.randint(d1min, d1max + 1)\n",
        "    d2loc = np.random.randint(d2min, d2max + 1)\n",
        "    cancerpunks[i,d1loc,d2loc,:] = 255\n",
        "\n"
      ],
      "execution_count": 3,
      "outputs": []
    },
    {
      "cell_type": "code",
      "metadata": {
        "colab": {
          "base_uri": "https://localhost:8080/",
          "height": 594
        },
        "id": "0Gvcr5tbAmvD",
        "outputId": "10a89f39-a4c3-4c95-8601-5020e34ab122"
      },
      "source": [
        "## plot some examples\n",
        "plt.figure(figsize=(10,10))\n",
        "for i in range(25): \n",
        "  plt.subplot(5,5,i+1)\n",
        "  plt.xticks([])\n",
        "  plt.yticks([])\n",
        "  plt.imshow(cancerpunks[i,:,:,:].astype('uint8'))\n",
        "  plt.title(label[i])"
      ],
      "execution_count": 4,
      "outputs": [
        {
          "output_type": "display_data",
          "data": {
            "text/plain": [
              "<Figure size 720x720 with 25 Axes>"
            ],
            "image/png": "[encoded data removed]"
          },
          "metadata": {}
        }
      ]
    },
    {
      "cell_type": "markdown",
      "source": [
        "# Creating Training and Validation Sets"
      ],
      "metadata": {
        "id": "6t_Q9jeMcwKl"
      }
    },
    {
      "cell_type": "code",
      "source": [
        "arr=np.empty((2400,2400,3))\n",
        "\n",
        "for i in range(100):\n",
        "  for j in range(100):\n",
        "    a,b =24*i,24* (i+1)\n",
        "    c,d =24*j,24* (j+1)\n",
        "    idx=j+i *(100)\n",
        "    arr[a:b,c:d,:]=cancerpunks[idx,:,:,:]\n",
        "\n",
        "final = np.empty((10000, 3, 24, 24))\n",
        "for i in range(100):\n",
        "  for j in range(100):\n",
        "    a, b = 24 * i, 24 * (i + 1)  \n",
        "    c, d = 24 * j, 24 * (j + 1) \n",
        "    idx = j + i * (100)\n",
        "    final[idx,0,:,:] = arr[a:b,c:d,0]\n",
        "    final[idx,1,:,:] = arr[a:b,c:d,1]\n",
        "    final[idx,2,:,:] = arr[a:b,c:d,2]\n",
        "\n",
        "n = final.shape[0]\n",
        "trainFraction = .75\n",
        "sample = np.random.uniform(size = n) < trainFraction\n",
        "x_train = final[ sample, :, :, :] / 255\n",
        "x_test =  final[~sample, :, :, :] / 255\n",
        "print([x_train.shape, x_test.shape])\n",
        "\n",
        "y_train = label[sample]\n",
        "y_test =  label[~sample]\n",
        "\n",
        "## Need to have the extra dimension\n",
        "y_train = y_train.reshape(y_train.shape[0], 1)\n",
        "y_test = y_test.reshape(y_test.shape[0], 1)"
      ],
      "metadata": {
        "colab": {
          "base_uri": "https://localhost:8080/"
        },
        "id": "xQe1CureUPTR",
        "outputId": "182b2e3c-5200-4216-b009-b2e1080d33a8"
      },
      "execution_count": 5,
      "outputs": [
        {
          "output_type": "stream",
          "name": "stdout",
          "text": [
            "[(7478, 3, 24, 24), (2522, 3, 24, 24)]\n"
          ]
        }
      ]
    },
    {
      "cell_type": "markdown",
      "source": [
        "# Creating Neural Network"
      ],
      "metadata": {
        "id": "jhDlKEoEc9UD"
      }
    },
    {
      "cell_type": "code",
      "source": [
        "import torch \n",
        "torch.manual_seed(10)\n",
        "import torch.nn as nn\n",
        "import torch.nn.functional as F\n",
        "from torch.utils.data import TensorDataset, DataLoader\n",
        "import torchvision\n",
        "import torchvision.transforms as transforms\n",
        "\n",
        "trainDataset = TensorDataset(torch.Tensor(x_train), torch.Tensor(y_train))\n",
        "trainloader = torch.utils.data.DataLoader(trainDataset, batch_size = 100, shuffle = False, num_workers = 1)"
      ],
      "metadata": {
        "id": "1uNRNjrWW6Hc"
      },
      "execution_count": 6,
      "outputs": []
    },
    {
      "cell_type": "code",
      "source": [
        "class Net(nn.Module):\n",
        "    def __init__(self):\n",
        "        super().__init__()\n",
        "        self.conv1 = nn.Conv2d(3, 6, 5)\n",
        "        self.pool = nn.MaxPool2d(2, 2)\n",
        "        self.conv2 = nn.Conv2d(6, 16, 5)\n",
        "        ## This has to be changed because the size\n",
        "        ## of our inputs is different than the CFAR\n",
        "        ## example. There's is 32x32 and ours is 24x24\n",
        "        ## Also, I changed the rest of the network architecture\n",
        "        ## here\n",
        "        ## Finally, we only have one output.\n",
        "        self.fc1 = nn.Linear(16 * 3 * 3, 64)\n",
        "        self.fc2 = nn.Linear(64, 32)\n",
        "        self.fc3 = nn.Linear(32, 1)\n",
        "\n",
        "    def forward(self, x):\n",
        "        x = self.pool(F.relu(self.conv1(x)))\n",
        "        x = self.pool(F.relu(self.conv2(x)))\n",
        "        x = torch.flatten(x, 1) # flatten all dimensions except batch\n",
        "        x = F.relu(self.fc1(x))\n",
        "        x = F.relu(self.fc2(x))\n",
        "        x = torch.sigmoid(self.fc3(x))\n",
        "        return x\n",
        "net = Net()"
      ],
      "metadata": {
        "id": "gE0uguF4W9B6"
      },
      "execution_count": 7,
      "outputs": []
    },
    {
      "cell_type": "code",
      "source": [
        "import torch.optim as optim\n",
        "#criterion = nn.CrossEntropyLoss()\n",
        "criterion = nn.BCELoss()\n",
        "optimizer = optim.SGD(net.parameters(), lr=0.002, momentum=0.9)"
      ],
      "metadata": {
        "id": "r3zCJWlYXA7k"
      },
      "execution_count": 8,
      "outputs": []
    },
    {
      "cell_type": "code",
      "source": [
        "for epoch in range(100):  # loop over the dataset multiple times\n",
        "    running_loss = 0.0\n",
        "    for i, data in enumerate(trainloader, 0):\n",
        "        # get the inputs; data is a list of [inputs, labels]\n",
        "        inputs, labels = data\n",
        "\n",
        "        # zero the parameter gradients\n",
        "        optimizer.zero_grad()\n",
        "\n",
        "        # forward + backward + optimize\n",
        "        outputs = net(inputs)\n",
        "\n",
        "        loss = criterion(outputs, labels)\n",
        "        loss.backward()\n",
        "        optimizer.step()"
      ],
      "metadata": {
        "id": "GXs-gqGwXD8S"
      },
      "execution_count": 9,
      "outputs": []
    },
    {
      "cell_type": "markdown",
      "source": [
        "# Running Neural Network for training and testing data sets. \n",
        "## Insample: Training\n",
        "## Outsample: Testing"
      ],
      "metadata": {
        "id": "DrrQtTqpeIrX"
      }
    },
    {
      "cell_type": "code",
      "source": [
        "insample = net(torch.Tensor(x_train)).detach().numpy()\n",
        "outsample= net(torch.Tensor(x_test)).detach().numpy()\n"
      ],
      "metadata": {
        "id": "YpDiTLtWXGv5"
      },
      "execution_count": 10,
      "outputs": []
    },
    {
      "cell_type": "markdown",
      "source": [
        "# Specificity and Sensitivity in terms of ROC i.e. False Positive Rate and True Positive Rate"
      ],
      "metadata": {
        "id": "JiOImZtfgCwf"
      }
    },
    {
      "cell_type": "code",
      "source": [
        "from sklearn.metrics import accuracy_score, roc_curve, auc\n",
        "fpr, tpr, thresholds = roc_curve(y_train, insample)\n",
        "roc_auc = auc(fpr, tpr)\n",
        "\n",
        "plt.figure()\n",
        "lw = 2\n",
        "plt.plot(fpr, tpr, color='darkorange',\n",
        "         lw=lw, label='ROC curve (area = %0.2f)' % roc_auc)\n",
        "plt.plot([0, 1], [0, 1], color='navy', lw=lw, linestyle='--')\n",
        "plt.xlim([-0.05, 1.05])\n",
        "plt.ylim([-0.05, 1.05])\n",
        "plt.xlabel('False Positive Rate')\n",
        "plt.ylabel('True Positive Rate')\n",
        "plt.title('IN Sample ROC')\n",
        "plt.legend(loc=\"lower right\")\n",
        "plt.show()\n",
        "\n",
        "dist=np.sqrt(((fpr-0)**2)+((tpr-1)**2))\n",
        "j=np.argmin(dist)\n",
        "in_sample_t=thresholds[j]"
      ],
      "metadata": {
        "colab": {
          "base_uri": "https://localhost:8080/",
          "height": 295
        },
        "id": "PwezdWUZZevw",
        "outputId": "63bac87b-d363-4c2f-c59c-ab20831f62e9"
      },
      "execution_count": 19,
      "outputs": [
        {
          "output_type": "display_data",
          "data": {
            "text/plain": [
              "<Figure size 432x288 with 1 Axes>"
            ],
            "image/png": "[encoded data removed]"
          },
          "metadata": {
            "needs_background": "light"
          }
        }
      ]
    },
    {
      "cell_type": "code",
      "source": [
        "fpr, tpr, thresholds = roc_curve(y_test, outsample )\n",
        "roc_auc = auc(fpr, tpr)\n",
        "\n",
        "plt.figure()\n",
        "lw = 2\n",
        "plt.plot(fpr, tpr, color='darkorange',\n",
        "         lw=lw, label='ROC curve (area = %0.2f)' % roc_auc)\n",
        "plt.plot([0, 1], [0, 1], color='navy', lw=lw, linestyle='--')\n",
        "plt.xlim([-0.05, 1.05])\n",
        "plt.ylim([-0.05, 1.05])\n",
        "plt.xlabel('False Positive Rate')\n",
        "plt.ylabel('True Positive Rate')\n",
        "plt.title('OUT SAMPLE ROC')\n",
        "plt.legend(loc=\"lower right\")\n",
        "plt.show()\n",
        "\n",
        "dist=np.sqrt(((fpr-0)**2)+((tpr-1)**2))\n",
        "j=np.argmin(dist)\n",
        "out_sample_t=thresholds[j]"
      ],
      "metadata": {
        "colab": {
          "base_uri": "https://localhost:8080/",
          "height": 295
        },
        "id": "76ivD5M6Ztzq",
        "outputId": "51d380a8-5845-4fb0-b4cd-6a3722984f39"
      },
      "execution_count": 31,
      "outputs": [
        {
          "output_type": "display_data",
          "data": {
            "text/plain": [
              "<Figure size 432x288 with 1 Axes>"
            ],
            "image/png": "[encoded data removed]"
          },
          "metadata": {
            "needs_background": "light"
          }
        }
      ]
    },
    {
      "cell_type": "markdown",
      "source": [
        "# We find the accuarcy at the Operating Point for both situations. The operating point is the point where there is maximum sensitivity and specificity. Point on the ROC Curve closest to the coordinate (0,1).  "
      ],
      "metadata": {
        "id": "WEvAUgwUgSQ5"
      }
    },
    {
      "cell_type": "code",
      "source": [
        "in_y_label=np.zeros(len(insample))\n",
        "out_y_label= np.zeros(len(outsample))\n",
        "\n",
        "in_l=len(insample)\n",
        "out_l=len(outsample)\n",
        "for i in range(in_l):\n",
        "  if insample[i]>in_sample_t:\n",
        "    in_y_label[i]=1\n",
        "\n",
        "for j in range(out_l):\n",
        "  if outsample[j]>in_sample_t:\n",
        "    out_y_label[j]=1\n",
        "\n",
        "in_acc=np.mean(in_y_label==y_train)\n",
        "out_acc=np.mean(out_y_label==y_test)\n",
        "\n",
        "print('Insample Accuracy is ',in_acc)\n",
        "print('Outsample Accuracy is',out_acc)"
      ],
      "metadata": {
        "colab": {
          "base_uri": "https://localhost:8080/"
        },
        "id": "OpgQpe6uXJji",
        "outputId": "7d0c4198-2643-4d3a-fc08-43a1dc6bbd37"
      },
      "execution_count": 34,
      "outputs": [
        {
          "output_type": "stream",
          "name": "stdout",
          "text": [
            "Insample Accuracy is  0.500024534837717\n",
            "Outsample Accuracy is 0.4981058045268253\n"
          ]
        }
      ]
    },
    {
      "cell_type": "code",
      "source": [
        "x_train_new=cancerpunks[sample,:,:,:]\n",
        "x_test_new=cancerpunks[~sample,:,:,:]"
      ],
      "metadata": {
        "id": "9nf-ZGy-XMK4"
      },
      "execution_count": 12,
      "outputs": []
    },
    {
      "cell_type": "code",
      "source": [
        "print('First 25 In Sample Errors')\n",
        "j=0;\n",
        "plt.figure(figsize=(10,10))\n",
        "for i in range(in_l):\n",
        "  if(in_y_label[i]!=y_train[i]):\n",
        "    plt.subplot(5,5,j+1)\n",
        "    plt.xticks([])\n",
        "    plt.yticks([])\n",
        "    plt.imshow(x_train_new[j,:,:,:].astype('uint8'))\n",
        "    plt.title('A= {0} P={1}'.format(y_train[i][0],in_y_label[i]))\n",
        "    j=j+1\n",
        "    if(j==25):\n",
        "      break"
      ],
      "metadata": {
        "colab": {
          "base_uri": "https://localhost:8080/",
          "height": 611
        },
        "id": "aQx0NKErXOog",
        "outputId": "d6cbfe16-3291-4e26-85d6-79163ea478dc"
      },
      "execution_count": 13,
      "outputs": [
        {
          "output_type": "stream",
          "name": "stdout",
          "text": [
            "First 25 In Sample Errors\n"
          ]
        },
        {
          "output_type": "display_data",
          "data": {
            "text/plain": [
              "<Figure size 720x720 with 25 Axes>"
            ],
            "image/png": "[encoded data removed]"
          },
          "metadata": {}
        }
      ]
    },
    {
      "cell_type": "code",
      "source": [
        "print('First 25 Out Sample Errors')\n",
        "j=0;\n",
        "plt.figure(figsize=(10,10))\n",
        "for i in range(in_l):\n",
        "  if(out_y_label[i]!=y_test[i]):\n",
        "    plt.subplot(5,5,j+1)\n",
        "    plt.xticks([])\n",
        "    plt.yticks([])\n",
        "    plt.imshow(x_test_new[j,:,:,:].astype('uint8'))\n",
        "    plt.title('A= {0} P={1}'.format(y_test[i][0],out_y_label[i]))\n",
        "    j=j+1\n",
        "    if(j==25):\n",
        "      break"
      ],
      "metadata": {
        "colab": {
          "base_uri": "https://localhost:8080/",
          "height": 611
        },
        "id": "26wtu2ZwXRHQ",
        "outputId": "ea0128e3-1825-4261-95e5-fd207165307a"
      },
      "execution_count": 14,
      "outputs": [
        {
          "output_type": "stream",
          "name": "stdout",
          "text": [
            "First 25 Out Sample Errors\n"
          ]
        },
        {
          "output_type": "display_data",
          "data": {
            "text/plain": [
              "<Figure size 720x720 with 25 Axes>"
            ],
            "image/png": "[encoded data removed]"
          },
          "metadata": {}
        }
      ]
    },
    {
      "cell_type": "markdown",
      "source": [
        "# Function"
      ],
      "metadata": {
        "id": "sHWkUBe8hVLv"
      }
    },
    {
      "cell_type": "code",
      "source": [
        "def give_prob(inpt):\n",
        "  arr=np.empty((2400,2400,3))\n",
        "  for i in range(100):\n",
        "    for j in range(100):\n",
        "      a,b =24*i,24* (i+1)\n",
        "      c,d =24*j,24* (j+1)\n",
        "      idx=j+i *(100)\n",
        "      arr[a:b,c:d,:]=inpt[idx,:,:,:]\n",
        "      \n",
        "  final = np.empty((10000, 3, 24, 24))\n",
        "  for i in range(100):\n",
        "    for j in range(100):\n",
        "      a, b = 24 * i, 24 * (i + 1)  \n",
        "      c, d = 24 * j, 24 * (j + 1) \n",
        "      idx = j + i * (100)\n",
        "      final[idx,0,:,:] = arr[a:b,c:d,0]\n",
        "      final[idx,1,:,:] = arr[a:b,c:d,1]\n",
        "      final[idx,2,:,:] = arr[a:b,c:d,2]\n",
        "  final=final[:,:,:,:]/255\n",
        "\n",
        "  outp=net(torch.Tensor(final)).detach().numpy()\n",
        "  return outp"
      ],
      "metadata": {
        "id": "xfhMQPrRXTwB"
      },
      "execution_count": 15,
      "outputs": []
    },
    {
      "cell_type": "code",
      "source": [
        "yy=give_prob(cancerpunks)"
      ],
      "metadata": {
        "id": "XvZ1dVQXXWW8"
      },
      "execution_count": 16,
      "outputs": []
    }
  ]
}