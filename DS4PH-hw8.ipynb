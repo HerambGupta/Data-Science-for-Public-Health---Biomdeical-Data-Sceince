{
  "nbformat": 4,
  "nbformat_minor": 0,
  "metadata": {
    "colab": {
      "name": "Homework 8 DS4PH 2022",
      "provenance": [],
      "collapsed_sections": [],
      "include_colab_link": true
    },
    "kernelspec": {
      "name": "python3",
      "display_name": "Python 3"
    },
    "language_info": {
      "name": "python"
    }
  },
  "cells": [
    {
      "cell_type": "markdown",
      "metadata": {
        "id": "view-in-github",
        "colab_type": "text"
      },
      "source": [
        "<a href=\"https://colab.research.google.com/github/ds4ph-bme/ds4ph-spring-2022-hw-8-HerambGupta/blob/main/Homework_8_DS4PH_2022.ipynb\" target=\"_parent\"><img src=\"https://colab.research.google.com/assets/colab-badge.svg\" alt=\"Open In Colab\"/></a>"
      ]
    },
    {
      "cell_type": "markdown",
      "source": [
        "# Homework 8 DS4PH 2022\n",
        "1. Get the country-specific covid case data from [here](https://github.com/CSSEGISandData/COVID-19/blob/master/csse_covid_19_data/csse_covid_19_time_series/time_series_covid19_confirmed_global.csv). (Note pandas allows you to load a csv file from a URL. Make sure to use the \"raw\" link to the file on github.). Pick a country. Let $Y_t$ be the case count for day $t$ since the outbreak onset for that country. That is, process the time series so that $t=0$ is the first day with more than 0 cases. Then, fit a distributed lag linear model as follows.  \n",
        "$$\n",
        "Y_t = \\alpha_0 + \\beta_1 Y_{t-1} + \\beta_2 Y_{t-2} + \\ldots + \\beta_k Y_{t-5} + \\epsilon_t\n",
        "$$ \n",
        "That is, see how the last five days predicts the current day. Report and interpret the coefficients.\n",
        "2. Refer to the previous question. Let A and B be your two countries. Create a plot of time versus prediction error for the following: \n",
        "  a. fit the model on (all of) A and apply it to (all of) A, \n",
        "  b. fit A on the first half of the time for A, apply it to all of A.\n",
        "This contrasts the forecasting error, a model fit using prior data applied to future data that didn't get to impact the fitting, with the training error.  \n",
        "3. Plot the errors over time for applying the model from country A and applying it to a new country, B that you pick. This is out of sample error.\n",
        "4. Consider the covid data from the previous questions. Let $Z_t = I(Y_t > Y_{t-1})$. That is, $Z_t$ is 1 if cases went up on day $t$ and $0$ otherwise.  Consider the following Markovian logit model:\n",
        "$$\n",
        "\\mathrm{logit}\\{P(Z_t = 1)\\} = \\alpha_0 + \\beta_1 Z_{t-1} + \\beta_2 Z_{t-2} + \\beta_3 Z_{t-3} + \\beta_4 Z_{t-4}+\\beta_4 Z_{t-5}\n",
        "$$\n",
        "In other words, how does whether or not the previous five days case values predict whether or not the number of cases will go up or down? Report and interpret your coefficients. \n"
      ],
      "metadata": {
        "id": "I-3XKi11YKJ9"
      }
    },
    {
      "cell_type": "code",
      "source": [
        "import pandas as pd\n",
        "import numpy as np\n",
        "import statsmodels.formula.api as smf\n",
        "from sklearn.linear_model import LinearRegression\n",
        "import sklearn.linear_model as lm\n",
        "import matplotlib.pyplot as plt\n",
        "from datetime import datetime as dt"
      ],
      "metadata": {
        "id": "c0MbzOu0HJNC",
        "colab": {
          "base_uri": "https://localhost:8080/"
        },
        "outputId": "e2259f8d-8b34-405a-fc12-8d0e5041c584"
      },
      "execution_count": 1,
      "outputs": [
        {
          "output_type": "stream",
          "name": "stderr",
          "text": [
            "/usr/local/lib/python3.7/dist-packages/statsmodels/tools/_testing.py:19: FutureWarning: pandas.util.testing is deprecated. Use the functions in the public API at pandas.testing instead.\n",
            "  import pandas.util.testing as tm\n"
          ]
        }
      ]
    },
    {
      "cell_type": "markdown",
      "source": [
        "# Part 1"
      ],
      "metadata": {
        "id": "EEhrOY60HAmc"
      }
    },
    {
      "cell_type": "code",
      "source": [
        "data=pd.read_csv(\"https://raw.githubusercontent.com/CSSEGISandData/COVID-19/master/csse_covid_19_data/csse_covid_19_time_series/time_series_covid19_confirmed_global.csv\")"
      ],
      "metadata": {
        "id": "W8u7YapMHAOm"
      },
      "execution_count": 2,
      "outputs": []
    },
    {
      "cell_type": "code",
      "source": [
        "#Extracting cases for India\n",
        "\n",
        "india=data.loc[data['Country/Region']=='India']\n",
        "india=india.drop(['Province/State','Country/Region','Lat','Long'],axis=1)\n",
        "india=india.transpose()\n",
        "india.reset_index(level=0, inplace=True)\n",
        "india.columns=['Date','Cases']\n",
        "india=india.loc[india.Cases>0]\n",
        "\n",
        "#Converting Cumulative Counts to Daily Cases\n",
        "\n",
        "arr=np.zeros(india.shape[0])\n",
        "arr[0]=india.iloc[0,1]\n",
        "for i in range(1,india.shape[0]):\n",
        "  arr[i]=int(india.iloc[i,1]-india.iloc[i-1,1])\n",
        "\n",
        "india['Cases']=arr\n",
        "\n",
        "#Converting Dates to Date time variable for ease of plotting\n",
        "for i in range(india.shape[0]):\n",
        "  india.Date.iloc[i]=dt.strptime(india.Date.iloc[i],\"%m/%d/%y\")"
      ],
      "metadata": {
        "id": "suHBp9U_HPIc",
        "colab": {
          "base_uri": "https://localhost:8080/"
        },
        "outputId": "67727145-ef20-4902-d577-329797ad37e8"
      },
      "execution_count": 3,
      "outputs": [
        {
          "output_type": "stream",
          "name": "stderr",
          "text": [
            "/usr/local/lib/python3.7/dist-packages/pandas/core/indexing.py:1732: SettingWithCopyWarning: \n",
            "A value is trying to be set on a copy of a slice from a DataFrame\n",
            "\n",
            "See the caveats in the documentation: https://pandas.pydata.org/pandas-docs/stable/user_guide/indexing.html#returning-a-view-versus-a-copy\n",
            "  self._setitem_single_block(indexer, value, name)\n"
          ]
        }
      ]
    },
    {
      "cell_type": "code",
      "source": [
        ""
      ],
      "metadata": {
        "id": "D2tDdI7fxKJb"
      },
      "execution_count": 3,
      "outputs": []
    },
    {
      "cell_type": "code",
      "source": [
        "india"
      ],
      "metadata": {
        "colab": {
          "base_uri": "https://localhost:8080/",
          "height": 423
        },
        "id": "TErNY5u1ySP6",
        "outputId": "312b454d-edfa-44da-acc2-ee00ee40e6f2"
      },
      "execution_count": 4,
      "outputs": [
        {
          "output_type": "execute_result",
          "data": {
            "text/plain": [
              "                    Date   Cases\n",
              "8    2020-01-30 00:00:00     1.0\n",
              "9    2020-01-31 00:00:00     0.0\n",
              "10   2020-02-01 00:00:00     0.0\n",
              "11   2020-02-02 00:00:00     1.0\n",
              "12   2020-02-03 00:00:00     1.0\n",
              "..                   ...     ...\n",
              "805  2022-04-06 00:00:00  1033.0\n",
              "806  2022-04-07 00:00:00  1109.0\n",
              "807  2022-04-08 00:00:00  1150.0\n",
              "808  2022-04-09 00:00:00  1054.0\n",
              "809  2022-04-10 00:00:00     0.0\n",
              "\n",
              "[802 rows x 2 columns]"
            ],
            "text/html": [
              "\n",
              "  <div id=\"df-9fa42b40-07f9-4e44-86e3-a309a42d2881\">\n",
              "    <div class=\"colab-df-container\">\n",
              "      <div>\n",
              "<style scoped>\n",
              "    .dataframe tbody tr th:only-of-type {\n",
              "        vertical-align: middle;\n",
              "    }\n",
              "\n",
              "    .dataframe tbody tr th {\n",
              "        vertical-align: top;\n",
              "    }\n",
              "\n",
              "    .dataframe thead th {\n",
              "        text-align: right;\n",
              "    }\n",
              "</style>\n",
              "<table border=\"1\" class=\"dataframe\">\n",
              "  <thead>\n",
              "    <tr style=\"text-align: right;\">\n",
              "      <th></th>\n",
              "      <th>Date</th>\n",
              "      <th>Cases</th>\n",
              "    </tr>\n",
              "  </thead>\n",
              "  <tbody>\n",
              "    <tr>\n",
              "      <th>8</th>\n",
              "      <td>2020-01-30 00:00:00</td>\n",
              "      <td>1.0</td>\n",
              "    </tr>\n",
              "    <tr>\n",
              "      <th>9</th>\n",
              "      <td>2020-01-31 00:00:00</td>\n",
              "      <td>0.0</td>\n",
              "    </tr>\n",
              "    <tr>\n",
              "      <th>10</th>\n",
              "      <td>2020-02-01 00:00:00</td>\n",
              "      <td>0.0</td>\n",
              "    </tr>\n",
              "    <tr>\n",
              "      <th>11</th>\n",
              "      <td>2020-02-02 00:00:00</td>\n",
              "      <td>1.0</td>\n",
              "    </tr>\n",
              "    <tr>\n",
              "      <th>12</th>\n",
              "      <td>2020-02-03 00:00:00</td>\n",
              "      <td>1.0</td>\n",
              "    </tr>\n",
              "    <tr>\n",
              "      <th>...</th>\n",
              "      <td>...</td>\n",
              "      <td>...</td>\n",
              "    </tr>\n",
              "    <tr>\n",
              "      <th>805</th>\n",
              "      <td>2022-04-06 00:00:00</td>\n",
              "      <td>1033.0</td>\n",
              "    </tr>\n",
              "    <tr>\n",
              "      <th>806</th>\n",
              "      <td>2022-04-07 00:00:00</td>\n",
              "      <td>1109.0</td>\n",
              "    </tr>\n",
              "    <tr>\n",
              "      <th>807</th>\n",
              "      <td>2022-04-08 00:00:00</td>\n",
              "      <td>1150.0</td>\n",
              "    </tr>\n",
              "    <tr>\n",
              "      <th>808</th>\n",
              "      <td>2022-04-09 00:00:00</td>\n",
              "      <td>1054.0</td>\n",
              "    </tr>\n",
              "    <tr>\n",
              "      <th>809</th>\n",
              "      <td>2022-04-10 00:00:00</td>\n",
              "      <td>0.0</td>\n",
              "    </tr>\n",
              "  </tbody>\n",
              "</table>\n",
              "<p>802 rows × 2 columns</p>\n",
              "</div>\n",
              "      <button class=\"colab-df-convert\" onclick=\"convertToInteractive('df-9fa42b40-07f9-4e44-86e3-a309a42d2881')\"\n",
              "              title=\"Convert this dataframe to an interactive table.\"\n",
              "              style=\"display:none;\">\n",
              "        \n",
              "  <svg xmlns=\"http://www.w3.org/2000/svg\" height=\"24px\"viewBox=\"0 0 24 24\"\n",
              "       width=\"24px\">\n",
              "    <path d=\"M0 0h24v24H0V0z\" fill=\"none\"/>\n",
              "    <path d=\"M18.56 5.44l.94 2.06.94-2.06 2.06-.94-2.06-.94-.94-2.06-.94 2.06-2.06.94zm-11 1L8.5 8.5l.94-2.06 2.06-.94-2.06-.94L8.5 2.5l-.94 2.06-2.06.94zm10 10l.94 2.06.94-2.06 2.06-.94-2.06-.94-.94-2.06-.94 2.06-2.06.94z\"/><path d=\"M17.41 7.96l-1.37-1.37c-.4-.4-.92-.59-1.43-.59-.52 0-1.04.2-1.43.59L10.3 9.45l-7.72 7.72c-.78.78-.78 2.05 0 2.83L4 21.41c.39.39.9.59 1.41.59.51 0 1.02-.2 1.41-.59l7.78-7.78 2.81-2.81c.8-.78.8-2.07 0-2.86zM5.41 20L4 18.59l7.72-7.72 1.47 1.35L5.41 20z\"/>\n",
              "  </svg>\n",
              "      </button>\n",
              "      \n",
              "  <style>\n",
              "    .colab-df-container {\n",
              "      display:flex;\n",
              "      flex-wrap:wrap;\n",
              "      gap: 12px;\n",
              "    }\n",
              "\n",
              "    .colab-df-convert {\n",
              "      background-color: #E8F0FE;\n",
              "      border: none;\n",
              "      border-radius: 50%;\n",
              "      cursor: pointer;\n",
              "      display: none;\n",
              "      fill: #1967D2;\n",
              "      height: 32px;\n",
              "      padding: 0 0 0 0;\n",
              "      width: 32px;\n",
              "    }\n",
              "\n",
              "    .colab-df-convert:hover {\n",
              "      background-color: #E2EBFA;\n",
              "      box-shadow: 0px 1px 2px rgba(60, 64, 67, 0.3), 0px 1px 3px 1px rgba(60, 64, 67, 0.15);\n",
              "      fill: #174EA6;\n",
              "    }\n",
              "\n",
              "    [theme=dark] .colab-df-convert {\n",
              "      background-color: #3B4455;\n",
              "      fill: #D2E3FC;\n",
              "    }\n",
              "\n",
              "    [theme=dark] .colab-df-convert:hover {\n",
              "      background-color: #434B5C;\n",
              "      box-shadow: 0px 1px 3px 1px rgba(0, 0, 0, 0.15);\n",
              "      filter: drop-shadow(0px 1px 2px rgba(0, 0, 0, 0.3));\n",
              "      fill: #FFFFFF;\n",
              "    }\n",
              "  </style>\n",
              "\n",
              "      <script>\n",
              "        const buttonEl =\n",
              "          document.querySelector('#df-9fa42b40-07f9-4e44-86e3-a309a42d2881 button.colab-df-convert');\n",
              "        buttonEl.style.display =\n",
              "          google.colab.kernel.accessAllowed ? 'block' : 'none';\n",
              "\n",
              "        async function convertToInteractive(key) {\n",
              "          const element = document.querySelector('#df-9fa42b40-07f9-4e44-86e3-a309a42d2881');\n",
              "          const dataTable =\n",
              "            await google.colab.kernel.invokeFunction('convertToInteractive',\n",
              "                                                     [key], {});\n",
              "          if (!dataTable) return;\n",
              "\n",
              "          const docLinkHtml = 'Like what you see? Visit the ' +\n",
              "            '<a target=\"_blank\" href=https://colab.research.google.com/notebooks/data_table.ipynb>data table notebook</a>'\n",
              "            + ' to learn more about interactive tables.';\n",
              "          element.innerHTML = '';\n",
              "          dataTable['output_type'] = 'display_data';\n",
              "          await google.colab.output.renderOutput(dataTable, element);\n",
              "          const docLink = document.createElement('div');\n",
              "          docLink.innerHTML = docLinkHtml;\n",
              "          element.appendChild(docLink);\n",
              "        }\n",
              "      </script>\n",
              "    </div>\n",
              "  </div>\n",
              "  "
            ]
          },
          "metadata": {},
          "execution_count": 4
        }
      ]
    },
    {
      "cell_type": "code",
      "source": [
        "#Function to create lag\n",
        "\n",
        "def lag(arr,n):\n",
        "    s=len(arr)\n",
        "    for i in range(1,s-n+1):\n",
        "        arr[s-i]=arr[s-i-n]\n",
        "        \n",
        "    for i in range(n):\n",
        "        arr[i]=0\n",
        "    \n",
        "    return arr"
      ],
      "metadata": {
        "id": "3_-o5BOQLlwa"
      },
      "execution_count": 5,
      "outputs": []
    },
    {
      "cell_type": "code",
      "source": [
        "#Adding Last 5 days cases.\n",
        "\n",
        "c=india.Cases.to_numpy().copy()\n",
        "l=lag(c,1)\n",
        "india['Cases_1']=l\n",
        "\n",
        "c=india.Cases.to_numpy().copy()\n",
        "l=lag(c,2)\n",
        "india['Cases_2']=l\n",
        "\n",
        "c=india.Cases.to_numpy().copy()\n",
        "l=lag(c,3)\n",
        "india['Cases_3']=l\n",
        "\n",
        "c=india.Cases.to_numpy().copy()\n",
        "l=lag(c,4)\n",
        "india['Cases_4']=l\n",
        "\n",
        "c=india.Cases.to_numpy().copy()\n",
        "l=lag(c,5)\n",
        "india['Cases_5']=l"
      ],
      "metadata": {
        "id": "o52ooTD1LmcM"
      },
      "execution_count": 6,
      "outputs": []
    },
    {
      "cell_type": "code",
      "source": [
        "#Seeing how the last five days predicts the current day\n",
        "\n",
        "results = smf.ols('Cases ~ Cases_1 + Cases_2 + Cases_3  + Cases_4 + Cases_5', data = india).fit()\n",
        "print(results.summary2())"
      ],
      "metadata": {
        "colab": {
          "base_uri": "https://localhost:8080/"
        },
        "id": "g3KxK6lrMnef",
        "outputId": "f4e2a87b-47e6-483c-ffea-3a8c5653cdea"
      },
      "execution_count": 7,
      "outputs": [
        {
          "output_type": "stream",
          "name": "stdout",
          "text": [
            "                  Results: Ordinary least squares\n",
            "===================================================================\n",
            "Model:              OLS              Adj. R-squared:     0.990     \n",
            "Dependent Variable: Cases            AIC:                16695.8846\n",
            "Date:               2022-04-11 05:35 BIC:                16724.0073\n",
            "No. Observations:   802              Log-Likelihood:     -8341.9   \n",
            "Df Model:           5                F-statistic:        1.636e+04 \n",
            "Df Residuals:       796              Prob (F-statistic): 0.00      \n",
            "R-squared:          0.990            Scale:              6.3878e+07\n",
            "--------------------------------------------------------------------\n",
            "            Coef.    Std.Err.     t     P>|t|     [0.025     0.975] \n",
            "--------------------------------------------------------------------\n",
            "Intercept  448.7755  339.3107   1.3226  0.1863  -217.2739  1114.8250\n",
            "Cases_1      1.2514    0.0354  35.3898  0.0000     1.1820     1.3208\n",
            "Cases_2     -0.3322    0.0566  -5.8685  0.0000    -0.4433    -0.2211\n",
            "Cases_3      0.2430    0.0572   4.2495  0.0000     0.1307     0.3552\n",
            "Cases_4     -0.1012    0.0566  -1.7869  0.0743    -0.2123     0.0100\n",
            "Cases_5     -0.0693    0.0354  -1.9608  0.0502    -0.1387     0.0001\n",
            "-------------------------------------------------------------------\n",
            "Omnibus:             256.592       Durbin-Watson:          1.999   \n",
            "Prob(Omnibus):       0.000         Jarque-Bera (JB):       3591.114\n",
            "Skew:                1.041         Prob(JB):               0.000   \n",
            "Kurtosis:            13.155        Condition No.:          260439  \n",
            "===================================================================\n",
            "* The condition number is large (3e+05). This might indicate\n",
            "strong multicollinearity or other numerical problems.\n"
          ]
        }
      ]
    },
    {
      "cell_type": "markdown",
      "source": [
        "We see that $\\beta_0 = 451.4232$, $\\beta_1=1.2513$, $\\beta_2=-0.3322$, $\\beta_3=0.2430$, $\\beta_4=-0.1012$, $\\beta_5=-0.0693$. This tells us that, the prediction of number of cases on a day increases if the number of cases on 1 and/or 3 before increases, and decreases if the number of cases on day 2,4 and/or 5 before increases."
      ],
      "metadata": {
        "id": "YUuxTe_2IfDZ"
      }
    },
    {
      "cell_type": "markdown",
      "source": [
        "# Part 2"
      ],
      "metadata": {
        "id": "r6l3VQTwKQDz"
      }
    },
    {
      "cell_type": "code",
      "source": [
        "#Predicting India on all of India\n",
        "\n",
        "y = india.Cases\n",
        "x = india.drop(['Date', 'Cases'], axis=1)\n",
        "fit_all = LinearRegression().fit(x, y)\n",
        "yhat = fit_all.predict(x)"
      ],
      "metadata": {
        "id": "qY5fkdPoKpxF"
      },
      "execution_count": 8,
      "outputs": []
    },
    {
      "cell_type": "code",
      "source": [
        "fig=plt.figure(figsize=(30,10))\n",
        "plt.bar(india.Date,y-yhat)\n",
        "plt.title(\"In Sample Error\")\n",
        "plt.xlabel(\"Error\")\n",
        "plt.ylabel(\"Date\")"
      ],
      "metadata": {
        "colab": {
          "base_uri": "https://localhost:8080/",
          "height": 582
        },
        "id": "SGIesXduNliS",
        "outputId": "f3b05aaf-8ed4-44d0-b03b-73ac31fc1329"
      },
      "execution_count": 9,
      "outputs": [
        {
          "output_type": "execute_result",
          "data": {
            "text/plain": [
              "Text(0, 0.5, 'Date')"
            ]
          },
          "metadata": {},
          "execution_count": 9
        },
        {
          "output_type": "display_data",
          "data": {
            "text/plain": [
              "<Figure size 2160x720 with 1 Axes>"
            ],
            "image/png": "[encoded data removed]"
          },
          "metadata": {
            "needs_background": "light"
          }
        }
      ]
    },
    {
      "cell_type": "code",
      "source": [
        "#Predicting Later Half of India on First Half of India\n",
        "\n",
        "y_train=india.Cases.iloc[0:int(len(y)/2)]\n",
        "x_train=india.drop(['Date', 'Cases'], axis=1).iloc[0:int(len(y)/2),:]\n",
        "y_test=india.Cases.iloc[int(len(y)/2):]\n",
        "x_test=india.drop(['Date', 'Cases'], axis=1).iloc[int(len(y)/2):,:]"
      ],
      "metadata": {
        "id": "WH01ERIZO4eQ"
      },
      "execution_count": 10,
      "outputs": []
    },
    {
      "cell_type": "code",
      "source": [
        "fit_part = LinearRegression().fit(x_train, y_train)\n",
        "yhat = fit_part.predict(x_test)\n",
        "fig=plt.figure(figsize=(30,10))\n",
        "plt.bar(india.Date.iloc[int(len(y)/2):],y_test-yhat)\n",
        "plt.title(\"Forecasting Error\")\n",
        "plt.xlabel(\"Error\")\n",
        "plt.ylabel(\"Date\")"
      ],
      "metadata": {
        "colab": {
          "base_uri": "https://localhost:8080/",
          "height": 582
        },
        "id": "kJMm7qHdSKdg",
        "outputId": "55e7e258-4e0d-4d34-ae13-0162d5bd3e6f"
      },
      "execution_count": 11,
      "outputs": [
        {
          "output_type": "execute_result",
          "data": {
            "text/plain": [
              "Text(0, 0.5, 'Date')"
            ]
          },
          "metadata": {},
          "execution_count": 11
        },
        {
          "output_type": "display_data",
          "data": {
            "text/plain": [
              "<Figure size 2160x720 with 1 Axes>"
            ],
            "image/png": "[encoded data removed]"
          },
          "metadata": {
            "needs_background": "light"
          }
        }
      ]
    },
    {
      "cell_type": "markdown",
      "source": [
        "# Part 3"
      ],
      "metadata": {
        "id": "V3_9r8mEVi_U"
      }
    },
    {
      "cell_type": "code",
      "source": [
        "#Extracting cases for Nepal\n",
        "\n",
        "nepal=data.loc[data['Country/Region']=='Nepal']\n",
        "nepal=nepal.drop(['Province/State','Country/Region','Lat','Long'],axis=1)\n",
        "nepal=nepal.transpose()\n",
        "nepal.reset_index(level=0, inplace=True)\n",
        "nepal.columns=['Date','Cases']\n",
        "nepal=nepal.loc[nepal.Cases>0]\n",
        "\n",
        "arr=np.zeros(nepal.shape[0])\n",
        "arr[0]=nepal.iloc[0,1]\n",
        "for i in range(1,nepal.shape[0]):\n",
        "  arr[i]=int(nepal.iloc[i,1]-nepal.iloc[i-1,1])\n",
        "\n",
        "nepal['Cases']=arr\n",
        "\n",
        "#Converting Dates to Date time variable for ease of plotting\n",
        "for i in range(nepal.shape[0]):\n",
        "  nepal.Date.iloc[i]=dt.strptime(nepal.Date.iloc[i],\"%m/%d/%y\")"
      ],
      "metadata": {
        "colab": {
          "base_uri": "https://localhost:8080/"
        },
        "id": "r48U0DrxUVGJ",
        "outputId": "0e7fa245-cf48-4fe8-c100-48125ab7cf97"
      },
      "execution_count": 12,
      "outputs": [
        {
          "output_type": "stream",
          "name": "stderr",
          "text": [
            "/usr/local/lib/python3.7/dist-packages/pandas/core/indexing.py:1732: SettingWithCopyWarning: \n",
            "A value is trying to be set on a copy of a slice from a DataFrame\n",
            "\n",
            "See the caveats in the documentation: https://pandas.pydata.org/pandas-docs/stable/user_guide/indexing.html#returning-a-view-versus-a-copy\n",
            "  self._setitem_single_block(indexer, value, name)\n"
          ]
        }
      ]
    },
    {
      "cell_type": "code",
      "source": [
        "#Adding Last 5 days cases.\n",
        "\n",
        "c=nepal.Cases.to_numpy().copy()\n",
        "l=lag(c,1)\n",
        "nepal['Cases_1']=l\n",
        "\n",
        "c=nepal.Cases.to_numpy().copy()\n",
        "l=lag(c,2)\n",
        "nepal['Cases_2']=l\n",
        "\n",
        "c=nepal.Cases.to_numpy().copy()\n",
        "l=lag(c,3)\n",
        "nepal['Cases_3']=l\n",
        "\n",
        "c=nepal.Cases.to_numpy().copy()\n",
        "l=lag(c,4)\n",
        "nepal['Cases_4']=l\n",
        "\n",
        "c=nepal.Cases.to_numpy().copy()\n",
        "l=lag(c,5)\n",
        "nepal['Cases_5']=l"
      ],
      "metadata": {
        "id": "nQ9e_VbxX1dr"
      },
      "execution_count": 13,
      "outputs": []
    },
    {
      "cell_type": "code",
      "source": [
        "y_nepal=nepal.Cases\n",
        "x_nepal=nepal.drop(['Date', 'Cases'], axis=1)\n",
        "yhat = fit_all.predict(x_nepal)"
      ],
      "metadata": {
        "id": "5ADXYrwIVmUF"
      },
      "execution_count": 14,
      "outputs": []
    },
    {
      "cell_type": "code",
      "source": [
        "fig=plt.figure(figsize=(30,10))\n",
        "plt.bar(nepal.Date,yhat-y_nepal)\n",
        "plt.title(\"Out of Sample Error\")\n",
        "plt.ylabel(\"Error\")\n",
        "plt.xlabel(\"Date\")"
      ],
      "metadata": {
        "colab": {
          "base_uri": "https://localhost:8080/",
          "height": 585
        },
        "id": "7HpwI3gMXcif",
        "outputId": "cd12920c-9a39-4eff-bb1b-8c4e11ddce99"
      },
      "execution_count": 15,
      "outputs": [
        {
          "output_type": "execute_result",
          "data": {
            "text/plain": [
              "Text(0.5, 0, 'Date')"
            ]
          },
          "metadata": {},
          "execution_count": 15
        },
        {
          "output_type": "display_data",
          "data": {
            "text/plain": [
              "<Figure size 2160x720 with 1 Axes>"
            ],
            "image/png": "[encoded data removed]"
          },
          "metadata": {
            "needs_background": "light"
          }
        }
      ]
    },
    {
      "cell_type": "markdown",
      "source": [
        "# Part 4"
      ],
      "metadata": {
        "id": "q4_eWdRvz7ih"
      }
    },
    {
      "cell_type": "code",
      "source": [
        "# Adding day 6 for India and Nepal to calculate Z(t-5)\n",
        "\n",
        "c=nepal.Cases.to_numpy().copy()\n",
        "l=lag(c,6)\n",
        "nepal['Cases_6']=l\n",
        "\n",
        "c=india.Cases.to_numpy().copy()\n",
        "l=lag(c,6)\n",
        "india['Cases_6']=l"
      ],
      "metadata": {
        "id": "rnm8QkDtYZH9"
      },
      "execution_count": 16,
      "outputs": []
    },
    {
      "cell_type": "code",
      "source": [
        "u='Zt'\n",
        "sub=['zero','one','two','three','four','five']\n",
        "for i in range(1,7):\n",
        "  h=nepal.iloc[:,i]>nepal.iloc[:,i+1]\n",
        "  g=h*1\n",
        "  nepal[u+sub[i-1]]=g\n",
        "\n",
        "for i in range(1,7):\n",
        "  h=india.iloc[:,i]>india.iloc[:,i+1]\n",
        "  g=h*1\n",
        "  india[u+sub[i-1]]=g  "
      ],
      "metadata": {
        "id": "p4dplK_ilLqH"
      },
      "execution_count": 17,
      "outputs": []
    },
    {
      "cell_type": "code",
      "source": [
        "nepal_model=smf.logit('Ztzero ~ Ztone + Zttwo + Ztthree + Ztfour + Ztfive',data=nepal).fit()\n",
        "india_model=smf.logit('Ztzero ~ Ztone + Zttwo + Ztthree + Ztfour + Ztfive',data=india).fit()"
      ],
      "metadata": {
        "colab": {
          "base_uri": "https://localhost:8080/"
        },
        "id": "XlLj932d2toB",
        "outputId": "a952e22c-29ba-42c3-8404-7268ea31677c"
      },
      "execution_count": 18,
      "outputs": [
        {
          "output_type": "stream",
          "name": "stdout",
          "text": [
            "Optimization terminated successfully.\n",
            "         Current function value: 0.673948\n",
            "         Iterations 4\n",
            "Optimization terminated successfully.\n",
            "         Current function value: 0.673384\n",
            "         Iterations 4\n"
          ]
        }
      ]
    },
    {
      "cell_type": "code",
      "source": [
        "nepal_model.summary2()"
      ],
      "metadata": {
        "colab": {
          "base_uri": "https://localhost:8080/",
          "height": 341
        },
        "id": "4v8Q2EQK2-B8",
        "outputId": "c1460bd4-4fbb-4b49-d590-249106be0a5e"
      },
      "execution_count": 19,
      "outputs": [
        {
          "output_type": "execute_result",
          "data": {
            "text/plain": [
              "<class 'statsmodels.iolib.summary2.Summary'>\n",
              "\"\"\"\n",
              "                         Results: Logit\n",
              "=================================================================\n",
              "Model:              Logit            Pseudo R-squared: 0.022     \n",
              "Dependent Variable: Ztzero           AIC:              1099.7516 \n",
              "Date:               2022-04-11 05:36 BIC:              1127.9116 \n",
              "No. Observations:   807              Log-Likelihood:   -543.88   \n",
              "Df Model:           5                LL-Null:          -556.24   \n",
              "Df Residuals:       801              LLR p-value:      0.00015687\n",
              "Converged:          1.0000           Scale:            1.0000    \n",
              "No. Iterations:     4.0000                                       \n",
              "------------------------------------------------------------------\n",
              "               Coef.   Std.Err.     z     P>|z|    [0.025   0.975]\n",
              "------------------------------------------------------------------\n",
              "Intercept     -0.5287    0.1614  -3.2758  0.0011  -0.8449  -0.2124\n",
              "Ztone         -0.3515    0.1459  -2.4100  0.0160  -0.6374  -0.0656\n",
              "Zttwo          0.3847    0.1459   2.6377  0.0083   0.0989   0.6706\n",
              "Ztthree        0.2408    0.1467   1.6415  0.1007  -0.0467   0.5283\n",
              "Ztfour         0.0916    0.1462   0.6267  0.5309  -0.1949   0.3782\n",
              "Ztfive         0.4002    0.1454   2.7518  0.0059   0.1152   0.6853\n",
              "=================================================================\n",
              "\n",
              "\"\"\""
            ],
            "text/html": [
              "<table class=\"simpletable\">\n",
              "<tr>\n",
              "        <td>Model:</td>              <td>Logit</td>      <td>Pseudo R-squared:</td>    <td>0.022</td>  \n",
              "</tr>\n",
              "<tr>\n",
              "  <td>Dependent Variable:</td>      <td>Ztzero</td>            <td>AIC:</td>         <td>1099.7516</td>\n",
              "</tr>\n",
              "<tr>\n",
              "         <td>Date:</td>        <td>2022-04-11 05:36</td>       <td>BIC:</td>         <td>1127.9116</td>\n",
              "</tr>\n",
              "<tr>\n",
              "   <td>No. Observations:</td>         <td>807</td>        <td>Log-Likelihood:</td>    <td>-543.88</td> \n",
              "</tr>\n",
              "<tr>\n",
              "       <td>Df Model:</td>              <td>5</td>            <td>LL-Null:</td>        <td>-556.24</td> \n",
              "</tr>\n",
              "<tr>\n",
              "     <td>Df Residuals:</td>           <td>801</td>         <td>LLR p-value:</td>    <td>0.00015687</td>\n",
              "</tr>\n",
              "<tr>\n",
              "      <td>Converged:</td>           <td>1.0000</td>           <td>Scale:</td>         <td>1.0000</td>  \n",
              "</tr>\n",
              "<tr>\n",
              "    <td>No. Iterations:</td>        <td>4.0000</td>              <td></td>               <td></td>     \n",
              "</tr>\n",
              "</table>\n",
              "<table class=\"simpletable\">\n",
              "<tr>\n",
              "      <td></td>       <th>Coef.</th>  <th>Std.Err.</th>    <th>z</th>     <th>P>|z|</th> <th>[0.025</th>  <th>0.975]</th> \n",
              "</tr>\n",
              "<tr>\n",
              "  <th>Intercept</th> <td>-0.5287</td>  <td>0.1614</td>  <td>-3.2758</td> <td>0.0011</td> <td>-0.8449</td> <td>-0.2124</td>\n",
              "</tr>\n",
              "<tr>\n",
              "  <th>Ztone</th>     <td>-0.3515</td>  <td>0.1459</td>  <td>-2.4100</td> <td>0.0160</td> <td>-0.6374</td> <td>-0.0656</td>\n",
              "</tr>\n",
              "<tr>\n",
              "  <th>Zttwo</th>     <td>0.3847</td>   <td>0.1459</td>  <td>2.6377</td>  <td>0.0083</td> <td>0.0989</td>  <td>0.6706</td> \n",
              "</tr>\n",
              "<tr>\n",
              "  <th>Ztthree</th>   <td>0.2408</td>   <td>0.1467</td>  <td>1.6415</td>  <td>0.1007</td> <td>-0.0467</td> <td>0.5283</td> \n",
              "</tr>\n",
              "<tr>\n",
              "  <th>Ztfour</th>    <td>0.0916</td>   <td>0.1462</td>  <td>0.6267</td>  <td>0.5309</td> <td>-0.1949</td> <td>0.3782</td> \n",
              "</tr>\n",
              "<tr>\n",
              "  <th>Ztfive</th>    <td>0.4002</td>   <td>0.1454</td>  <td>2.7518</td>  <td>0.0059</td> <td>0.1152</td>  <td>0.6853</td> \n",
              "</tr>\n",
              "</table>"
            ]
          },
          "metadata": {},
          "execution_count": 19
        }
      ]
    },
    {
      "cell_type": "code",
      "source": [
        "india_model.summary2()"
      ],
      "metadata": {
        "colab": {
          "base_uri": "https://localhost:8080/",
          "height": 341
        },
        "id": "qxVJRRzz4PNg",
        "outputId": "583b0300-d067-4f54-cdfe-077114d098ff"
      },
      "execution_count": 20,
      "outputs": [
        {
          "output_type": "execute_result",
          "data": {
            "text/plain": [
              "<class 'statsmodels.iolib.summary2.Summary'>\n",
              "\"\"\"\n",
              "                         Results: Logit\n",
              "=================================================================\n",
              "Model:              Logit            Pseudo R-squared: 0.023     \n",
              "Dependent Variable: Ztzero           AIC:              1092.1084 \n",
              "Date:               2022-04-11 05:36 BIC:              1120.2311 \n",
              "No. Observations:   802              Log-Likelihood:   -540.05   \n",
              "Df Model:           5                LL-Null:          -553.02   \n",
              "Df Residuals:       796              LLR p-value:      9.2187e-05\n",
              "Converged:          1.0000           Scale:            1.0000    \n",
              "No. Iterations:     4.0000                                       \n",
              "------------------------------------------------------------------\n",
              "               Coef.   Std.Err.     z     P>|z|    [0.025   0.975]\n",
              "------------------------------------------------------------------\n",
              "Intercept     -0.3948    0.1518  -2.6011  0.0093  -0.6923  -0.0973\n",
              "Ztone          0.6197    0.1473   4.2075  0.0000   0.3310   0.9084\n",
              "Zttwo         -0.3332    0.1491  -2.2349  0.0254  -0.6255  -0.0410\n",
              "Ztthree        0.2712    0.1487   1.8235  0.0682  -0.0203   0.5628\n",
              "Ztfour         0.1261    0.1485   0.8493  0.3957  -0.1649   0.4171\n",
              "Ztfive        -0.2039    0.1471  -1.3860  0.1658  -0.4922   0.0844\n",
              "=================================================================\n",
              "\n",
              "\"\"\""
            ],
            "text/html": [
              "<table class=\"simpletable\">\n",
              "<tr>\n",
              "        <td>Model:</td>              <td>Logit</td>      <td>Pseudo R-squared:</td>    <td>0.023</td>  \n",
              "</tr>\n",
              "<tr>\n",
              "  <td>Dependent Variable:</td>      <td>Ztzero</td>            <td>AIC:</td>         <td>1092.1084</td>\n",
              "</tr>\n",
              "<tr>\n",
              "         <td>Date:</td>        <td>2022-04-11 05:36</td>       <td>BIC:</td>         <td>1120.2311</td>\n",
              "</tr>\n",
              "<tr>\n",
              "   <td>No. Observations:</td>         <td>802</td>        <td>Log-Likelihood:</td>    <td>-540.05</td> \n",
              "</tr>\n",
              "<tr>\n",
              "       <td>Df Model:</td>              <td>5</td>            <td>LL-Null:</td>        <td>-553.02</td> \n",
              "</tr>\n",
              "<tr>\n",
              "     <td>Df Residuals:</td>           <td>796</td>         <td>LLR p-value:</td>    <td>9.2187e-05</td>\n",
              "</tr>\n",
              "<tr>\n",
              "      <td>Converged:</td>           <td>1.0000</td>           <td>Scale:</td>         <td>1.0000</td>  \n",
              "</tr>\n",
              "<tr>\n",
              "    <td>No. Iterations:</td>        <td>4.0000</td>              <td></td>               <td></td>     \n",
              "</tr>\n",
              "</table>\n",
              "<table class=\"simpletable\">\n",
              "<tr>\n",
              "      <td></td>       <th>Coef.</th>  <th>Std.Err.</th>    <th>z</th>     <th>P>|z|</th> <th>[0.025</th>  <th>0.975]</th> \n",
              "</tr>\n",
              "<tr>\n",
              "  <th>Intercept</th> <td>-0.3948</td>  <td>0.1518</td>  <td>-2.6011</td> <td>0.0093</td> <td>-0.6923</td> <td>-0.0973</td>\n",
              "</tr>\n",
              "<tr>\n",
              "  <th>Ztone</th>     <td>0.6197</td>   <td>0.1473</td>  <td>4.2075</td>  <td>0.0000</td> <td>0.3310</td>  <td>0.9084</td> \n",
              "</tr>\n",
              "<tr>\n",
              "  <th>Zttwo</th>     <td>-0.3332</td>  <td>0.1491</td>  <td>-2.2349</td> <td>0.0254</td> <td>-0.6255</td> <td>-0.0410</td>\n",
              "</tr>\n",
              "<tr>\n",
              "  <th>Ztthree</th>   <td>0.2712</td>   <td>0.1487</td>  <td>1.8235</td>  <td>0.0682</td> <td>-0.0203</td> <td>0.5628</td> \n",
              "</tr>\n",
              "<tr>\n",
              "  <th>Ztfour</th>    <td>0.1261</td>   <td>0.1485</td>  <td>0.8493</td>  <td>0.3957</td> <td>-0.1649</td> <td>0.4171</td> \n",
              "</tr>\n",
              "<tr>\n",
              "  <th>Ztfive</th>    <td>-0.2039</td>  <td>0.1471</td>  <td>-1.3860</td> <td>0.1658</td> <td>-0.4922</td> <td>0.0844</td> \n",
              "</tr>\n",
              "</table>"
            ]
          },
          "metadata": {},
          "execution_count": 20
        }
      ]
    },
    {
      "cell_type": "markdown",
      "source": [
        "Here in both the models we see that the Pseudo R-Squared is very low, thus we can say that some variables are not contributing to both the models' R-squared properly.\n",
        "\n",
        "We can see that in both the models, the cases one, two and three days before have a low p value, this tells us that there is a high chance that these three variables have a significant impact on the number of cases on any given day."
      ],
      "metadata": {
        "id": "atjnhGsMJcJX"
      }
    }
  ]
}