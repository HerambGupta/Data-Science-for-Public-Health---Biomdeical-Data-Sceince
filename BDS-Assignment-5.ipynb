{
  "nbformat": 4,
  "nbformat_minor": 0,
  "metadata": {
    "colab": {
      "name": "project5.ipynb",
      "provenance": [],
      "authorship_tag": "ABX9TyOUFbhiMu1S2iqr4POzgNgL",
      "include_colab_link": true
    },
    "kernelspec": {
      "name": "python3",
      "display_name": "Python 3"
    },
    "language_info": {
      "name": "python"
    }
  },
  "cells": [
    {
      "cell_type": "markdown",
      "metadata": {
        "id": "view-in-github",
        "colab_type": "text"
      },
      "source": [
        "<a href=\"https://colab.research.google.com/github/ds4ph-bme/project-5-HerambGupta/blob/main/project5.ipynb\" target=\"_parent\"><img src=\"https://colab.research.google.com/assets/colab-badge.svg\" alt=\"Open In Colab\"/></a>"
      ]
    },
    {
      "cell_type": "code",
      "metadata": {
        "id": "SVJLWnlQcfAA"
      },
      "source": [
        "import numpy as np\n",
        "#from scipy import stats as st\n",
        "import pandas as pd\n",
        "import seaborn as sns\n",
        "import matplotlib.pyplot as plt\n",
        "import torch\n",
        "from sklearn.linear_model import LinearRegression,LogisticRegression"
      ],
      "execution_count": null,
      "outputs": []
    },
    {
      "cell_type": "markdown",
      "metadata": {
        "id": "afD8K4s6dbqT"
      },
      "source": [
        "#Question 1\n",
        "\n",
        "Fit a pytorch model to the oasis data that treats gold lesions as the outcome and T2 value as the predictor. Use a bias term, sigmoid output activation function and no hidden layers. Do not split the data into a testing and training dataset. Demonstrate that the fitted values are the same as those obtained with logistic regression."
      ]
    },
    {
      "cell_type": "code",
      "metadata": {
        "id": "F1KPSM2VdbP0"
      },
      "source": [
        "#LOGISTIC REGRESSION\n",
        "df=pd.read_csv('https://raw.githubusercontent.com/bcaffo/ds4bme_intro/master/data/oasis.csv')\n",
        "x=df[['T2']]\n",
        "x=np.asarray(x)\n",
        "y=df.GOLD_Lesions\n",
        "y=np.asarray(y)\n",
        "log_reg=LogisticRegression().fit(x,y)\n",
        "y_hat=log_reg.predict(x)"
      ],
      "execution_count": null,
      "outputs": []
    },
    {
      "cell_type": "code",
      "metadata": {
        "colab": {
          "base_uri": "https://localhost:8080/"
        },
        "id": "7YGd_P-Quc4S",
        "outputId": "780aa85f-e4a7-4a4d-e2a2-7f536cae7d4f"
      },
      "source": [
        "#PYTORCH\n",
        "from torch import nn\n",
        "torch.manual_seed(10) # fix random number generator\n",
        "\n",
        "xtorch = torch.from_numpy(x).float() \n",
        "ytorch = torch.from_numpy(y).float().unsqueeze(-1)\n",
        "\n",
        "model=torch.nn.Sequential(\n",
        "    nn.Linear(1,1,bias=True),\n",
        "    nn.Sigmoid()\n",
        ")\n",
        "\n",
        "loss_fn = nn.MSELoss(reduction='sum')  \n",
        "optimizer = torch.optim.SGD(model.parameters(), lr=5e-4)\n",
        "\n",
        "for t in range(1000):\n",
        "\n",
        "  ## Forward propagation\n",
        "  y_pred = model(xtorch)\n",
        "\n",
        "  ## the loss for this interation\n",
        "  loss = loss_fn(y_pred, ytorch)\n",
        "\n",
        "  ## Zero out the gradients before adding them up \n",
        "  optimizer.zero_grad()\n",
        "  \n",
        "  ## Backprop\n",
        "  loss.backward()\n",
        "  \n",
        "  ## Optimization step\n",
        "  optimizer.step()\n",
        "\n",
        "y_hat_t=model(xtorch)\n",
        "y_hat_t = y_hat_t.detach().numpy().reshape(-1)\n",
        "flag=np.where(y_hat_t > 0.5, 1, 0)\n",
        "acc=np.mean(flag==y_hat)\n",
        "print('The Accuracy is ',format(acc))"
      ],
      "execution_count": null,
      "outputs": [
        {
          "output_type": "stream",
          "name": "stdout",
          "text": [
            "The Accuracy is  1.0\n"
          ]
        }
      ]
    },
    {
      "cell_type": "markdown",
      "metadata": {
        "id": "JwKgx81P_4T3"
      },
      "source": [
        "#Question 2\n",
        "Fit a pytorch neural network with two hidden layers on the diamond dataset from the previous project predicting price. Evaluate your predictions on held out test set data."
      ]
    },
    {
      "cell_type": "code",
      "metadata": {
        "id": "68OCg2Jy_355"
      },
      "source": [
        "df=pd.read_csv(\"https://raw.githubusercontent.com/tidyverse/ggplot2/master/data-raw/diamonds.csv\")\n",
        "cut_oh=pd.get_dummies(df.iloc[:,1])\n",
        "color_oh=pd.get_dummies(df.iloc[:,2])\n",
        "clarity_oh=pd.get_dummies(df.iloc[:,3])\n",
        "\n",
        "n_df=pd.concat([df,cut_oh,color_oh,clarity_oh],axis=1)\n",
        "n_df=n_df.rename(columns={'Very Good':'VG'})\n",
        "\n",
        "trainFraction = .75\n",
        "sample = np.random.uniform(size = 53940) < trainFraction\n",
        "train = n_df[sample]\n",
        "test = n_df[~sample]\n",
        "\n",
        "X_train=train.drop(['cut','table','color','clarity','depth','price','x','y','z'],axis=1).to_numpy()\n",
        "X_test=test.drop(['cut','table','color','clarity','depth','price','x','y','z'],axis=1).to_numpy()\n",
        "Y_test=test[['price']].to_numpy()\n",
        "Y_train=train[['price']].to_numpy()"
      ],
      "execution_count": null,
      "outputs": []
    },
    {
      "cell_type": "code",
      "metadata": {
        "id": "c3SsMR36OUwG"
      },
      "source": [
        "Xtrain = torch.from_numpy(X_train).float() \n",
        "Ytrain = torch.from_numpy(np.array(Y_train).reshape(-1,1)).float()\n",
        "Xtest= torch.from_numpy(X_test).float() \n",
        "Ytest = torch.from_numpy(np.array(Y_test).reshape(-1,1)).float()"
      ],
      "execution_count": null,
      "outputs": []
    },
    {
      "cell_type": "code",
      "metadata": {
        "id": "LdI375yDPkb_"
      },
      "source": [
        "n=Xtrain.shape[0]\n",
        "p=Xtrain.shape[1]\n",
        "h1=64\n",
        "h2=128\n",
        "l1=nn.Linear(in_features=p,out_features=h1,bias=True)\n",
        "l2=nn.ReLU()\n",
        "l3=nn.Linear(in_features=h1,out_features=h2,bias=True)\n",
        "l4=nn.ReLU()\n",
        "l5=nn.Linear(in_features=h2,out_features=1,bias=True)\n",
        "\n",
        "network = torch.nn.Sequential(l1,l2,l3,l4,l5)"
      ],
      "execution_count": null,
      "outputs": []
    },
    {
      "cell_type": "code",
      "metadata": {
        "id": "OYxwqXunIGqz"
      },
      "source": [
        "loss_fn = nn.MSELoss(reduction='sum')  \n",
        "optimizer = torch.optim.Adam(network.parameters())\n",
        "s=128\n",
        "\n",
        "for t in range(1000):\n",
        "    for j in range(n//s):\n",
        "      y_pred=network(Xtrain[j*s: j*s+s])\n",
        "      loss = loss_fn(y_pred, Ytrain[j*s : j*s+s])\n",
        "      optimizer.zero_grad()\n",
        "      loss.backward()\n",
        "      optimizer.step()"
      ],
      "execution_count": null,
      "outputs": []
    },
    {
      "cell_type": "code",
      "metadata": {
        "colab": {
          "base_uri": "https://localhost:8080/",
          "height": 283
        },
        "id": "0SU2jxB2SDU0",
        "outputId": "679f669e-1f28-4481-8c32-7d924b1b6be6"
      },
      "source": [
        "yha=network(Xtest).detach().numpy()\n",
        "plt.plot(yha,Ytest,'.')"
      ],
      "execution_count": null,
      "outputs": [
        {
          "output_type": "execute_result",
          "data": {
            "text/plain": [
              "[<matplotlib.lines.Line2D at 0x7f05e8d07c50>]"
            ]
          },
          "metadata": {},
          "execution_count": 10
        },
        {
          "output_type": "display_data",
          "data": {
            "image/png": "[encoded data removed]",
            "text/plain": [
              "<Figure size 432x288 with 1 Axes>"
            ]
          },
          "metadata": {
            "needs_background": "light"
          }
        }
      ]
    },
    {
      "cell_type": "code",
      "metadata": {
        "colab": {
          "base_uri": "https://localhost:8080/"
        },
        "id": "mitFDiFfo-Up",
        "outputId": "ecefd84e-708b-473f-e2a6-c1b4e98004fb"
      },
      "source": [
        "from sklearn.metrics import mean_squared_error\n",
        "err=mean_squared_error(Ytest,yha)\n",
        "print('The error is ',format(err))"
      ],
      "execution_count": null,
      "outputs": [
        {
          "output_type": "stream",
          "name": "stdout",
          "text": [
            "The error is  945138.875\n"
          ]
        }
      ]
    }
  ]
}