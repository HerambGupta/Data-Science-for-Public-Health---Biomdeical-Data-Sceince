{
  "nbformat": 4,
  "nbformat_minor": 0,
  "metadata": {
    "colab": {
      "name": "punk_tumor_adder.ipynb",
      "provenance": [],
      "collapsed_sections": [],
      "include_colab_link": true
    },
    "kernelspec": {
      "name": "python3",
      "display_name": "Python 3"
    },
    "language_info": {
      "name": "python"
    }
  },
  "cells": [
    {
      "cell_type": "markdown",
      "metadata": {
        "id": "view-in-github",
        "colab_type": "text"
      },
      "source": [
        "<a href=\"https://colab.research.google.com/github/ds4ph-bme/project-6-HerambGupta/blob/main/punk_tumor_adder.ipynb\" target=\"_parent\"><img src=\"https://colab.research.google.com/assets/colab-badge.svg\" alt=\"Open In Colab\"/></a>"
      ]
    },
    {
      "cell_type": "markdown",
      "metadata": {
        "id": "ZXWm-EgV67Pg"
      },
      "source": [
        "# OH NO\n",
        "\n",
        "A virus is coming where 50% of the cryptopunks will have contracted a disease where they get a white spot. The code below generates the disease. Your job is as follows\n",
        "\n",
        "1. Generate the data as below\n",
        "2. Train a convolutional neural network to classify punks as diseased or not\n",
        "   1. Creat a testing and validation set. Contrast in the in sample and out of sample errors.\n",
        "   2. Visualize some of your errors (in both directions) and describe what is happening.\n",
        "   3. Create a python function that takes in an np image array just like the cancerpunks one below and gives probabilities that that punk has this disease."
      ]
    },
    {
      "cell_type": "code",
      "metadata": {
        "id": "cv9HM_C4COJ-"
      },
      "source": [
        "\n",
        "import urllib.request\n",
        "import PIL\n",
        "import matplotlib.pyplot as plt\n",
        "import numpy as np\n",
        "import tensorflow as tf\n",
        "from tensorflow.keras import layers, models, losses\n",
        "\n",
        "## Open the image\n",
        "imgURL = \"https://raw.githubusercontent.com/larvalabs/cryptopunks/master/punks.png\"\n",
        "urllib.request.urlretrieve(imgURL, \"cryptoPunksAll.jpg\")\n",
        "img = PIL.Image.open(\"cryptoPunksAll.jpg\").convert(\"RGB\")\n",
        "imgArray = np.asarray(img)\n",
        "\n",
        "n = 10000\n",
        "\n",
        "finalArray = np.empty((n, 24, 24, 3))\n",
        "for i in range(100):\n",
        "  for j in range(100):\n",
        "    a, b = 24 * i, 24 * (i + 1)  \n",
        "    c, d = 24 * j, 24 * (j + 1) \n",
        "    idx = j + i * (100)\n",
        "    finalArray[idx,:,:,:] = imgArray[a:b,c:d,:]\n"
      ],
      "execution_count": 168,
      "outputs": []
    },
    {
      "cell_type": "markdown",
      "metadata": {
        "id": "fenTsDeSEImT"
      },
      "source": [
        "Our doctors have determined this is the region where the lesion occurs."
      ]
    },
    {
      "cell_type": "code",
      "metadata": {
        "colab": {
          "base_uri": "https://localhost:8080/",
          "height": 283
        },
        "id": "6p1oknq57G6y",
        "outputId": "79b9002a-fc70-4703-aefd-b233d921efc1"
      },
      "source": [
        "\n",
        "temp  =  finalArray[0,:,:,:].copy()\n",
        "\n",
        "d2min, d2max = 9,14 \n",
        "d1min, d1max = 11,17\n",
        "\n",
        "temp[d1min : (d1max + 1), d2min : (d2max + 1)] = 255\n",
        "\n",
        "plt.imshow(temp.astype('uint8'))\n",
        "\n"
      ],
      "execution_count": 169,
      "outputs": [
        {
          "output_type": "execute_result",
          "data": {
            "text/plain": [
              "<matplotlib.image.AxesImage at 0x7f4f050feb10>"
            ]
          },
          "metadata": {},
          "execution_count": 169
        },
        {
          "output_type": "display_data",
          "data": {
            "image/png": "[encoded data removed]",
            "text/plain": [
              "<Figure size 432x288 with 1 Axes>"
            ]
          },
          "metadata": {
            "needs_background": "light"
          }
        }
      ]
    },
    {
      "cell_type": "code",
      "metadata": {
        "id": "pmJXYveG_gbY"
      },
      "source": [
        "cancerpunks = finalArray.copy()\n",
        "label = np.zeros(n)\n",
        "\n",
        "## Loop over the cryptopunks\n",
        "for i in range(10000):\n",
        "  flip = np.random.randint(0, 2)\n",
        "  if flip is 1:\n",
        "    label[i] = 1\n",
        "    d1loc = np.random.randint(d1min, d1max + 1)\n",
        "    d2loc = np.random.randint(d2min, d2max + 1)\n",
        "    cancerpunks[i,d1loc,d2loc,:] = 255\n",
        "\n"
      ],
      "execution_count": 170,
      "outputs": []
    },
    {
      "cell_type": "code",
      "metadata": {
        "colab": {
          "base_uri": "https://localhost:8080/",
          "height": 611
        },
        "id": "0Gvcr5tbAmvD",
        "outputId": "3313b4d6-2459-4515-ee2a-118f09360bef"
      },
      "source": [
        "## plot some examples\n",
        "plt.figure(figsize=(10,10))\n",
        "for i in range(25): \n",
        "  plt.subplot(5,5,i+1)\n",
        "  plt.xticks([])\n",
        "  plt.yticks([])\n",
        "  plt.imshow(cancerpunks[i,:,:,:].astype('uint8'))\n",
        "  plt.title(label[i])\n",
        "\n",
        "print(cancerpunks.shape)"
      ],
      "execution_count": 171,
      "outputs": [
        {
          "output_type": "stream",
          "name": "stdout",
          "text": [
            "(10000, 24, 24, 3)\n"
          ]
        },
        {
          "output_type": "display_data",
          "data": {
            "image/png": "[encoded data removed]",
            "text/plain": [
              "<Figure size 720x720 with 25 Axes>"
            ]
          },
          "metadata": {}
        }
      ]
    },
    {
      "cell_type": "code",
      "metadata": {
        "colab": {
          "base_uri": "https://localhost:8080/"
        },
        "id": "2QR1JjFF8wDf",
        "outputId": "4444304c-f484-4d11-bc76-5622eb360f6a"
      },
      "source": [
        "arr=np.empty((2400,2400,3))\n",
        "\n",
        "for i in range(100):\n",
        "  for j in range(100):\n",
        "    a,b =24*i,24* (i+1)\n",
        "    c,d =24*j,24* (j+1)\n",
        "    idx=j+i *(100)\n",
        "    arr[a:b,c:d,:]=cancerpunks[idx,:,:,:]\n",
        "\n",
        "final = np.empty((10000, 3, 24, 24))\n",
        "for i in range(100):\n",
        "  for j in range(100):\n",
        "    a, b = 24 * i, 24 * (i + 1)  \n",
        "    c, d = 24 * j, 24 * (j + 1) \n",
        "    idx = j + i * (100)\n",
        "    final[idx,0,:,:] = arr[a:b,c:d,0]\n",
        "    final[idx,1,:,:] = arr[a:b,c:d,1]\n",
        "    final[idx,2,:,:] = arr[a:b,c:d,2]\n",
        "\n",
        "n = final.shape[0]\n",
        "trainFraction = .75\n",
        "sample = np.random.uniform(size = n) < trainFraction\n",
        "x_train = final[ sample, :, :, :] / 255\n",
        "x_test =  final[~sample, :, :, :] / 255\n",
        "print([x_train.shape, x_test.shape])\n",
        "\n",
        "y_train = label[sample]\n",
        "y_test =  label[~sample]\n",
        "\n",
        "## Need to have the extra dimension\n",
        "y_train = y_train.reshape(y_train.shape[0], 1)\n",
        "y_test = y_test.reshape(y_test.shape[0], 1)"
      ],
      "execution_count": 172,
      "outputs": [
        {
          "output_type": "stream",
          "name": "stdout",
          "text": [
            "[(7426, 3, 24, 24), (2574, 3, 24, 24)]\n"
          ]
        }
      ]
    },
    {
      "cell_type": "code",
      "metadata": {
        "id": "R2fg7wkm86QN"
      },
      "source": [
        "import torch \n",
        "torch.manual_seed(10)\n",
        "import torch.nn as nn\n",
        "import torch.nn.functional as F\n",
        "from torch.utils.data import TensorDataset, DataLoader\n",
        "import torchvision\n",
        "import torchvision.transforms as transforms\n",
        "\n",
        "trainDataset = TensorDataset(torch.Tensor(x_train), torch.Tensor(y_train))\n",
        "trainloader = torch.utils.data.DataLoader(trainDataset, batch_size = 100, shuffle = False, num_workers = 1)"
      ],
      "execution_count": 173,
      "outputs": []
    },
    {
      "cell_type": "code",
      "metadata": {
        "id": "qqZb4shI88_J"
      },
      "source": [
        "class Net(nn.Module):\n",
        "    def __init__(self):\n",
        "        super().__init__()\n",
        "        self.conv1 = nn.Conv2d(3, 6, 5)\n",
        "        self.pool = nn.MaxPool2d(2, 2)\n",
        "        self.conv2 = nn.Conv2d(6, 16, 5)\n",
        "        ## This has to be changed because the size\n",
        "        ## of our inputs is different than the CFAR\n",
        "        ## example. There's is 32x32 and ours is 24x24\n",
        "        ## Also, I changed the rest of the network architecture\n",
        "        ## here\n",
        "        ## Finally, we only have one output.\n",
        "        self.fc1 = nn.Linear(16 * 3 * 3, 64)\n",
        "        self.fc2 = nn.Linear(64, 32)\n",
        "        self.fc3 = nn.Linear(32, 1)\n",
        "\n",
        "    def forward(self, x):\n",
        "        x = self.pool(F.relu(self.conv1(x)))\n",
        "        x = self.pool(F.relu(self.conv2(x)))\n",
        "        x = torch.flatten(x, 1) # flatten all dimensions except batch\n",
        "        x = F.relu(self.fc1(x))\n",
        "        x = F.relu(self.fc2(x))\n",
        "        x = torch.sigmoid(self.fc3(x))\n",
        "        return x\n",
        "net = Net()"
      ],
      "execution_count": 174,
      "outputs": []
    },
    {
      "cell_type": "code",
      "metadata": {
        "id": "J-oxDJrk9CWM"
      },
      "source": [
        "import torch.optim as optim\n",
        "#criterion = nn.CrossEntropyLoss()\n",
        "criterion = nn.BCELoss()\n",
        "optimizer = optim.SGD(net.parameters(), lr=0.002, momentum=0.9)"
      ],
      "execution_count": 175,
      "outputs": []
    },
    {
      "cell_type": "code",
      "metadata": {
        "id": "NuscqNPz9F0r"
      },
      "source": [
        "for epoch in range(100):  # loop over the dataset multiple times\n",
        "    running_loss = 0.0\n",
        "    for i, data in enumerate(trainloader, 0):\n",
        "        # get the inputs; data is a list of [inputs, labels]\n",
        "        inputs, labels = data\n",
        "\n",
        "        # zero the parameter gradients\n",
        "        optimizer.zero_grad()\n",
        "\n",
        "        # forward + backward + optimize\n",
        "        outputs = net(inputs)\n",
        "\n",
        "        loss = criterion(outputs, labels)\n",
        "        loss.backward()\n",
        "        optimizer.step()"
      ],
      "execution_count": 176,
      "outputs": []
    },
    {
      "cell_type": "code",
      "metadata": {
        "id": "24meAJuy9LpB"
      },
      "source": [
        "insample = net(torch.Tensor(x_train)).detach().numpy()\n",
        "outsample= net(torch.Tensor(x_test)).detach().numpy()\n",
        "in_y_label=np.zeros(len(insample))\n",
        "out_y_label= np.zeros(len(outsample))"
      ],
      "execution_count": 177,
      "outputs": []
    },
    {
      "cell_type": "code",
      "metadata": {
        "colab": {
          "base_uri": "https://localhost:8080/"
        },
        "id": "3qRS9q8M9nMD",
        "outputId": "91a0b9be-da7d-40de-e1f2-4a7d72c50af2"
      },
      "source": [
        "in_l=len(insample)\n",
        "out_l=len(outsample)\n",
        "for i in range(in_l):\n",
        "  if insample[i]>0.5:\n",
        "    in_y_label[i]=1\n",
        "\n",
        "for j in range(out_l):\n",
        "  if outsample[j]>0.5:\n",
        "    out_y_label[j]=1\n",
        "\n",
        "in_acc=np.mean(in_y_label==y_train)\n",
        "out_acc=np.mean(out_y_label==y_test)\n",
        "\n",
        "print('Insample Accuracy is ',in_acc)\n",
        "print('Outsample Accuracy is',out_acc)"
      ],
      "execution_count": 178,
      "outputs": [
        {
          "output_type": "stream",
          "name": "stdout",
          "text": [
            "Insample Accuracy is  0.5011823272683329\n",
            "Outsample Accuracy is 0.49604254849010093\n"
          ]
        }
      ]
    },
    {
      "cell_type": "code",
      "metadata": {
        "id": "L6wpHGp5Stbz"
      },
      "source": [
        "x_train_new=cancerpunks[sample,:,:,:]\n",
        "x_test_new=cancerpunks[~sample,:,:,:]"
      ],
      "execution_count": 179,
      "outputs": []
    },
    {
      "cell_type": "code",
      "metadata": {
        "colab": {
          "base_uri": "https://localhost:8080/",
          "height": 611
        },
        "id": "qfr1malRDFie",
        "outputId": "a79813f4-d9a2-47b7-eb20-7816a14441f2"
      },
      "source": [
        "print('First 25 In Sample Errors')\n",
        "j=0;\n",
        "plt.figure(figsize=(10,10))\n",
        "for i in range(in_l):\n",
        "  if(in_y_label[i]!=y_train[i]):\n",
        "    plt.subplot(5,5,j+1)\n",
        "    plt.xticks([])\n",
        "    plt.yticks([])\n",
        "    plt.imshow(x_train_new[j,:,:,:].astype('uint8'))\n",
        "    plt.title('A= {0} P={1}'.format(y_train[i][0],in_y_label[i]))\n",
        "    j=j+1\n",
        "    if(j==25):\n",
        "      break"
      ],
      "execution_count": 200,
      "outputs": [
        {
          "output_type": "stream",
          "name": "stdout",
          "text": [
            "First 25 In Sample Errors\n"
          ]
        },
        {
          "output_type": "display_data",
          "data": {
            "image/png": "[encoded data removed]",
            "text/plain": [
              "<Figure size 720x720 with 25 Axes>"
            ]
          },
          "metadata": {}
        }
      ]
    },
    {
      "cell_type": "code",
      "metadata": {
        "colab": {
          "base_uri": "https://localhost:8080/",
          "height": 611
        },
        "id": "M1xgSkxYUibt",
        "outputId": "c692439a-a015-4d06-8ad9-c54e98a1439a"
      },
      "source": [
        "print('First 25 Out Sample Errors')\n",
        "j=0;\n",
        "plt.figure(figsize=(10,10))\n",
        "for i in range(in_l):\n",
        "  if(out_y_label[i]!=y_test[i]):\n",
        "    plt.subplot(5,5,j+1)\n",
        "    plt.xticks([])\n",
        "    plt.yticks([])\n",
        "    plt.imshow(x_test_new[j,:,:,:].astype('uint8'))\n",
        "    plt.title('A= {0} P={1}'.format(y_test[i][0],out_y_label[i]))\n",
        "    j=j+1\n",
        "    if(j==25):\n",
        "      break"
      ],
      "execution_count": 201,
      "outputs": [
        {
          "output_type": "stream",
          "name": "stdout",
          "text": [
            "First 25 Out Sample Errors\n"
          ]
        },
        {
          "output_type": "display_data",
          "data": {
            "image/png": "[encoded data removed]",
            "text/plain": [
              "<Figure size 720x720 with 25 Axes>"
            ]
          },
          "metadata": {}
        }
      ]
    },
    {
      "cell_type": "code",
      "metadata": {
        "id": "6prEeOKmUzlf"
      },
      "source": [
        "def give_prob(inpt):\n",
        "  arr=np.empty((2400,2400,3))\n",
        "  for i in range(100):\n",
        "    for j in range(100):\n",
        "      a,b =24*i,24* (i+1)\n",
        "      c,d =24*j,24* (j+1)\n",
        "      idx=j+i *(100)\n",
        "      arr[a:b,c:d,:]=inpt[idx,:,:,:]\n",
        "      \n",
        "  final = np.empty((10000, 3, 24, 24))\n",
        "  for i in range(100):\n",
        "    for j in range(100):\n",
        "      a, b = 24 * i, 24 * (i + 1)  \n",
        "      c, d = 24 * j, 24 * (j + 1) \n",
        "      idx = j + i * (100)\n",
        "      final[idx,0,:,:] = arr[a:b,c:d,0]\n",
        "      final[idx,1,:,:] = arr[a:b,c:d,1]\n",
        "      final[idx,2,:,:] = arr[a:b,c:d,2]\n",
        "  final=final[:,:,:,:]/255\n",
        "\n",
        "  outp=net(torch.Tensor(final)).detach().numpy()\n",
        "  return outp"
      ],
      "execution_count": 186,
      "outputs": []
    },
    {
      "cell_type": "code",
      "metadata": {
        "id": "v2zb7duGaTLY"
      },
      "source": [
        "yy=give_prob(cancerpunks)"
      ],
      "execution_count": 187,
      "outputs": []
    }
  ]
}