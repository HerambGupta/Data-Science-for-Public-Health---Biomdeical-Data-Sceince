{
  "nbformat": 4,
  "nbformat_minor": 0,
  "metadata": {
    "colab": {
      "name": "lab3.ipynb",
      "provenance": [],
      "collapsed_sections": [],
      "include_colab_link": true
    },
    "kernelspec": {
      "display_name": "Python 3",
      "language": "python",
      "name": "python3"
    },
    "language_info": {
      "codemirror_mode": {
        "name": "ipython",
        "version": 3
      },
      "file_extension": ".py",
      "mimetype": "text/x-python",
      "name": "python",
      "nbconvert_exporter": "python",
      "pygments_lexer": "ipython3",
      "version": "3.7.3"
    }
  },
  "cells": [
    {
      "cell_type": "markdown",
      "metadata": {
        "id": "view-in-github",
        "colab_type": "text"
      },
      "source": [
        "<a href=\"https://colab.research.google.com/github/ds4ph-bme/lab3-HerambGupta/blob/main/lab3.ipynb\" target=\"_parent\"><img src=\"https://colab.research.google.com/assets/colab-badge.svg\" alt=\"Open In Colab\"/></a>"
      ]
    },
    {
      "cell_type": "markdown",
      "metadata": {
        "id": "TzAvq5dDOQAL"
      },
      "source": [
        "# Names (Enter your names below)\n",
        "**Your Name : Heramb Kuldeep Gupta** \n",
        "\n",
        "**JHED : hgupta6**\n",
        "\n"
      ]
    },
    {
      "cell_type": "markdown",
      "metadata": {
        "id": "y2vEAjzAOQAM"
      },
      "source": [
        "# Lab 3: Prediction of Septic Shock in Patients\n",
        "\n",
        "By **Benjamín Béjar Haro** and edited by **Kwame Kutten** and **Joseph Greenstein**\n",
        "\n",
        "Sepsis is a life-threatening condition caused by an inflammatory immune response to an infection. It is the leading cause of death in hospitals and has a greater risk of mortality in its advanced state, also called *Septic Shock*. Early treatment of Septic Shock can dramatically increase the survival rate. Therefore, a prediction system capable of foreseeing Septic Shock would provide an early intervention window that has the potential to translate into improved patient outcomes. In this lab we look at the problem Septic Shock prediction following the approach described in [Liu et al. 2019](https://doi.org/10.1038/s41598-019-42637-5). Your goal in this lab is to reproduce some of the results in above paper. In particular you will train a a logistic regression model (referred to as GLM in the paper) to predict Septic Shock and will apply it to a test patient dataset."
      ]
    },
    {
      "cell_type": "code",
      "metadata": {
        "id": "FObubMDyCtS5"
      },
      "source": [
        "# Import modules\n",
        "import numpy as np\n",
        "import matplotlib.pyplot as plt\n",
        "import pandas as pd\n",
        "import datetime as date\n",
        "from sklearn.linear_model import SGDClassifier\n",
        "from sklearn.metrics import roc_curve, auc\n",
        "from sklearn.model_selection import KFold \n",
        "\n",
        "# Fix random number generator for reproducibility\n",
        "np.random.seed(0)"
      ],
      "execution_count": 1,
      "outputs": []
    },
    {
      "cell_type": "markdown",
      "metadata": {
        "id": "pXBWtrJXOQAO"
      },
      "source": [
        "# Read Data\n",
        "You have been provided with the curated data used in Liu *et al.* which is a subset of the publicly available MIMIC-III database ([Johnson et al. 2016](https://doi.org/10.1038/sdata.2016.35)). The data corresponds to electronic health record data of a large population of patients, and consists of measured values over time for $28$ different features such as, heart rate, blood pressure, respiratory rate, temperature, etc. Each data point represents a particular measurement in time and for a particular patient. The data has been split into training and testing as described in Liu *et al.* and is provided to you in the form of `.csv` files. Inside those files `x` columns correspond to feature values while the `y` column represents the associated label of a particular row of feature values.  Thus $y=0$ means that the patient didn't go into Septic Shock, while a label $y=1$ indicates that the patient eventually went into Septic Shock)."
      ]
    },
    {
      "cell_type": "code",
      "metadata": {
        "colab": {
          "base_uri": "https://localhost:8080/"
        },
        "id": "ZcnR8B9bOQAO",
        "outputId": "781d6069-2d9f-4210-be7c-ec24fe36bd13"
      },
      "source": [
        "#===========================================\n",
        "# Read data. Change path if necessary\n",
        "#===========================================\n",
        "try:\n",
        "    # Executes if running in Google Colab\n",
        "    from google.colab import drive\n",
        "    drive.mount('gdrive/')\n",
        "    path = \"gdrive/My Drive/\" # Change path to location of data if necessary\n",
        "except:\n",
        "    # Executes if running locally (e.g. Anaconda)\n",
        "    path = \"./\"\n",
        "\n",
        "# Read training data\n",
        "traindata = pd.read_csv('/'.join((path,'glm.training.data.csv')))\n",
        "Xtrain = traindata.iloc[:,1:29].values # Rows are patients, columns are clinical indicators\n",
        "ytrain = traindata.iloc[:,-1].values\n",
        "\n",
        "# Read testing data\n",
        "testdata = pd.read_csv('/'.join((path,'glm.test.data.csv')))\n",
        "Xtest = testdata.iloc[:,1:29].values\n",
        "ytest = testdata.iloc[:,-1].values"
      ],
      "execution_count": 2,
      "outputs": [
        {
          "output_type": "stream",
          "name": "stdout",
          "text": [
            "Mounted at gdrive/\n"
          ]
        }
      ]
    },
    {
      "cell_type": "markdown",
      "metadata": {
        "id": "bbBgvw9XOQAP"
      },
      "source": [
        "# 1. Normalize Data [5 points]\n",
        "Normalize the training and test data such that each column has zero mean and unit standard deviation.  Then for both the training and test data use `np.isclose` to verify that the means and standard deviations of the normalized data are correct."
      ]
    },
    {
      "cell_type": "code",
      "metadata": {
        "id": "YdwZg2LzETyQ",
        "colab": {
          "base_uri": "https://localhost:8080/"
        },
        "outputId": "91dcdec3-4e4e-4162-f692-8ded4013d6dc"
      },
      "source": [
        "n_Xtest= (Xtest-np.mean(Xtest,axis=0))/np.std(Xtest,axis=0)\n",
        "n_Xtrain= (Xtrain-np.mean(Xtrain,axis=0))/np.std(Xtrain,axis=0)\n",
        "print('Testing Data Normalization Check ',np.isclose([np.mean(n_Xtest),np.std(n_Xtest)],[0,1]))\n",
        "print('Training Data Normalization Check ',np.isclose([np.mean(n_Xtrain),np.std(n_Xtrain)],[0,1]))"
      ],
      "execution_count": 3,
      "outputs": [
        {
          "output_type": "stream",
          "name": "stdout",
          "text": [
            "Testing Data Normalization Check  [ True  True]\n",
            "Training Data Normalization Check  [ True  True]\n"
          ]
        }
      ]
    },
    {
      "cell_type": "markdown",
      "metadata": {
        "id": "B7J1xZy2OQAQ"
      },
      "source": [
        "# 2. Train Generalized Linear (Logistic Regression) Model [15 points]\n",
        "Train a logistic regression model on the normalized data using [Stochastic Gradient Descent](https://en.wikipedia.org/wiki/Stochastic_gradient_descent). You should use the [SGDClassifier](https://scikit-learn.org/stable/modules/generated/sklearn.linear_model.SGDClassifier.html) from `sklearn.linear_model` with a `\"log\"` loss, `\"balanced\"` class weights and a `\"l1\"` lasso penalty.  Specify a value for regularization parameter $\\alpha \\in (0,1]$. Plot the ROC curve and display the AUC."
      ]
    },
    {
      "cell_type": "code",
      "metadata": {
        "id": "6SYkKg2MOQAQ"
      },
      "source": [
        "from sklearn.linear_model import SGDClassifier as sg\n",
        "m=sg(loss='log',penalty='l1',class_weight='balanced')\n",
        "model=m.fit(n_Xtrain,ytrain)\n",
        "\n",
        "ypred=model.predict_proba(n_Xtrain)"
      ],
      "execution_count": 4,
      "outputs": []
    },
    {
      "cell_type": "code",
      "metadata": {
        "colab": {
          "base_uri": "https://localhost:8080/",
          "height": 279
        },
        "id": "GKGKpKdLX1Vu",
        "outputId": "97891c60-1aac-4213-8431-32e8f01fe6d2"
      },
      "source": [
        "from sklearn.metrics import accuracy_score, roc_curve, auc\n",
        "fpr, tpr, thresholds = roc_curve(ytrain,ypred[:,1])\n",
        "roc_auc = auc(fpr, tpr)\n",
        "\n",
        "plt.figure()\n",
        "lw = 2\n",
        "plt.plot(fpr, tpr, color='darkorange',\n",
        "         lw=lw, label='ROC curve (area = %0.2f)' % roc_auc)\n",
        "plt.plot([0, 1], [0, 1], color='navy', lw=lw, linestyle='--')\n",
        "plt.xlim([-0.05, 1.05])\n",
        "plt.ylim([-0.05, 1.05])\n",
        "plt.xlabel('False Positive Rate')\n",
        "plt.ylabel('True Positive Rate')\n",
        "plt.title('')\n",
        "plt.legend(loc=\"lower right\")\n",
        "plt.show()"
      ],
      "execution_count": 5,
      "outputs": [
        {
          "output_type": "display_data",
          "data": {
            "image/png": "[encoded data removed]",
            "text/plain": [
              "<Figure size 432x288 with 1 Axes>"
            ]
          },
          "metadata": {
            "needs_background": "light"
          }
        }
      ]
    },
    {
      "cell_type": "markdown",
      "metadata": {
        "id": "cM5L5QrdOQAQ"
      },
      "source": [
        "# 3. Hyperparameter Tuning [20 points] \n",
        "Refine this model by determining an optimal regularization hyperparameter $\\alpha > 0$ which maximizes AUC via **5-fold cross validation** similar to Liu *et al.* You should use [KFold](https://scikit-learn.org/stable/modules/generated/sklearn.model_selection.KFold.html) from `sklearn.model_selection` to split your training dataset into smaller chunks that you feed to the SGDClassifier. Try several values of $\\alpha \\in (0,1]$. To save time you may use a small number of iterations (e.g. 5) in this step for your SGDClassifier. Then display your optimal $\\alpha$"
      ]
    },
    {
      "cell_type": "code",
      "metadata": {
        "id": "05ErX0D6OQAQ"
      },
      "source": [
        "from sklearn.model_selection import KFold\n",
        "kf = KFold(n_splits=5,shuffle=True)\n",
        "a=kf.split(n_Xtrain)\n",
        "alpha_values=[0.001, 0.0015,0.002,0.0025,0.0030]\n",
        "auc_l=np.zeros((5,5))\n",
        "i=0;\n",
        "for train_index, test_index in a:\n",
        "  xtr,xtst=n_Xtrain[train_index],n_Xtrain[test_index]\n",
        "  ytr,ytst=ytrain[train_index],ytrain[test_index]\n",
        "  for j in range(5):\n",
        "    mm=sg(loss='log',penalty='l1',class_weight='balanced',alpha=alpha_values[j])\n",
        "    model=mm.fit(xtr,ytr)\n",
        "    ypred=model.predict_proba(xtst)\n",
        "    fpr, tpr, thresholds = roc_curve(ytst,ypred[:,1])\n",
        "    roc_auc = auc(fpr, tpr)\n",
        "    auc_l[i,j]=roc_auc\n",
        "  i=i+1\n"
      ],
      "execution_count": 6,
      "outputs": []
    },
    {
      "cell_type": "code",
      "metadata": {
        "colab": {
          "base_uri": "https://localhost:8080/"
        },
        "id": "Oxnt_JFsq4Qe",
        "outputId": "3c22c9a2-8c7b-48b6-8218-da0b929a7a65"
      },
      "source": [
        "auc_i=alpha_values[np.argmax(np.mean(auc_l,axis=0))]\n",
        "print('Optimal Alpha =',auc_i)"
      ],
      "execution_count": 7,
      "outputs": [
        {
          "output_type": "stream",
          "name": "stdout",
          "text": [
            "Optimal Alpha = 0.0015\n"
          ]
        }
      ]
    },
    {
      "cell_type": "markdown",
      "metadata": {
        "id": "aRGSGBzGOQAR"
      },
      "source": [
        "# 4. Retrain Model [20 points]\n",
        "Retrain your model using your optimal regularization hyperparameter $\\alpha$ from the previous step. Plot the ROC curve and display the AUC. Find the **Operating Point** which gives the best TPR and FPR and add it to the plot.  Display the training data accuracy at the operating point."
      ]
    },
    {
      "cell_type": "code",
      "metadata": {
        "id": "zq1ZrX8jOQAR"
      },
      "source": [
        "import math\n",
        "\n",
        "mn=sg(loss='log',penalty='l1',class_weight='balanced',alpha=auc_i)\n",
        "model=mn.fit(n_Xtrain,ytrain)\n",
        "\n",
        "ypred=model.predict_proba(n_Xtrain)"
      ],
      "execution_count": 8,
      "outputs": []
    },
    {
      "cell_type": "code",
      "metadata": {
        "colab": {
          "base_uri": "https://localhost:8080/",
          "height": 295
        },
        "id": "qDLtVQZ2jCpB",
        "outputId": "672064fb-f48c-485d-b799-ad37f022289f"
      },
      "source": [
        "fpr, tpr, thresholds = roc_curve(ytrain,ypred[:,1])\n",
        "roc_auc = auc(fpr, tpr)\n",
        "\n",
        "dist=np.zeros(len(fpr))\n",
        "for i in range(len(fpr)):\n",
        "  x1,y1=0,1\n",
        "  x2,y2= fpr[i],tpr[i]\n",
        "  dist[i]=math.sqrt(((x2-x1)**2)+((y2-y1)**2))\n",
        "j=np.argmin(dist)\n",
        "op_x,op_y=fpr[j],tpr[j]\n",
        "\n",
        "plt.figure()\n",
        "lw = 2\n",
        "plt.scatter(op_x,op_y,label='Operating Point {0:0.2f} , {1:0.2f}'.format(op_x,op_y))\n",
        "plt.plot(fpr, tpr, color='darkorange',\n",
        "         lw=lw, label='ROC curve (area = %0.2f)' % roc_auc)\n",
        "plt.plot([0, 1], [0, 1], color='navy', lw=lw, linestyle='--')\n",
        "plt.xlim([-0.05, 1.05])\n",
        "plt.ylim([-0.05, 1.05])\n",
        "plt.xlabel('False Positive Rate')\n",
        "plt.ylabel('True Positive Rate')\n",
        "plt.title('Retrained Model')\n",
        "plt.legend(loc=\"lower right\")\n",
        "plt.show()"
      ],
      "execution_count": 9,
      "outputs": [
        {
          "output_type": "display_data",
          "data": {
            "image/png": "[encoded data removed]",
            "text/plain": [
              "<Figure size 432x288 with 1 Axes>"
            ]
          },
          "metadata": {
            "needs_background": "light"
          }
        }
      ]
    },
    {
      "cell_type": "code",
      "metadata": {
        "colab": {
          "base_uri": "https://localhost:8080/"
        },
        "id": "k4drTxFEmODG",
        "outputId": "750ecdf4-619c-4c6b-fa29-864b3aee94c2"
      },
      "source": [
        "thr=thresholds[j]\n",
        "n=len(ytrain)\n",
        "ypred_l=np.zeros(n)\n",
        "for i in range(n):\n",
        "  if(ypred[i,1]>thr):\n",
        "    ypred_l[i]=1\n",
        "\n",
        "acc=np.mean(ypred_l==ytrain)\n",
        "print('Accuracy is',acc)"
      ],
      "execution_count": 10,
      "outputs": [
        {
          "output_type": "stream",
          "name": "stdout",
          "text": [
            "Accuracy is 0.8735852049232331\n"
          ]
        }
      ]
    },
    {
      "cell_type": "markdown",
      "metadata": {
        "id": "Oke_9gFrOQAR"
      },
      "source": [
        "# 5. Plot Feature Weights [10 points]\n",
        "The exponentiated coefficients from our model tell us how much each feature is weighted when making a prediction.  Find the weights by exponentiating the coefficients from your model (Get coefficients from the `'coef_` attribute). Plot a bar graph of these weights with their corresponding names.  Your results should be similar to Figure 3 in Liu *et al.*"
      ]
    },
    {
      "cell_type": "code",
      "metadata": {
        "id": "ILYR-cqyOQAR",
        "colab": {
          "base_uri": "https://localhost:8080/",
          "height": 359
        },
        "outputId": "9b5c31bc-2106-42a2-c742-592e5df85b75"
      },
      "source": [
        "featureNames = traindata.iloc[:,1:29].keys() # Names of features\n",
        "c=model.coef_\n",
        "n=c.shape[1]\n",
        "weights=np.zeros(n)\n",
        "for i in range(n):\n",
        "  weights[i]=math.exp(c[0][i])\n",
        "plt.bar(featureNames,weights)\n",
        "plt.title('Feature Weights')\n",
        "plt.ylabel('Weights')\n",
        "plt.xlabel('Feature Names')\n",
        "o=plt.xticks(rotation = 90)"
      ],
      "execution_count": 11,
      "outputs": [
        {
          "output_type": "display_data",
          "data": {
            "image/png": "[encoded data removed]",
            "text/plain": [
              "<Figure size 432x288 with 1 Axes>"
            ]
          },
          "metadata": {
            "needs_background": "light"
          }
        }
      ]
    },
    {
      "cell_type": "markdown",
      "metadata": {
        "id": "ImFa1lCMOQAR"
      },
      "source": [
        "# 6. Test Model on Patient Data [30 points]\n",
        "Use the patient column from the test dataset to determine the number of patients in our test dataset.  Use the test labels to create an array of this size which is $1$ if the patient went into Septic Shock *at any time* during their hospital stay and $0$ otherwise.  We can be certain that a patient went into Septic Shock if their maximum probability (risk score) attained over their hospital stay excedes some operating threshold.  Therefore you should also create a corresponding array which contains these maximum probabilities.  \n",
        "\n",
        "Create an ROC curve using these arrays and display the AUC.  Find operating point and add it to the plot.  Display the accuracy for test patients at the operating point."
      ]
    },
    {
      "cell_type": "code",
      "metadata": {
        "id": "13Qw9o-NOQAR"
      },
      "source": [
        "patientsCol = testdata['patient'].values # Patients column from test dataset\n",
        "ypred_test=model.predict_proba(n_Xtest)\n",
        "ypred_testn=ypred_test[:,1]\n",
        "nn=len(ypred_testn)\n",
        "n_patients=patientsCol[len(patientsCol)-1]\n",
        "u,cc=np.unique(patientsCol, return_counts=True)"
      ],
      "execution_count": 12,
      "outputs": []
    },
    {
      "cell_type": "code",
      "metadata": {
        "id": "8iolI83IbL7A"
      },
      "source": [
        "max_prob=np.zeros(n_patients)\n",
        "m=[]\n",
        "y=[]\n",
        "sum=0\n",
        "start=0\n",
        "ytest_n=np.zeros(n_patients)\n",
        "for i in range(n_patients):\n",
        "  sum=sum+cc[i]\n",
        "  for j in range(start,sum,1):\n",
        "    m.append(ypred_testn[j])\n",
        "    y.append(ytest[j])\n",
        "  ytest_n[i]=np.max(y)\n",
        "  start=start+cc[i]\n",
        "  max_prob[i]=np.max(m)\n",
        "  m=[]\n",
        "  y=[]\n"
      ],
      "execution_count": 13,
      "outputs": []
    },
    {
      "cell_type": "code",
      "metadata": {
        "colab": {
          "base_uri": "https://localhost:8080/",
          "height": 295
        },
        "id": "R1OmA_iedkf6",
        "outputId": "1bbda116-c2a3-466d-fab1-032a67e40f59"
      },
      "source": [
        "fpr, tpr, thresholds = roc_curve(ytest_n,max_prob)\n",
        "roc_auc = auc(fpr, tpr)\n",
        "\n",
        "dist=np.zeros(len(fpr))\n",
        "for i in range(len(fpr)):\n",
        "  x1,y1=0,1\n",
        "  x2,y2= fpr[i],tpr[i]\n",
        "  dist[i]=math.sqrt(((x2-x1)**2)+((y2-y1)**2))\n",
        "j=np.argmin(dist)\n",
        "op_x,op_y=fpr[j],tpr[j]\n",
        "\n",
        "plt.figure()\n",
        "lw = 2\n",
        "plt.scatter(op_x,op_y,label='Operating Point {0:0.2f},{1:0.2f}'.format(op_x,op_y))\n",
        "plt.plot(fpr, tpr, color='darkorange',\n",
        "         lw=lw, label='ROC curve (area = %0.2f)' % roc_auc)\n",
        "plt.plot([0, 1], [0, 1], color='navy', lw=lw, linestyle='--')\n",
        "plt.xlim([-0.05, 1.05])\n",
        "plt.ylim([-0.05, 1.05])\n",
        "plt.xlabel('False Positive Rate')\n",
        "plt.ylabel('True Positive Rate')\n",
        "plt.title('Model on patient data')\n",
        "plt.legend(loc=\"lower right\")\n",
        "plt.show()"
      ],
      "execution_count": 14,
      "outputs": [
        {
          "output_type": "display_data",
          "data": {
            "image/png": "[encoded data removed]",
            "text/plain": [
              "<Figure size 432x288 with 1 Axes>"
            ]
          },
          "metadata": {
            "needs_background": "light"
          }
        }
      ]
    },
    {
      "cell_type": "code",
      "metadata": {
        "colab": {
          "base_uri": "https://localhost:8080/"
        },
        "id": "GUTp1UAVjZpc",
        "outputId": "fa97539f-0c40-433a-fa9a-b7cb6f6223b7"
      },
      "source": [
        "thr=thresholds[j]\n",
        "n=len(ytest_n)\n",
        "ypred_l=np.zeros(n)\n",
        "for i in range(n):\n",
        "  if(max_prob[i]>thr):\n",
        "    ypred_l[i]=1\n",
        "\n",
        "acc=np.mean(ypred_l==ytest_n)\n",
        "print('Accuracy is',acc)"
      ],
      "execution_count": 23,
      "outputs": [
        {
          "output_type": "stream",
          "name": "stdout",
          "text": [
            "Accuracy is 0.7512245806738904\n"
          ]
        }
      ]
    }
  ]
}