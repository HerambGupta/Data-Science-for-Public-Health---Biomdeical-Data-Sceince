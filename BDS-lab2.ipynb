{
  "nbformat": 4,
  "nbformat_minor": 0,
  "metadata": {
    "kernelspec": {
      "display_name": "Python 3",
      "language": "python",
      "name": "python3"
    },
    "language_info": {
      "codemirror_mode": {
        "name": "ipython",
        "version": 3
      },
      "file_extension": ".py",
      "mimetype": "text/x-python",
      "name": "python",
      "nbconvert_exporter": "python",
      "pygments_lexer": "ipython3",
      "version": "3.7.3"
    },
    "colab": {
      "name": "lab2.ipynb",
      "provenance": [],
      "collapsed_sections": [],
      "include_colab_link": true
    }
  },
  "cells": [
    {
      "cell_type": "markdown",
      "metadata": {
        "id": "view-in-github",
        "colab_type": "text"
      },
      "source": [
        "<a href=\"https://colab.research.google.com/github/ds4ph-bme/lab2-HerambGupta/blob/main/lab2.ipynb\" target=\"_parent\"><img src=\"https://colab.research.google.com/assets/colab-badge.svg\" alt=\"Open In Colab\"/></a>"
      ]
    },
    {
      "cell_type": "markdown",
      "metadata": {
        "id": "FeTobnxs5h1P"
      },
      "source": [
        "**Name: Heramb Gupta**\n",
        "\n",
        "**JHED: hgupta6**\n",
        "\n"
      ]
    },
    {
      "cell_type": "markdown",
      "metadata": {
        "id": "XKfeHLW15h1U"
      },
      "source": [
        "# Lab 2: Classification of Cardiomyocites Based on Their Action Potentials\n",
        "\n",
        "By **Benjamín Béjar Haro** and edited by **Kwame Kutten**\n",
        "\n",
        "In this lab we will be looking at the problem of classifying cardiac cells by looking at their _Action Potentials_ (APs). For the purpose of this task we will be using synthetically\n",
        "generated APs following the models in [(Nygren et. al, 1998)](https://www.ahajournals.org/doi/abs/10.1161/01.res.82.1.63) and [(O'Hara et. al, 2011)](https://journals.plos.org/ploscompbiol/article?id=10.1371/journal.pcbi.1002061).\n",
        "\n",
        "### Objectives\n",
        "By the end of this session you should be able to use nearest-neighbor and simple neural network classifiers for two-class classification problems.\n",
        "\n",
        "* _Note: Everything below this line should be truned in as part of your lab report._\n"
      ]
    },
    {
      "cell_type": "code",
      "metadata": {
        "id": "BxtEmO0U5h1V"
      },
      "source": [
        "# ============================================================================\n",
        "# import modules\n",
        "# ============================================================================\n",
        "# Note that this part of the code needs to be run prior to any other code cell\n",
        "\n",
        "import numpy as np\n",
        "import matplotlib.pyplot as plt\n",
        "import scipy.io\n",
        "import random as rnd\n",
        "# set random number generator seed\n",
        "rnd.seed(10)\n",
        "\n",
        "try:\n",
        "    import torch\n",
        "except:\n",
        "    # Install packages if not available\n",
        "    !conda install -y -c pytorch pytorch\n",
        "    import torch\n",
        "\n",
        "# inline plots\n",
        "%matplotlib inline"
      ],
      "execution_count": 1,
      "outputs": []
    },
    {
      "cell_type": "code",
      "metadata": {
        "colab": {
          "base_uri": "https://localhost:8080/"
        },
        "id": "js3CIgLU5h1W",
        "outputId": "c4ee5463-d723-49ef-83e0-ac80b2822108"
      },
      "source": [
        "# ============================================================================\n",
        "# Edit path variable below if necessary\n",
        "# ============================================================================\n",
        "try:\n",
        "    # Executes if running in Google Colab\n",
        "    from google.colab import drive\n",
        "    drive.mount('gdrive/')\n",
        "    path = \"gdrive/My Drive/\" # Change path to location of data if necessary\n",
        "except:\n",
        "    # Executes if running locally (e.g. Anaconda)\n",
        "    path = \"./\"\n",
        "\n",
        "# get the list of files to process\n",
        "matfile = '/'.join((path,'Adult_samples.mat'))\n",
        "\n",
        "# get data as dictionary\n",
        "adata = scipy.io.loadmat(matfile)\n",
        "\n",
        "# see the keys of the dictionary 'Vatrial' and 'Vventricular'\n",
        "# adata['Vatrial'] contains action potentials of cardiac cells of atrial type\n",
        "# adata['Vventricular'] contains action potentials of cardiac cells of ventricular type\n",
        "adata.keys()"
      ],
      "execution_count": 2,
      "outputs": [
        {
          "output_type": "stream",
          "name": "stdout",
          "text": [
            "Mounted at gdrive/\n"
          ]
        },
        {
          "output_type": "execute_result",
          "data": {
            "text/plain": [
              "dict_keys(['__header__', '__version__', '__globals__', 'Vatrial', 'Vventricular'])"
            ]
          },
          "metadata": {},
          "execution_count": 2
        }
      ]
    },
    {
      "cell_type": "code",
      "metadata": {
        "colab": {
          "base_uri": "https://localhost:8080/",
          "height": 331
        },
        "id": "T8vVAxrj5h1X",
        "outputId": "c1a5740e-9bc6-422e-ea63-3edcf3858666"
      },
      "source": [
        "# look at the data dimensions\n",
        "print(adata['Vatrial'].shape)\n",
        "print(adata['Vventricular'].shape)\n",
        "\n",
        "# let's see how the data looks like\n",
        "plt.plot(adata['Vatrial'][:,0])\n",
        "plt.plot(adata['Vventricular'][:,0])\n",
        "plt.legend(('atrial','ventricular'))\n",
        "plt.ylabel('Voltage [mV]')\n",
        "plt.xlabel('sample')"
      ],
      "execution_count": 3,
      "outputs": [
        {
          "output_type": "stream",
          "name": "stdout",
          "text": [
            "(347, 1000)\n",
            "(347, 1000)\n"
          ]
        },
        {
          "output_type": "execute_result",
          "data": {
            "text/plain": [
              "Text(0.5, 0, 'sample')"
            ]
          },
          "metadata": {},
          "execution_count": 3
        },
        {
          "output_type": "display_data",
          "data": {
            "image/png": "[encoded data removed]",
            "text/plain": [
              "<Figure size 432x288 with 1 Axes>"
            ]
          },
          "metadata": {
            "needs_background": "light"
          }
        }
      ]
    },
    {
      "cell_type": "markdown",
      "metadata": {
        "id": "xj7G-KM55h1X"
      },
      "source": [
        "### Part 1. Classification Using Hand-crafted Features\n",
        "In this first part we will be normalizing the data and extracting hand-crafted features that will be\n",
        "used for classification. Load the dataset **Adult_samples.mat** that contains examples of\n",
        "adult atrial and ventricular action potentials generated using the models in [(Nygren et al., 1998)](https://www.ahajournals.org/doi/abs/10.1161/01.res.82.1.63) and [(O'Hara et al., 2011)](https://journals.plos.org/ploscompbiol/article?id=10.1371/journal.pcbi.1002061).\n",
        "For each of the two classes there are $1000$ samples generated with a sampling rate of $f_s=500$ Hz.\n",
        "\n",
        "* _(15 points) Data preparation and normalization._\n",
        "Split the data between test and training sets by\n",
        "randomly selecting $10\\%$ of the points as your training set. Make sure the two classes are well represented\n",
        "in the training set (e.g., use the same number for both). Normalize the data so that each AP has zero resting potential and unit maximum amplitude. Create an array of corresponding labels for the data points. For ventricular type use the class label $+1$ and $-1$ for\n",
        "atrial type.\n",
        "Make two plots displaying your normalized training data for each of the classes. Use time units for the horizontal axis."
      ]
    },
    {
      "cell_type": "code",
      "metadata": {
        "colab": {
          "base_uri": "https://localhost:8080/",
          "height": 591
        },
        "id": "x5vdybvu5h1Y",
        "outputId": "94b911c3-9ed3-4657-f7d3-6a8f12e9d85e"
      },
      "source": [
        "# Extract atrial data\n",
        "X_atrial = adata['Vatrial']\n",
        "[D, N_atrial] = X_atrial.shape # D dimension of features (number of time points )\n",
        "\n",
        "# Extract ventricular data\n",
        "X_ventricular = adata['Vventricular']\n",
        "N_ventricular = X_ventricular.shape[1]\n",
        "\n",
        "ratioTrain = 0.1\n",
        "f_s = 500\n",
        "\n",
        "# ============================================================================\n",
        "# Write your solution below\n",
        "# ============================================================================\n",
        "sample = np.random.uniform(size = N_atrial) < ratioTrain\n",
        "\n",
        "#Normalizing Data Set\n",
        "for i in range(X_atrial.shape[1]):\n",
        "  col=X_atrial[:,i]\n",
        "  col=col-min(col)\n",
        "  col=col/max(col)\n",
        "  X_atrial[:,i]=col\n",
        "\n",
        "for i in range(X_ventricular.shape[1]):\n",
        "  col=X_ventricular[:,i]\n",
        "  col=col-min(col)\n",
        "  col=col/max(col)\n",
        "  X_ventricular[:,i]=col\n",
        "\n",
        "## Get the training and testing sets\n",
        "Atrial_train = X_atrial[:, sample]\n",
        "Ventricular_train = X_ventricular[:, sample]\n",
        "Atrial_test =  X_atrial[:,~sample]\n",
        "Ventricular_test =  X_ventricular[:,~sample]\n",
        "training=np.concatenate((Ventricular_train,Atrial_train),axis=1)\n",
        "testing=np.concatenate((Ventricular_test,Atrial_test),axis=1)\n",
        "\n",
        "#Creating Labels \n",
        "a_train_label=-1*np.ones(Atrial_train.shape[1])\n",
        "a_test_label=-1*np.ones(Atrial_test.shape[1])\n",
        "v_train_label=np.ones(Ventricular_train.shape[1])\n",
        "v_test_label=np.ones(Ventricular_test.shape[1])\n",
        "\n",
        "train_label=v_train_label.tolist()+a_train_label.tolist()\n",
        "test_label=v_test_label.tolist()+a_test_label.tolist()\n",
        "\n",
        "\n",
        "plt.plot(Atrial_train)\n",
        "plt.title('Atrial')\n",
        "plt.xlabel('Time')\n",
        "plt.ylabel('Amplitude')\n",
        "\n",
        "plt.figure()\n",
        "plt.plot(Ventricular_train)\n",
        "plt.title('Ventricular')\n",
        "plt.xlabel('Time')\n",
        "plt.ylabel('Amplitude')\n"
      ],
      "execution_count": 4,
      "outputs": [
        {
          "output_type": "execute_result",
          "data": {
            "text/plain": [
              "Text(0, 0.5, 'Amplitude')"
            ]
          },
          "metadata": {},
          "execution_count": 4
        },
        {
          "output_type": "display_data",
          "data": {
            "image/png": "[encoded data removed]",
            "text/plain": [
              "<Figure size 432x288 with 1 Axes>"
            ]
          },
          "metadata": {
            "needs_background": "light"
          }
        },
        {
          "output_type": "display_data",
          "data": {
            "image/png": "[encoded data removed]",
            "text/plain": [
              "<Figure size 432x288 with 1 Axes>"
            ]
          },
          "metadata": {
            "needs_background": "light"
          }
        }
      ]
    },
    {
      "cell_type": "markdown",
      "metadata": {
        "id": "6uhvayJ75h1Y"
      },
      "source": [
        "* _(20 points) Hand-crafted features._\n",
        "The _Action Potential Duration_ (APD) at $x\\%$ is defined as the time\n",
        "it takes to reduce the maximum amplitude of the AP to $x\\%$ of its value. Write a function that computes APD at a given\n",
        "percentage $x\\in[0,1]$. Compute also the _Average of the Action Potential_ (AAP) and build two-dimensional features\n",
        "by concatenating APD@$0.5$ and AAP. Make a scatter plot (APD vs AAP) of the training data using these two features. Use\n",
        "different colors and/or markers to represent each class.\n"
      ]
    },
    {
      "cell_type": "code",
      "metadata": {
        "colab": {
          "base_uri": "https://localhost:8080/",
          "height": 283
        },
        "id": "jHQoCr7k5h1Z",
        "outputId": "63d232df-e5c6-42f5-f2b6-d3743390d488"
      },
      "source": [
        "# ============================================================================\n",
        "# compute hand-crafted features such as APA and APDx\n",
        "# ============================================================================\n",
        "\n",
        "def apdx(X,alpha=0.5,fs=1.0):\n",
        "    m=max(X)\n",
        "    m_index=np.argmax(X)\n",
        "    i=0\n",
        "    for i in range(m_index,len(X)):\n",
        "      if(X[i]<alpha*m):\n",
        "        break\n",
        "    t=(i-m_index)/fs\n",
        "    avg=np.mean(X)\n",
        "    return(t,avg)\n",
        "\n",
        "    \"\"\"\n",
        "    This function computes the APDx feature defined as the time it takes to\n",
        "    reduce the action potential to x% of its maximum value.\n",
        "    Use:\n",
        "        APD = apdx(X,alpha,fs)\n",
        "        \n",
        "    Inputs:\n",
        "        X : data points (each column is a data point)\n",
        "        alpha : [0,1] percentage of maximum amplitude\n",
        "        fs : sampling frequency (to map samples to time)\n",
        "        \n",
        "    Output:\n",
        "        APD feature\n",
        "    \"\"\"\n",
        "\n",
        "for i in range(Atrial_train.shape[1]):\n",
        "  (x_a,y_a)=apdx(Atrial_train[:,i])\n",
        "  plt.scatter(x_a,y_a,c='red')\n",
        "  (x_v,y_v)=apdx(Ventricular_train[:,i])\n",
        "  plt.scatter(x_v,y_v,c='blue')\n",
        "plt.legend(['Atrial','Ventricular'])"
      ],
      "execution_count": 5,
      "outputs": [
        {
          "output_type": "execute_result",
          "data": {
            "text/plain": [
              "<matplotlib.legend.Legend at 0x7f5b3817de90>"
            ]
          },
          "metadata": {},
          "execution_count": 5
        },
        {
          "output_type": "display_data",
          "data": {
            "image/png": "[encoded data removed]",
            "text/plain": [
              "<Figure size 432x288 with 1 Axes>"
            ]
          },
          "metadata": {
            "needs_background": "light"
          }
        }
      ]
    },
    {
      "cell_type": "markdown",
      "metadata": {
        "id": "EkAnIFDb5h1Z"
      },
      "source": [
        "* _(25 points) Nearest-neighbor classifier._\n",
        "Implement a $1$NN classifier using the Euclidean distance. A $1$NN classifier works as follows: Given your training dataset $\\mathcal{D} = \\big\\{(\\boldsymbol x_i,y_i)\\big\\}_{i=1}^{N}$,where $N$ is the number of training samples, $\\boldsymbol x_i\\in\\mathbb{R}^D$ is a feature vector and $y_i\\in\\{-1,1\\}$ its associated label, and a novel sample $\\boldsymbol x$, the $1$NN classifier assigns to $\\boldsymbol x$ the same label as its closest point in the training set. That is, the estimated label $\\widehat y$ of $\\boldsymbol x$ is such that:\n",
        "\n",
        "\\begin{equation}\n",
        "\t\\widehat y(\\boldsymbol x) = y_{k^*},\\quad k^* = \\underset{i\\in\\{1,\\ldots,N\\}}{\\arg\\min}\\, \\lVert \\boldsymbol x_i - \\boldsymbol x \\rVert_2.\n",
        "\\end{equation}\n",
        "\n",
        "Compute and display the classification accuracy over the testing dataset using the handcrafted training features."
      ]
    },
    {
      "cell_type": "code",
      "metadata": {
        "id": "BJ6_vjI25h1a",
        "colab": {
          "base_uri": "https://localhost:8080/"
        },
        "outputId": "ff18ebfa-b65f-4a0b-8171-3ecaa8af6983"
      },
      "source": [
        "# ============================================================================\n",
        "# Nearest-neighbor classifier\n",
        "# ============================================================================\n",
        "\n",
        "def nn_classify(Xtest,Xtrain,Ytrain):\n",
        "    \"\"\"\n",
        "    This function implements a nearest neighbor classifier.\n",
        "    Use:\n",
        "        yhat = nn_classify(Xtest,Xtrain,Ytrain)\n",
        "        \n",
        "    Inputs:\n",
        "        Xtest  : test data points (each column is a data point)\n",
        "        Xtrain : training data points\n",
        "        Ytrain : associated labels to the training data points\n",
        "        \n",
        "    Output:\n",
        "        Yhat : estimated labels for the test data.\n",
        "\n",
        "    \"\"\"\n",
        "    d=[]\n",
        "    for i in range(Xtrain.shape[1]):\n",
        "      d.append(np.linalg.norm(Xtrain[:,i]-Xtest))\n",
        "    k=np.argmin(d)\n",
        "    y=Ytrain[k]\n",
        "    return y\n",
        "\n",
        "yhat=[]\n",
        "for i in range(testing.shape[1]):\n",
        "  yhat.append(nn_classify(testing[:,i],training,train_label))\n",
        "\n",
        "acc=np.mean(yhat == test_label)\n",
        "print('The Accuracy is ',format(acc))"
      ],
      "execution_count": 6,
      "outputs": [
        {
          "output_type": "stream",
          "name": "stdout",
          "text": [
            "The Accuracy is  1.0\n"
          ]
        }
      ]
    },
    {
      "cell_type": "markdown",
      "metadata": {
        "id": "XMXNR3fp5h1a"
      },
      "source": [
        "### Part 2. Classification Using Neural Network\n",
        "* _(40 points) Two-layer Neural Network._\n",
        " Implement a two-layer neural network classifier of the form:\n",
        "\n",
        "   $$\\widehat y = \\operatorname{sign}\\big(f_{\\theta}(\\phi(\\boldsymbol x))\\big),\\quad f_{\\theta}(\\phi(\\boldsymbol x)) = \\boldsymbol w^T\\phi(\\boldsymbol x) + b,\\quad \\theta = \\left[\\begin{array}{c}\\boldsymbol w\\\\b\\end{array}\\right],$$\n",
        "  \n",
        " where $x \\in \\mathbb{R}^D$, $f_\\theta: \\mathbb{R}^p \\to \\mathbb{R}$ is a _linear prediction function_ (i.e., classification layer) with $p$ parameters. Furthermore we define $\\theta = [\\boldsymbol w^T, b]^T$ with $w \\in \\mathbb{R}^p$ and $b \\in \\mathbb{R}$. The feature extraction part of the network consists of a linear layer followed by a ReLu (rectified linear unit) non-linearity:\n",
        " \n",
        " $$ \\phi(x) = \\operatorname{ReLu}\\big(\\boldsymbol W \\boldsymbol x + \\boldsymbol B\\big),\\quad\\operatorname{ReLu}(x)=\\begin{cases}x &x>0\\\\0&\\textrm{else}\\end{cases}.$$\n",
        " \n",
        " Where $\\phi: \\mathbb{R}^D \\to \\mathbb{R}^p$, $\\boldsymbol W \\in \\mathbb{R}^{p \\times D}$, $B \\in \\mathbb{R}^{p}$. In order to find the network's parameters $\\Theta=\\{\\boldsymbol W, \\boldsymbol B, \\boldsymbol w, b\\}$ minimize the following _regularized empirical risk_ using PyTorch:\n",
        "\n",
        "   $$\\min_{\\Theta}\\, \\underbrace{\\frac{1}{N} \\sum_{i=1}^N L\\big(f_\\theta(\\phi(\\boldsymbol x_i)),y_i\\big) + \\lambda\\big(\\frac{1}{|w|}\\lVert \\boldsymbol w\\rVert^2 + \\frac{1}{|W|}\\lVert\\boldsymbol W\\rVert^2\\big)}_{C(\\Theta)}$$\n",
        "    \n",
        " where the loss function $L(f, y) = \\lVert y-f\\rVert_2^2)$ is the quadratic (square) loss, and $|w|,|W|$, are the number of elements in $\\boldsymbol w$ and $\\boldsymbol W$, respectively. \n",
        "\n",
        "    * Define a network model in PyTorch according to the definition above. For that purpose you can use `torch.nn.Sequential`. Use $p \\geq 2$ for best results.  Follow this [example](https://pytorch.org/tutorials/beginner/pytorch_with_examples.html#pytorch-nn) to learn how to use it.\n",
        "    \n",
        "    * Run a gradient descent algorithm to minimize the cost function using $\\lambda =1$. Carefully choose the stepsize and number of iterations until you see the method converges (i.e., the cost function gets to a \"plateau\").\n",
        "    \n",
        "    * Plot the cost over the iterations and display the classification accuracy over the testing dataset."
      ]
    },
    {
      "cell_type": "code",
      "metadata": {
        "id": "-Q0skTK95h1a"
      },
      "source": [
        "from torch import nn\n",
        "torch.manual_seed(0) # fix random number generator\n",
        "stepSize = 5e-3\n",
        "numIterations = 10000\n",
        "lambdaValue = 1\n",
        "p = 2\n",
        "\n",
        "# ============================================================================\n",
        "# Write your solution below based on outline\n",
        "# ============================================================================\n",
        "# Define Xtrain as a Ntrain x D tensor and Ytrain should be a Ntrain x 1\n",
        "Xtrain = torch.from_numpy(training.T).float() \n",
        "Ytrain = torch.from_numpy(np.array(train_label).reshape(-1,1)).float()\n",
        "Xtest= torch.from_numpy(testing.T).float() \n",
        "[Ntrain,D]= list(Xtrain.size())\n",
        "\n",
        "# Define a linear function with D inputs and p outputs and include a bias term\n",
        "l1=nn.Linear(in_features=D,out_features=p,bias=True)\n",
        "\n",
        "# Define a Rectified Linear Unit \n",
        "l2=nn.ReLU()\n",
        "\n",
        "# Define another linear funcion with p inputs and 1 output also include a bias term\n",
        "l3=nn.Linear(in_features=p,out_features=1,bias=True)\n",
        "\n",
        "# Define a neural network combining these 3 functions\n",
        "network = torch.nn.Sequential(l1,l2,l3)\n",
        "cost_l=[]\n",
        "for iteration in range(numIterations):\n",
        "    # Use network to predict Y\n",
        "    yhat=network(Xtrain)\n",
        "    \n",
        "    # Define the cost function \n",
        "    d=nn.MSELoss()\n",
        "    cost=d(yhat,Ytrain)+lambdaValue*(l1.weight.pow(2).mean()+l3.weight.pow(2).mean())\n",
        "    \n",
        "    \n",
        "    # Backpropagation: Update the gradients of the cost function using it's backward() method\n",
        "    cost.backward()\n",
        "    cost_l.append(cost.item())\n",
        "        \n",
        "    with torch.no_grad():\n",
        "        # Updating parameters based on gradients\n",
        "        for param in network.parameters():\n",
        "            param -= stepSize * param.grad\n",
        "        network.zero_grad()\n",
        "\n"
      ],
      "execution_count": 7,
      "outputs": []
    },
    {
      "cell_type": "code",
      "metadata": {
        "colab": {
          "base_uri": "https://localhost:8080/",
          "height": 313
        },
        "id": "PBuxwnwpnN0t",
        "outputId": "5f926b72-c933-47fa-dcc3-2ce04784007c"
      },
      "source": [
        "plt.plot(cost_l)\n",
        "plt.title('Cost Over Iterations')\n",
        "plt.ylabel('Cost')\n",
        "plt.xlabel('Iterations')"
      ],
      "execution_count": 8,
      "outputs": [
        {
          "output_type": "execute_result",
          "data": {
            "text/plain": [
              "Text(0.5, 0, 'Iterations')"
            ]
          },
          "metadata": {},
          "execution_count": 8
        },
        {
          "output_type": "display_data",
          "data": {
            "image/png": "[encoded data removed]",
            "text/plain": [
              "<Figure size 432x288 with 1 Axes>"
            ]
          },
          "metadata": {
            "needs_background": "light"
          }
        }
      ]
    },
    {
      "cell_type": "code",
      "metadata": {
        "colab": {
          "base_uri": "https://localhost:8080/"
        },
        "id": "8FRO05c6lBbN",
        "outputId": "918b63f8-3f6f-41b8-e5e9-d353b6923ff2"
      },
      "source": [
        "yhat_test=np.sign(network(Xtest).detach().numpy()).flatten()\n",
        "acc=np.mean(yhat_test==test_label)\n",
        "print('Accuracy is',format(acc))\n"
      ],
      "execution_count": 9,
      "outputs": [
        {
          "output_type": "stream",
          "name": "stdout",
          "text": [
            "Accuracy is 1.0\n"
          ]
        }
      ]
    }
  ]
}