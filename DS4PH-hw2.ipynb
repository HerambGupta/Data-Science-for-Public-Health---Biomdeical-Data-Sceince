{
 "cells": [
  {
   "cell_type": "code",
   "execution_count": 94,
   "id": "22b11ffb-f495-46c1-835c-02ac27a23db7",
   "metadata": {},
   "outputs": [],
   "source": [
    "import numpy as np\n",
    "import random"
   ]
  },
  {
   "cell_type": "markdown",
   "id": "1d663bee-b4b9-4b33-8b0a-7b1137e1eefa",
   "metadata": {},
   "source": [
    "# Question 1 The Sorting Hat at Hogwarts"
   ]
  },
  {
   "cell_type": "markdown",
   "id": "b878c760-ca6f-4c4a-9352-6e11877f0f06",
   "metadata": {},
   "source": [
    "## The sorting hat takes into consideration the choice of the person being sorted. So what the program does is ask the person which house they want to be a part of if they do not have an opinion about it - they say they no to every house being offered then it randomly assigns a house."
   ]
  },
  {
   "cell_type": "code",
   "execution_count": 105,
   "id": "422b75e5-ba56-4769-b23b-325c697076d1",
   "metadata": {},
   "outputs": [
    {
     "name": "stdout",
     "output_type": "stream",
     "text": [
      "Do you wish to be a Gryffindor\n"
     ]
    },
    {
     "name": "stdin",
     "output_type": "stream",
     "text": [
      " n\n"
     ]
    },
    {
     "name": "stdout",
     "output_type": "stream",
     "text": [
      "Do you wish to be a Slytherin\n"
     ]
    },
    {
     "name": "stdin",
     "output_type": "stream",
     "text": [
      " n\n"
     ]
    },
    {
     "name": "stdout",
     "output_type": "stream",
     "text": [
      "Do you wish to be a Ravenclaw\n"
     ]
    },
    {
     "name": "stdin",
     "output_type": "stream",
     "text": [
      " n\n"
     ]
    },
    {
     "name": "stdout",
     "output_type": "stream",
     "text": [
      "Do you wish to be a Hufflepuff\n"
     ]
    },
    {
     "name": "stdin",
     "output_type": "stream",
     "text": [
      " n\n"
     ]
    },
    {
     "name": "stdout",
     "output_type": "stream",
     "text": [
      "Your house is Ravenclaw\n"
     ]
    }
   ],
   "source": [
    "house=['Gryffindor','Slytherin','Ravenclaw','Hufflepuff']\n",
    "p=1\n",
    "for i in range(4):\n",
    "    print(\"Do you wish to be a\",house[i])\n",
    "    ans=input()\n",
    "    if(ans == 'y' or ans == 'Y'):\n",
    "        print('')\n",
    "        print('Your house is',house[i])\n",
    "        p=0\n",
    "        break\n",
    "        \n",
    "if p==1:\n",
    "    c=random.randint(0,3)\n",
    "    print('Your house is',house[c])"
   ]
  },
  {
   "cell_type": "markdown",
   "id": "18d8a5f3-562b-4b3f-a2ed-c05b7680babb",
   "metadata": {},
   "source": [
    "# Question 2 myData"
   ]
  },
  {
   "cell_type": "code",
   "execution_count": 31,
   "id": "16519045-f7e3-4fa5-a7be-e512b64e9910",
   "metadata": {},
   "outputs": [
    {
     "name": "stdin",
     "output_type": "stream",
     "text": [
      "Enter the size of the vector 4\n"
     ]
    },
    {
     "name": "stdout",
     "output_type": "stream",
     "text": [
      "Enter the elements\n"
     ]
    },
    {
     "name": "stdin",
     "output_type": "stream",
     "text": [
      " 5\n",
      " 6\n",
      " 7\n",
      " 8\n"
     ]
    },
    {
     "name": "stdout",
     "output_type": "stream",
     "text": [
      "The mean is  6.5\n",
      "The standard deviation is  1.118033988749895\n"
     ]
    }
   ],
   "source": [
    "class myData:\n",
    "    def __init__(self, arr):\n",
    "        self.arr =arr\n",
    "        \n",
    "    def mean(self):\n",
    "        return np.mean(self.arr)\n",
    "    \n",
    "    def std(self):\n",
    "        return np.std(self.arr)\n",
    "        \n",
    "\n",
    "vec=[]\n",
    "s=int(input(\"Enter the size of the vector\"))\n",
    "print(\"Enter the elements\")\n",
    "for i in range(s):\n",
    "    vec.append(int(input(\"\")))\n",
    "d1=myData(vec)\n",
    "print(\"The mean is \",d1.mean())\n",
    "print(\"The standard deviation is \",d1.std())"
   ]
  },
  {
   "cell_type": "markdown",
   "id": "eb3cd399-c4e3-480a-92a6-a2dccad3de94",
   "metadata": {},
   "source": [
    "# Question 3 Lag"
   ]
  },
  {
   "cell_type": "code",
   "execution_count": 77,
   "id": "eb92ed22-a365-48c7-bd7e-718b91c74625",
   "metadata": {},
   "outputs": [],
   "source": [
    "#FUNCTION DEFINITION\n",
    "\n",
    "def lag(arr,n):\n",
    "    s=len(arr)\n",
    "    for i in range(1,s-n+1):\n",
    "        arr[s-i]=arr[s-i-n]\n",
    "        \n",
    "    for i in range(n):\n",
    "        arr[i]=np.nan\n",
    "    \n",
    "    return arr"
   ]
  },
  {
   "cell_type": "code",
   "execution_count": 79,
   "id": "f7042882-b7a7-4547-ad4b-f2123c4ba7d5",
   "metadata": {},
   "outputs": [
    {
     "name": "stdin",
     "output_type": "stream",
     "text": [
      "Enter the size of the array 4\n"
     ]
    },
    {
     "name": "stdout",
     "output_type": "stream",
     "text": [
      "Enter the elements of the array\n"
     ]
    },
    {
     "name": "stdin",
     "output_type": "stream",
     "text": [
      " 1\n",
      " 2\n",
      " 3\n",
      " 4\n",
      "Enter the lag 2\n"
     ]
    }
   ],
   "source": [
    "#ACCEPTING VALUES FROM USER\n",
    "\n",
    "size=int(input(\"Enter the size of the array\")) \n",
    "a=np.zeros(size)\n",
    "print(\"Enter the elements of the array\")\n",
    "for i in range(size):\n",
    "    a[i]=float(input(\"\"))\n",
    "\n",
    "while True:\n",
    "    n=int(input(\"Enter the lag\"))\n",
    "    if n<=s:\n",
    "        break\n",
    "    print('!!!!!!!!!! ERROR !!!!!!!!!!') \n",
    "    print('The lag should be less than or equal to the array size : Please enter again')\n",
    "    print('')    "
   ]
  },
  {
   "cell_type": "code",
   "execution_count": 80,
   "id": "ff194c45-ab54-4545-a276-3d11481e92a1",
   "metadata": {},
   "outputs": [
    {
     "name": "stdout",
     "output_type": "stream",
     "text": [
      "\n",
      "The lagged array is [nan nan  1.  2.]\n",
      "The type of the array is  <class 'numpy.ndarray'>\n"
     ]
    }
   ],
   "source": [
    "#FUNCTION CALL\n",
    "\n",
    "lag_a=lag(a,n)\n",
    "\n",
    "print('')\n",
    "print('The lagged array is',lag_a)   \n",
    "print('The type of the array is ',type(lag_a))    "
   ]
  },
  {
   "cell_type": "markdown",
   "id": "54b32291-8b4f-47ff-9e74-57a3c63d7af1",
   "metadata": {},
   "source": [
    "# Question 4 Lag Generator"
   ]
  },
  {
   "cell_type": "code",
   "execution_count": 81,
   "id": "a376d2c8-71b2-4486-99dc-7bd1a974dff4",
   "metadata": {},
   "outputs": [],
   "source": [
    "#FUNCTION DEFINITION\n",
    "\n",
    "def lagGenerator(n):\n",
    "    return lambda x: lag(x,n)\n"
   ]
  },
  {
   "cell_type": "code",
   "execution_count": 82,
   "id": "d5c45c3f-c7ac-4975-8109-553d6dfa0fa8",
   "metadata": {},
   "outputs": [
    {
     "name": "stdin",
     "output_type": "stream",
     "text": [
      "Enter the size of the array 4\n"
     ]
    },
    {
     "name": "stdout",
     "output_type": "stream",
     "text": [
      "Enter the elements of the array\n"
     ]
    },
    {
     "name": "stdin",
     "output_type": "stream",
     "text": [
      " 1\n",
      " 2\n",
      " 3\n",
      " 4\n",
      "Enter the lag 2\n"
     ]
    }
   ],
   "source": [
    "#ACCEPTING VALUES FROM USER\n",
    "\n",
    "size=int(input(\"Enter the size of the array\")) \n",
    "a=np.zeros(size)\n",
    "print(\"Enter the elements of the array\")\n",
    "for i in range(size):\n",
    "    a[i]=float(input(\"\"))\n",
    "\n",
    "while True:\n",
    "    n=int(input(\"Enter the lag\"))\n",
    "    if n<=s:\n",
    "        break\n",
    "    print('!!!!!!!!!! ERROR !!!!!!!!!!') \n",
    "    print('The lag should be less than or equal to the array size : Please enter again')\n",
    "    print('')   "
   ]
  },
  {
   "cell_type": "code",
   "execution_count": 83,
   "id": "fef94890-b79d-451a-b3ca-658278f2f4f3",
   "metadata": {},
   "outputs": [
    {
     "data": {
      "text/plain": [
       "array([nan, nan,  1.,  2.])"
      ]
     },
     "execution_count": 83,
     "metadata": {},
     "output_type": "execute_result"
    }
   ],
   "source": [
    "#FUNCTION CALL\n",
    "\n",
    "g=lagGenerator(n)\n",
    "g(a)\n"
   ]
  }
 ],
 "metadata": {
  "kernelspec": {
   "display_name": "Python 3 (ipykernel)",
   "language": "python",
   "name": "python3"
  },
  "language_info": {
   "codemirror_mode": {
    "name": "ipython",
    "version": 3
   },
   "file_extension": ".py",
   "mimetype": "text/x-python",
   "name": "python",
   "nbconvert_exporter": "python",
   "pygments_lexer": "ipython3",
   "version": "3.9.7"
  }
 },
 "nbformat": 4,
 "nbformat_minor": 5
}
