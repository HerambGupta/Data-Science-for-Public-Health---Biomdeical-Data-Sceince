{
  "nbformat": 4,
  "nbformat_minor": 0,
  "metadata": {
    "colab": {
      "name": "prelab21.ipynb",
      "provenance": [],
      "collapsed_sections": [],
      "include_colab_link": true
    },
    "kernelspec": {
      "display_name": "Python 3",
      "language": "python",
      "name": "python3"
    },
    "language_info": {
      "codemirror_mode": {
        "name": "ipython",
        "version": 3
      },
      "file_extension": ".py",
      "mimetype": "text/x-python",
      "name": "python",
      "nbconvert_exporter": "python",
      "pygments_lexer": "ipython3",
      "version": "3.7.3"
    }
  },
  "cells": [
    {
      "cell_type": "markdown",
      "metadata": {
        "id": "view-in-github",
        "colab_type": "text"
      },
      "source": [
        "<a href=\"https://colab.research.google.com/github/ds4ph-bme/prelab2-HerambGupta/blob/main/prelab21.ipynb\" target=\"_parent\"><img src=\"https://colab.research.google.com/assets/colab-badge.svg\" alt=\"Open In Colab\"/></a>"
      ]
    },
    {
      "cell_type": "markdown",
      "metadata": {
        "id": "fsmBIL_SkxA5"
      },
      "source": [
        "##Name: Heramb Gupta \n",
        "##JHED: hgupta6 "
      ]
    },
    {
      "cell_type": "markdown",
      "metadata": {
        "id": "HUKqIpAvkxA6"
      },
      "source": [
        "# Prelab 2: Introduction to optimization with PyTorch\n",
        "\n",
        "By **Benjamín Béjar Haro** and edited by **Kwame Kutten**"
      ]
    },
    {
      "cell_type": "markdown",
      "metadata": {
        "id": "tTbiC0_eruI1"
      },
      "source": [
        "In this prelab we will learn how to implement gradient descent for finding local minima of a given cost function. This will provide us with a basic tool for many machine learning and classification problems since, at the end of the day, finding a classifier amounts to solving some optimization problem. In this lab we will also learn how gradient descent\n",
        "can be implemented using [PyTorch](https://pytorch.org/tutorials/), a scientific library for developing machine (deep) learning methods. Towards that goal, we will be learning a [linear classifier](https://en.wikipedia.org/wiki/Linear_classifier) on the [MNIST](https://en.wikipedia.org/wiki/MNIST_database) digit [dataset](http://yann.lecun.com/exdb/mnist/). As a loss function, we will be using a simple quadratic function. You will first apply your calculus skills to the problem, and analytically solve it. Then you will learn how to solve the same problem by implementing the gradient descent method and applying it to the cost function. Finally, you will learn the basics of PyTorch by using the built-in functions to train the classifier. This pre-lab assignment needs to be solved in this Notebook.\n",
        "\n",
        "## The data\n",
        "The MNIST database \\[[1](http://yann.lecun.com/exdb/mnist/)\\]\\[[2](https://en.wikipedia.org/wiki/MNIST_database)\\] consists of $28\\times 28$ grayscale images of handwritten digits, along with the correct label for each image. These are in the form of $28\\times 28$ matrices with the value of each index being an 8-bit integer ranging from 0 (black) to 255 (white), and one integer between 0 and 9, corresponding to the digit displayed in the image. The database is split into two separate training and testing sets.\n",
        "\n",
        "\n",
        "## Problem description\n",
        "We are given a set of $N$ feature-label pairs $\\big\\{\\big(\\boldsymbol x_i,c_i\\big)\\big\\}_{i=0}^{N-1}$ where each $\\boldsymbol x_i\\in\\mathbb{R}^p$ corresponds to a vectorized $28\\times28$ grayscale image of a digit, and $c_i\\in \\{0,1,\\ldots,9\\}$ is the digit's class. Thus for this dataset the feature vector length is $p = 28\\times 28 = 784$ and there are $n=10$ categories. Since we are dealing with a multi-class classification problem we will encode each digit's class with a one-hot embedding vector as:\n",
        "$$\\boldsymbol y_i = \\begin{bmatrix}\n",
        "y_{i0} \\\\\n",
        "\\vdots \\\\\n",
        "y_{i9} \n",
        "\\end{bmatrix},\\quad y_{ij} = \\begin{cases}1 &c_i = j\\\\0&\\textrm{else}\\end{cases}.$$\n",
        "The goal is then to find a prediction function $f:\\mathbb{R}^p\\mapsto\\{0,1\\}^n$ that maps features $\\boldsymbol x_i$ (images) to labels $\\boldsymbol y_i$. In order to do so, we will use a linear prediction function:\n",
        "\n",
        "$$f(\\boldsymbol x) = \\boldsymbol W \\boldsymbol x,\\quad \\boldsymbol W\\in\\mathbb{R}^{n\\times p},$$\n",
        "where the $j$th row of $\\boldsymbol W$ represents a predictor for the $j$th class. In order to decide upon the estimated class we take the strongest response of our set of predictors, that is:\n",
        "$$\\widehat{c}_i = \\arg\\max_{j}\\,\\boldsymbol W\\boldsymbol x_i.$$"
      ]
    },
    {
      "cell_type": "markdown",
      "metadata": {
        "id": "YWHEvlKQkxA8"
      },
      "source": [
        "## Problem formulation (optimization problem)\n",
        "With all previous considerations in mind we can now define the optimization problem to estimate the parameters $\\boldsymbol W$ of our linear predictor. In order to do that, we need to define some loss function on our predictions that penalizes deviations from the true target. For this problem, we will be using a simple quadratic loss function $L\\big(f(\\boldsymbol x),\\boldsymbol y\\big) = \\lVert \\boldsymbol y - f(\\boldsymbol x)\\rVert_2^2$. The goal is then to find the parameters $\\boldsymbol W$ of our linear predictor function $f(\\cdot)$ that minimize the average loss over the set of samples:\n",
        "$$\\min_{\\boldsymbol W}\\; \\frac{1}{N}\\sum_{i=0}^{N-1}\\lVert \\boldsymbol y_i - \\boldsymbol W\\boldsymbol x_i\\rVert_2^2.$$\n",
        "Note that the above optimization problem can be expressed in a compact form as:\n",
        "$$\\min_{\\boldsymbol W}\\; \\frac{1}{N}\\lVert \\boldsymbol Y - \\boldsymbol W\\boldsymbol X\\rVert_F^2,$$\n",
        "where $\\lVert\\cdot\\rVert_F$ is the Frobenius ($\\ell_2$) norm of a matrix, and where the matrices $\\boldsymbol Y=[\\boldsymbol y_0,\\ldots,\\boldsymbol y_{N-1}]$ and $\\boldsymbol X = [\\boldsymbol x_0,\\ldots,\\boldsymbol x_{N-1}]$ consist of stacking the label and feature vector representations, respectively."
      ]
    },
    {
      "cell_type": "markdown",
      "metadata": {
        "id": "ULhNzAdMkxA9"
      },
      "source": [
        "**Exercise 1 (25 points).** Given the feature and label matrices $\\boldsymbol X\\in\\mathbb{R}^{p\\times N}$ and $\\boldsymbol Y\\in\\mathbb{R}^{n\\times N}$, find a closed-form solution $\\boldsymbol W^\\star$ for the optimization problem:\n",
        "$$\\min_{\\boldsymbol W}\\; \\frac{1}{N}\\lVert \\boldsymbol Y - \\boldsymbol W\\boldsymbol X\\rVert_F^2.$$\n",
        "You can find the minimizer by setting the derivative of the cost function to zero.  **Hint:** You answer should contain the [pseudoinverse](https://en.wikipedia.org/wiki/Moore%E2%80%93Penrose_inverse#Definition) of $X$ which is dentoted $X^+$. By definition $X = XX^+X$. You may also find the following matrix identities helpful for $A \\in \\mathbb{R}^{q\\times r}$ and $B \\in \\mathbb{R}^{s\\times q}$. \n",
        " * $ \\frac{d}{dA} \\lVert A \\rVert_F =A $\n",
        " * $\\frac{d}{dA}BA = B^T$\n",
        " * $(A^T)^+ = (A^+)^T$\n",
        " * $A^T X^{T+} X^+ = A^+$ "
      ]
    },
    {
      "cell_type": "markdown",
      "metadata": {
        "id": "0nt7942bkxA9"
      },
      "source": [
        "We have to minimize $$ \\frac{1}{N}\\lVert Y - WX\\rVert_F^2 $$\n",
        "\n",
        "Differentiating with respect to $W $\n",
        "\n",
        "$$ \\frac{d}{dW} (\\frac{1}{N}\\lVert Y - WX\\rVert_F^2) $$\n",
        "$$ $$\n",
        "$$ = \\frac{2}{N} ( Y - WX) \\frac{d}{dW} (Y-WX)$$\n",
        "$$ $$\n",
        "$$ = \\frac{2}{N} ( Y - WX) (\\frac{d}{dW}Y- \\frac{d}{dW}WX)$$\n",
        "$$ $$\n",
        "$$ = \\frac{2}{N} ( Y - WX) (0- X^T)$$\n",
        "$$ $$\n",
        "$$ = \\frac{-2}{N} ( Y - WX)X^T$$\n",
        "$$ $$\n",
        "$$ = \\frac{-2}{N} ( Y - WX)X^T$$\n",
        "$$ $$\n",
        "$$ = \\frac{-2}{N} (YX^T - WXX^T) $$\n",
        "To find $W^\\star$\n",
        "$$ \\frac{-2}{N} (YX^T - W^\\star XX^T) =0 $$\n",
        "$$ $$\n",
        "$$ (YX^T - W^\\star XX^T) =0 $$\n",
        "$$ $$\n",
        "$$ YX^T = W^\\star XX^T $$\n",
        "$$ $$\n",
        "$$ YX^T (XX^T)^+ = W^\\star $$\n",
        "$$ $$\n",
        "$$ YX^T X^+ X^{T+} = W^\\star $$\n",
        "$$ $$\n",
        "$$ YX^+ = W^\\star $$\n",
        "\n",
        "Therefore,\n",
        "\n",
        "$$ \\boldsymbol W^\\star = \\boldsymbol {YX^+} $$"
      ]
    },
    {
      "cell_type": "markdown",
      "metadata": {
        "id": "o3tBC7c6QOi4"
      },
      "source": [
        "# Data loading and pre-processing\n",
        "\n",
        "First we need to download the data and pre-process it. The MNIST database is very well known and available to download in PyTorch using a [pre-defined function](https://pytorch.org/docs/stable/torchvision/datasets.html#mnist). Then, we scale and shift the images such that the value associated with each index lies between -1 and +1. Again, we can use pre-defined PyTorch [transform functions](https://pytorch.org/docs/stable/torchvision/transforms.html) to do so. This requires an extra step of casting the image to a `torch.Tensor` object. Tensors are multi-dimensional array objects that PyTorch uses as variables."
      ]
    },
    {
      "cell_type": "markdown",
      "metadata": {
        "id": "0oL54kYHruI2"
      },
      "source": [
        "As usual, we start our Python code by importing the dependencies.  In Anaconda the `torch` and `torchvision` modules will be installed if they are not avialable."
      ]
    },
    {
      "cell_type": "code",
      "metadata": {
        "id": "RXhX_Wh9ruI4"
      },
      "source": [
        "# import modules here\n",
        "\n",
        "import numpy as np\n",
        "import matplotlib.pyplot as plt\n",
        "\n",
        "# inline plots for matplotlib\n",
        "%matplotlib inline\n",
        "\n",
        "\n",
        "try:\n",
        "    import torch, torchvision\n",
        "except:\n",
        "    # Install packages if not available\n",
        "    !conda install -y -c pytorch pytorch\n",
        "    !conda install -y -c pytorch torchvision\n",
        "    import torch, torchvision\n",
        "import torchvision.transforms as transforms\n",
        "\n",
        "# set the seed of PyTorch random number generator for reproducibility\n",
        "torch.manual_seed(0)\n",
        "\n",
        "# define transformation object to be applied to the data, list of transformations through Compose\n",
        "# first convert to tensor\n",
        "# then subtract 0.5 to every entry\n",
        "transform = transforms.Compose([transforms.ToTensor(),transforms.Normalize((0.5,), (0.5,))])"
      ],
      "execution_count": 1,
      "outputs": []
    },
    {
      "cell_type": "markdown",
      "metadata": {
        "id": "mW4jxoUSTS8N"
      },
      "source": [
        "Next, we use the `torchvision.datasets.MNIST` command to load the database. As the database is very large and contains more images than we require, we use the PyTorch [dataloader function](https://pytorch.org/docs/stable/data.html#torch.utils.data.DataLoader) to load a certain number of images, along with their labels, as local varables.  You may need to edit the `path` variable below if necessary."
      ]
    },
    {
      "cell_type": "code",
      "metadata": {
        "id": "nKc6Ef2kkxBA",
        "colab": {
          "base_uri": "https://localhost:8080/"
        },
        "outputId": "24b19743-e7c4-447f-aea9-94a387bdc4b0"
      },
      "source": [
        "# ============================================================================\n",
        "# Edit path variable below if necessary\n",
        "# ============================================================================\n",
        "try:\n",
        "    # Executes if running in Google Colab\n",
        "    from google.colab import drive\n",
        "    drive.mount(\"gdrive/\")\n",
        "    path = \"gdrive/My Drive/\" # Change path to location of data if necessary\n",
        "except:\n",
        "    # Executes if running locally (e.g. Anaconda)\n",
        "    path = \"./\" # Change path to location of data if necessary\n",
        "\n",
        "# Download the data if not already in the specified directory\n",
        "trainset = torchvision.datasets.MNIST(path, train=True, transform=transform, download=True)\n",
        "testset  = torchvision.datasets.MNIST(path, train=False, transform=transform, download=True)"
      ],
      "execution_count": 2,
      "outputs": [
        {
          "output_type": "stream",
          "name": "stdout",
          "text": [
            "Mounted at gdrive/\n"
          ]
        },
        {
          "output_type": "stream",
          "name": "stderr",
          "text": [
            "/usr/local/lib/python3.7/dist-packages/torchvision/datasets/mnist.py:498: UserWarning: The given NumPy array is not writeable, and PyTorch does not support non-writeable tensors. This means you can write to the underlying (supposedly non-writeable) NumPy array using the tensor. You may want to copy the array to protect its data or make it writeable before converting it to a tensor. This type of warning will be suppressed for the rest of this program. (Triggered internally at  /pytorch/torch/csrc/utils/tensor_numpy.cpp:180.)\n",
            "  return torch.from_numpy(parsed.astype(m[2], copy=False)).view(*s)\n"
          ]
        }
      ]
    },
    {
      "cell_type": "code",
      "metadata": {
        "id": "YZ4kUG9qmREf"
      },
      "source": [
        "# specify the number of points to be extracted at every iteration\n",
        "trainloader = torch.utils.data.DataLoader(trainset, batch_size=10000,shuffle=False) # 10,000 images from the training set\n",
        "testloader = torch.utils.data.DataLoader(testset, batch_size=1000,shuffle=False)    #  1,000 images from the testing set\n",
        "\n",
        "# create an iterator to return the data from the data loader\n",
        "dataiter = iter(trainloader)\n",
        "# loading the training data into the images and labels variables\n",
        "images, labels = dataiter.next()\n",
        "# similarly for the test data\n",
        "test_dataiter = iter(testloader)\n",
        "test_images, test_labels = test_dataiter.next()"
      ],
      "execution_count": 3,
      "outputs": []
    },
    {
      "cell_type": "code",
      "metadata": {
        "id": "yLAlH2ZJklzK",
        "colab": {
          "base_uri": "https://localhost:8080/"
        },
        "outputId": "75d5a166-17bf-4581-d265-d96fc123eac1"
      },
      "source": [
        "# check the sizes to make sure you have done everything right:\n",
        "print(images.shape) # you should get [10000,1,28,28]\n",
        "print(labels.shape)"
      ],
      "execution_count": 4,
      "outputs": [
        {
          "output_type": "stream",
          "name": "stdout",
          "text": [
            "torch.Size([10000, 1, 28, 28])\n",
            "torch.Size([10000])\n"
          ]
        }
      ]
    },
    {
      "cell_type": "markdown",
      "metadata": {
        "id": "zMxZaXE9kxBA"
      },
      "source": [
        "Now your data is in the `images` variable. Let's just display an example."
      ]
    },
    {
      "cell_type": "code",
      "metadata": {
        "id": "xkWWjQavl-sr",
        "colab": {
          "base_uri": "https://localhost:8080/",
          "height": 283
        },
        "outputId": "5ff65565-a39f-4234-fd90-273770a8aa0c"
      },
      "source": [
        "# choose an index\n",
        "num_image = 7\n",
        "\n",
        "# for displaying an image we need to convert the tensor to a numpy array\n",
        "# the squeeze() function removes all redundant dimensions of the array i.e., \n",
        "# images[num_array] is a 1x1x28x28 array\n",
        "plt.imshow(images[num_image].numpy().squeeze(), cmap='gray');\n",
        "\n",
        "# maybe investigate the values:\n",
        "print(images[1,0,22,10].squeeze())"
      ],
      "execution_count": 5,
      "outputs": [
        {
          "output_type": "stream",
          "name": "stdout",
          "text": [
            "tensor(0.9843)\n"
          ]
        },
        {
          "output_type": "display_data",
          "data": {
            "image/png": "[encoded data removed]",
            "text/plain": [
              "<Figure size 432x288 with 1 Axes>"
            ]
          },
          "metadata": {
            "needs_background": "light"
          }
        }
      ]
    },
    {
      "cell_type": "code",
      "metadata": {
        "id": "WCMYfHUkkxBB",
        "colab": {
          "base_uri": "https://localhost:8080/"
        },
        "outputId": "50fd0498-58a2-4e3f-930f-4d50c2d31d82"
      },
      "source": [
        "print(images[1,0,0:5,0:5].squeeze())"
      ],
      "execution_count": 6,
      "outputs": [
        {
          "output_type": "stream",
          "name": "stdout",
          "text": [
            "tensor([[-1., -1., -1., -1., -1.],\n",
            "        [-1., -1., -1., -1., -1.],\n",
            "        [-1., -1., -1., -1., -1.],\n",
            "        [-1., -1., -1., -1., -1.],\n",
            "        [-1., -1., -1., -1., -1.]])\n"
          ]
        }
      ]
    },
    {
      "cell_type": "markdown",
      "metadata": {
        "id": "qn8imXYvX42f"
      },
      "source": [
        "**Exercise 2 (25 points).** Using the data provided for training and the expression for the optimal predictor's weights derived in the previous exercise compute the optimal predictor over the training data. Then apply your predictor to the testing set. Report classification accuracy over both training and testing sets."
      ]
    },
    {
      "cell_type": "markdown",
      "metadata": {
        "id": "EH_JAG6hkxBB"
      },
      "source": [
        "For a set of ground-truth labels $c_i$ and their corresponding estimates $\\widehat{c}_i$, the __accuracy__ is defined as:\n",
        "\n",
        "$$Acc = \\frac{1}{N}\\sum_{i=0}^{N-1}\\mathbb{1}\\big(c_i == \\widehat{c}_i\\big),\\quad \\mathbb{1}\\big(z\\big) = \\begin{cases}1&z\\; \\textrm{is true}\\\\0 &\\textrm{else}\\end{cases}.$$"
      ]
    },
    {
      "cell_type": "code",
      "metadata": {
        "id": "IceYhRVam_LO",
        "colab": {
          "base_uri": "https://localhost:8080/"
        },
        "outputId": "ff2ea2fd-1b67-424d-b3b1-20780af40418"
      },
      "source": [
        "imageWidth = images.shape[2]\n",
        "imageHeight = images.shape[3]\n",
        "numTrainImages = images.shape[0]\n",
        "numTestImages = test_images.shape[0]\n",
        "p = imageWidth*imageHeight\n",
        "test_imageWidth = test_images.shape[2]\n",
        "test_imageHeight = test_images.shape[3]\n",
        "pt=test_imageWidth*test_imageHeight\n",
        "# ============================================================================\n",
        "# Solve Exercise 2 below\n",
        "# Hint: Create X as p by N array where N is numTrainImages to contain images.\n",
        "# Then use X -= np.mean(X,axis=0) to normalize the data.\n",
        "# Y should be a 10 by N one-hot array based on labels\n",
        "# ============================================================================\n",
        "\n",
        "#==================Training Data Set========================================== \n",
        "N=numTrainImages\n",
        "x=np.zeros(shape=(p,N))\n",
        "y=np.zeros(shape=(10,N))\n",
        "for i in range(N):\n",
        "  x[:,i]=images[i].flatten().numpy()\n",
        "x = x - np.mean(x,axis=0)\n",
        "for i in range(numTrainImages): \n",
        "  y[labels[i], i] = 1\n",
        "\n",
        "ws=y@np.linalg.pinv(x)\n",
        "e=ws@x\n",
        "c_train = labels.numpy()\n",
        "c_hat_train=np.argmax(e, axis=0)\n",
        "acc = np.mean(c_train == c_hat_train)\n",
        "print(acc)\n",
        "\n",
        "#=================Testing Data Set============================================\n",
        "Nt=numTestImages\n",
        "xt=np.zeros(shape=(pt,Nt))\n",
        "yt=np.zeros(shape=(10,Nt))\n",
        "for i in range(Nt):\n",
        "  xt[:,i]=test_images[i].flatten().numpy()\n",
        "xt -= np.mean(xt,axis=0)\n",
        "et=ws@xt\n",
        "c_train_t = test_labels.numpy()\n",
        "c_hat_train_t=np.argmax(et, axis=0)\n",
        "acc_t = np.mean(c_train_t == c_hat_train_t)\n",
        "print(acc_t)"
      ],
      "execution_count": 13,
      "outputs": [
        {
          "output_type": "stream",
          "name": "stdout",
          "text": [
            "0.8767\n",
            "0.795\n"
          ]
        }
      ]
    },
    {
      "cell_type": "markdown",
      "metadata": {
        "id": "Z2HEbvXhbVne"
      },
      "source": [
        "## Optimization via gradient descent\n",
        "The quadratic optimization problem considered in this pre-lab has a closed-form solution. In many practical cases however, a closed-form solution does not exist and the solution needs to be computed via an iterative method. Suppose we are given a smooth cost function $C(\\boldsymbol x)$ that we want to minimize over $\\boldsymbol x$. A very simple method to find a local minimizer of the function is to use a _gradient descent_ method. The main idea is to compute the gradient (derivative) of the cost function at a given point and move towards the direction opposite to the gradient of the function (recall that the gradient of a function gives you the direction of maximum variation of the signal). This process is repeated until convergence to a critical point of the cost function to be minimized. The general procedure for the gradient descent method at every iteration is given by the following update rule:\n",
        "$$\n",
        " \t\\boldsymbol x^{(k+1)} = \\boldsymbol x^{(k)} - \\mu \\nabla_{\\boldsymbol x} C\\big(\\boldsymbol x^{(k)}\\big),\n",
        "$$\n",
        "where $\\boldsymbol x^{(k)}$ denotes the estimate at $k$th iteration, $ \\nabla_{\\boldsymbol x} C\\big(\\cdot\\big)$ is the gradient of $C\\big(\\cdot\\big)$ with respect to $\\boldsymbol x$, and $\\mu$ is the step-size for the gradient descent updates."
      ]
    },
    {
      "cell_type": "markdown",
      "metadata": {
        "id": "a52ffMcrYu1G"
      },
      "source": [
        "**Exercise 3 (25 points).** Write down the equation for the gradient descent of the considered problem. Starting from an initial weight matrix of all zeros $\\boldsymbol W^{(0)}=\\boldsymbol 0$ implement a gradient descent optimization algorithm to find the optimal solution to our classification problem. Run the method for a sufficiently large number of iterations or until you meet some convergence criterion (_e.g.,_ relative change of the cost function smaller than some threshold). On two separate plots, display the evolution of the cost function over the iterations and the difference (error) between your current estimate and the optimal estimate $\\lVert \\boldsymbol W^\\star - \\boldsymbol W^{(k)} \\rVert_F^2$. Since the considered cost function has a unique and global minimizer your iterates should converge to the optimal solution obtained from the analytical expression."
      ]
    },
    {
      "cell_type": "markdown",
      "metadata": {
        "id": "hDnK4upde4F2"
      },
      "source": [
        "*Write the expression for the gradient update in this cell*\n",
        "$$ W^{(k+1)} = W^k  - \\mu \\dfrac{d}{dW} (\\dfrac{1}{N}(Y-W^kX)^2)    $$\n",
        "\n",
        "$$ W^{(k+1)} = W^k  - \\dfrac{2 \\mu}{N} (Y-W^kX)\\dfrac{d}{dW}(Y - W^kX)    $$\n",
        "\n",
        "$$ W^{(k+1)} = W^k  - \\dfrac{2 \\mu}{N} (Y-W^kX)(0 - X^T)    $$\n",
        "\n",
        "$$ \\boldsymbol{ W^{(k+1)} = W^k  + \\dfrac{2 \\mu}{N} (Y-W^kX)X^T}    $$"
      ]
    },
    {
      "cell_type": "code",
      "metadata": {
        "id": "Qb4FNIthqdcw"
      },
      "source": [
        "# Adjust these values if needed\n",
        "numIterations = 1000\n",
        "stepSize = 1e-2\n",
        "\n",
        "# ============================================================================\n",
        "# Solve Exercise 3 below\n",
        "# ============================================================================\n",
        "W = np.zeros((10,p))\n",
        "costf=np.zeros(numIterations)\n",
        "error=np.zeros(numIterations)\n",
        "for m in range(numIterations):\n",
        "  costf[m]=np.linalg.norm(y-W@x)\n",
        "  gradient=2*stepSize/N*((y-W@x)@np.transpose(x))\n",
        "  W=W+gradient\n",
        "  error[m]=np.linalg.norm(ws-W)\n",
        "  \n",
        "  \n",
        "\n",
        "    "
      ],
      "execution_count": 14,
      "outputs": []
    },
    {
      "cell_type": "code",
      "metadata": {
        "colab": {
          "base_uri": "https://localhost:8080/",
          "height": 591
        },
        "id": "-22XXbQwHcP-",
        "outputId": "1a5532c2-1a4c-4e97-bf40-60c90507d24b"
      },
      "source": [
        "plt.figure()\n",
        "plt.plot(costf)\n",
        "plt.title('Cost with iterations')\n",
        "plt.xlabel('Iterations')\n",
        "plt.ylabel('Cost')\n",
        "plt.figure()\n",
        "plt.plot(error)\n",
        "plt.title('Error with iterations')\n",
        "plt.xlabel('Iterations')\n",
        "plt.ylabel('Error')"
      ],
      "execution_count": 15,
      "outputs": [
        {
          "output_type": "execute_result",
          "data": {
            "text/plain": [
              "Text(0, 0.5, 'Error')"
            ]
          },
          "metadata": {},
          "execution_count": 15
        },
        {
          "output_type": "display_data",
          "data": {
            "image/png": "[encoded data removed]",
            "text/plain": [
              "<Figure size 432x288 with 1 Axes>"
            ]
          },
          "metadata": {
            "needs_background": "light"
          }
        },
        {
          "output_type": "display_data",
          "data": {
            "image/png": "[encoded data removed]",
            "text/plain": [
              "<Figure size 432x288 with 1 Axes>"
            ]
          },
          "metadata": {
            "needs_background": "light"
          }
        }
      ]
    },
    {
      "cell_type": "markdown",
      "metadata": {
        "id": "DD3QUdwLKImc"
      },
      "source": [
        "**Exercise 4 (25 points).** Repeat the exercise before but now using PyTorch taking advantage of its automatic differentiation feature that will compute the gradients for you. Go to the [PyTorch tutorials](https://pytorch.org/tutorials/beginner/pytorch_with_examples.html) page in order to learn how to manipulate tensors with autograd. You can use random initialization for the weights $\\boldsymbol W^{(0)}$."
      ]
    },
    {
      "cell_type": "code",
      "metadata": {
        "id": "HI0SyJS2kxBC",
        "colab": {
          "base_uri": "https://localhost:8080/",
          "height": 591
        },
        "outputId": "97cfcee9-88a5-42a4-d2ed-7c7f3d4b4223"
      },
      "source": [
        "# Adjust these values if needed\n",
        "numIterations = 1000\n",
        "stepSize = 1e-2\n",
        "\n",
        "# ============================================================================\n",
        "# Solve Exercise 4 below\n",
        "# ============================================================================\n",
        "W = torch.randn(10,p, requires_grad=True) # Initialize to random tensor\n",
        "X = torch.from_numpy(x).float() \n",
        "Y = torch.from_numpy(y).float()\n",
        "losses = []\n",
        "errors = []\n",
        "\n",
        "for m in range(numIterations):\n",
        "    # Calculate loss here then backward propagate\n",
        "    Diff = Y - W.mm(X)\n",
        "    loss = (Diff).pow(2).sum()/N\n",
        "    loss.backward()\n",
        "\n",
        "    \n",
        "    with torch.no_grad():\n",
        "        # Update W here \n",
        "        W -= stepSize * W.grad\n",
        "        W.grad.zero_()\n",
        "    losses.append(loss.item())\n",
        "    errors.append(np.sum((ws - W.detach().numpy()) ** 2))\n",
        "\n",
        "plt.plot(losses)\n",
        "plt.xlabel(\"Iterations\")\n",
        "plt.ylabel(\"Cost\")\n",
        "plt.title(\"Cost Function Vs. Iterations\")\n",
        "\n",
        "plt.figure()\n",
        "plt.plot(errors)\n",
        "plt.xlabel(\"Iterations\")\n",
        "plt.ylabel(\"Error\")\n",
        "plt.title(\"Current State Vs. Optimal State Error\")"
      ],
      "execution_count": 19,
      "outputs": [
        {
          "output_type": "execute_result",
          "data": {
            "text/plain": [
              "Text(0.5, 1.0, 'Current State Vs. Optimal State Error')"
            ]
          },
          "metadata": {},
          "execution_count": 19
        },
        {
          "output_type": "display_data",
          "data": {
            "image/png": "[encoded data removed]",
            "text/plain": [
              "<Figure size 432x288 with 1 Axes>"
            ]
          },
          "metadata": {
            "needs_background": "light"
          }
        },
        {
          "output_type": "display_data",
          "data": {
            "image/png": "[encoded data removed]",
            "text/plain": [
              "<Figure size 432x288 with 1 Axes>"
            ]
          },
          "metadata": {
            "needs_background": "light"
          }
        }
      ]
    }
  ]
}